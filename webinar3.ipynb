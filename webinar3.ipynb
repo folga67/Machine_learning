{
  "nbformat": 4,
  "nbformat_minor": 0,
  "metadata": {
    "kernelspec": {
      "display_name": "Python 3",
      "language": "python",
      "name": "python3"
    },
    "language_info": {
      "codemirror_mode": {
        "name": "ipython",
        "version": 3
      },
      "file_extension": ".py",
      "mimetype": "text/x-python",
      "name": "python",
      "nbconvert_exporter": "python",
      "pygments_lexer": "ipython3",
      "version": "3.8.3"
    },
    "colab": {
      "name": "webinar3.ipynb",
      "provenance": [],
      "collapsed_sections": [
        "ZZmOzHpvF2bv",
        "5tTapckXF2bw",
        "IqGshAdbF2b0"
      ],
      "include_colab_link": true
    }
  },
  "cells": [
    {
      "cell_type": "markdown",
      "metadata": {
        "id": "view-in-github",
        "colab_type": "text"
      },
      "source": [
        "<a href=\"https://colab.research.google.com/github/folga67/data_mining/blob/master/webinar3.ipynb\" target=\"_parent\"><img src=\"https://colab.research.google.com/assets/colab-badge.svg\" alt=\"Open In Colab\"/></a>"
      ]
    },
    {
      "cell_type": "markdown",
      "metadata": {
        "id": "cswgDyKoF2ba"
      },
      "source": [
        "### Урок3. Связь бизнес-показателей и DS-метрик"
      ]
    },
    {
      "cell_type": "markdown",
      "metadata": {
        "id": "sR7s4UJJF2bc"
      },
      "source": [
        "План занятия:\n",
        "0. Ликбез: train/test/val и crossvalidation\n",
        "1. переход от вероятностей к меткам в задаче бинарной классификации\n",
        "2. какие бывают DS-метрики, их интерпретация\n",
        "3. пример из практики\n",
        "4. бизнес-метрики\n",
        "5. взаимосвязь DS и бизнес метрик\n",
        "6. case1 - фильтрация токсичных комментариев\n",
        "7. case2 - определение ССЗ "
      ]
    },
    {
      "cell_type": "markdown",
      "metadata": {
        "id": "F8OJBICQF2bd"
      },
      "source": [
        "### Разбивка на train/test/val"
      ]
    },
    {
      "cell_type": "markdown",
      "metadata": {
        "id": "fMMBYg_rF2be"
      },
      "source": [
        "![ab_split](Sets.png \"Tr_Test_val\")"
      ]
    },
    {
      "cell_type": "markdown",
      "metadata": {
        "id": "uV9_OhmCF2be"
      },
      "source": [
        "#### Вопрос 1: в чем назначение каждого из набора данных?"
      ]
    },
    {
      "cell_type": "markdown",
      "metadata": {
        "id": "aYZnjRDIF2bf"
      },
      "source": [
        "### Кроссвалидация (CV)"
      ]
    },
    {
      "cell_type": "markdown",
      "metadata": {
        "id": "lxcaJFZaF2bf"
      },
      "source": [
        "![ab_split](cv.png \"CV\")"
      ]
    },
    {
      "cell_type": "markdown",
      "metadata": {
        "id": "cnqoqsE8F2bf"
      },
      "source": [
        "### Задача бинарной классификации"
      ]
    },
    {
      "cell_type": "markdown",
      "metadata": {
        "id": "k8RjWGMeF2bg"
      },
      "source": [
        "![ab_split](binary_clf1.jpg \"binary1\")"
      ]
    },
    {
      "cell_type": "markdown",
      "metadata": {
        "id": "trTRJMlKF2bg"
      },
      "source": [
        "Бинарный классификатор выдает нам \"вероятности\" (всегда ли?). Вроде 0.13, 0.87, etc\n",
        "\n",
        "Однако нам от этого всего мало пользы и требуется в рамках практической задачи получить метки классов.\n",
        "\n",
        "Например, в задаче оттока нам нужно отобрать подмножество пользователей, которые собираются уйти от нас для дальнейшей работы. \n"
      ]
    },
    {
      "cell_type": "markdown",
      "metadata": {
        "id": "iqpZLkDQF2bh"
      },
      "source": [
        "Очевидное решение:\n",
        "1. проскорить пользователей нашей моделью\n",
        "2. отсортировать по убыванию \"вероятности\" (предсказаний нашей модели) - мы предполагаем, что чем больше \"вероятность\" ухода, тем более склонен конкретный пользователь уйти в отток\n",
        "3. взять какой-то топ N пользователей получившегося списка"
      ]
    },
    {
      "cell_type": "markdown",
      "metadata": {
        "id": "Nb6hNVxeF2bh"
      },
      "source": [
        "<b>Вопрос: какой N должен быть?</b>"
      ]
    },
    {
      "cell_type": "markdown",
      "metadata": {
        "id": "FSQ0vAcSF2bh"
      },
      "source": [
        "<b>И еще вопрос: почему мы не можем взять тупо весь список?</b>"
      ]
    },
    {
      "cell_type": "markdown",
      "metadata": {
        "id": "uoVaOvF1F2bh"
      },
      "source": [
        "Выгода для клиента часто может быть невыгодна для сервиса/компании/оператора связи/etc (вернемся к этому немного позже)"
      ]
    },
    {
      "cell_type": "markdown",
      "metadata": {
        "id": "_hlbP0eLF2bi"
      },
      "source": [
        "### Задача бинарной классификации"
      ]
    },
    {
      "cell_type": "markdown",
      "metadata": {
        "id": "0fUGYW1-F2bi"
      },
      "source": [
        "Проиллюстрируем на примере"
      ]
    },
    {
      "cell_type": "markdown",
      "metadata": {
        "id": "PnMzy69dF2bi"
      },
      "source": [
        "![ab_split](binary_clf2.jpg \"binary2\")"
      ]
    },
    {
      "cell_type": "markdown",
      "metadata": {
        "id": "LlWmD_xcF2bi"
      },
      "source": [
        "На практике чаще все не так идеально:"
      ]
    },
    {
      "cell_type": "markdown",
      "metadata": {
        "id": "XFB-28YQF2bj"
      },
      "source": [
        "![ab_split](binary_clf3.png \"binary3\")"
      ]
    },
    {
      "cell_type": "markdown",
      "metadata": {
        "id": "jO6_Kj6cF2bj"
      },
      "source": [
        "Пусть классификатор выдаёт метку класса. \n",
        "\n",
        "Обозначения: \n",
        "* yi – метка i-го объекта, \n",
        "* ai – ответ на конкретном объекте нашего алгоритма (предсказание), \n",
        "* m – число объектов в выборке\n",
        "\n",
        "Самым простым и распространённым функционалом качества является точность (Accuracy или Mean Consequential Error):"
      ]
    },
    {
      "cell_type": "markdown",
      "metadata": {
        "id": "SMwNT0cTF2bj"
      },
      "source": [
        "![ab_split](accuracy.png \"accuracy\")"
      ]
    },
    {
      "cell_type": "markdown",
      "metadata": {
        "id": "kALCcGT9F2bj"
      },
      "source": [
        "<b>Вопрос: в чем проблема такой метрики?</b>"
      ]
    },
    {
      "cell_type": "markdown",
      "metadata": {
        "id": "vopNCJcoF2bj"
      },
      "source": [
        "<b>В каком случае она может быть использована?</b>"
      ]
    },
    {
      "cell_type": "markdown",
      "metadata": {
        "id": "rIsYN14gF2bk"
      },
      "source": [
        "Т.е это просто доля (процент) объектов, на которых алгоритм выдал правильные ответы. Недостаток такого функционала понятен: он плохо справляется в случае дисбаланса классов, когда представителей одного из классов существенно больше, чем второго. В этом случае, с точки зрения точности, выгодно почти всегда выдавать метку самого популярного класса. Это может не согласовываться с логикой использования решения задачи. Например, в задаче детектирования редкого заболевания алгоритм, который всех относит к классу «здоровые», бесполезен."
      ]
    },
    {
      "cell_type": "markdown",
      "metadata": {
        "id": "RMrB9m3kF2bk"
      },
      "source": [
        "Такая метрика нам не подходит (если выборка сбалансирована, то может и подойти), давайте двигаться далее"
      ]
    },
    {
      "cell_type": "markdown",
      "metadata": {
        "id": "05FDMzwDF2bk"
      },
      "source": [
        "Рассмотрим такую штуку, как confusion_matrix"
      ]
    },
    {
      "cell_type": "markdown",
      "metadata": {
        "id": "5iMhdaa0F2bk"
      },
      "source": [
        "![ab_split](confusion_matrix.png \"confusion_matrix\")"
      ]
    },
    {
      "cell_type": "markdown",
      "metadata": {
        "id": "iyaFEODhF2bk"
      },
      "source": [
        "Пример"
      ]
    },
    {
      "cell_type": "markdown",
      "metadata": {
        "id": "leqeASmSF2bl"
      },
      "source": [
        "![ab_split](conf_matrix.png \"confusion_matrix\")"
      ]
    },
    {
      "cell_type": "markdown",
      "metadata": {
        "id": "qWfNFmGwF2bl"
      },
      "source": [
        "Два класса делятся на положительный (обычно метка 1) и отрицательный (обычно метка 0 или –1). \n",
        "\n",
        "Объекты, которые алгоритм относит к положительному классу, называются положительными (Positive), те из них, которые на самом деле принадлежат к этому классу – истинно положительными (True Positive), остальные – ложно положительными (False Positive). Аналогичная терминология есть для отрицательного (Negative) класса. \n",
        "\n",
        "Дальше используем естественные сокращения:\n",
        "\n",
        "* TP = True Positive,\n",
        "* TN = True Negative,\n",
        "* FP = False Positive,\n",
        "* FN = False Negative."
      ]
    },
    {
      "cell_type": "markdown",
      "metadata": {
        "id": "AAn7bkPgF2bl"
      },
      "source": [
        "![ab_split](accuracy2.png \"accuracy2\")"
      ]
    },
    {
      "cell_type": "markdown",
      "metadata": {
        "id": "0Onke7ZtF2bl"
      },
      "source": [
        "<b>Пример</b>\n",
        "\n",
        "Допустим, мы хотим оценить работу системы, которая определяет токсичность комментариев. У нас есть 1000 обычных комментариев, 900 из которых наш бинарный классификатор определил верно как нормальные (True Negative = 900, False Positive = 100), и 50 токсичных комментариев, 25 из которых классификатор также определил верно (True Positive = 25, False Negative = 25).\n",
        "\n",
        "Тогда accuracy получается таким:"
      ]
    },
    {
      "cell_type": "code",
      "metadata": {
        "id": "mqabrjKEF2bm",
        "outputId": "55212342-4db2-49d0-bd79-317518fed433"
      },
      "source": [
        "accuracy = (25+900)/(900+100+25+25)\n",
        "print(accuracy)"
      ],
      "execution_count": null,
      "outputs": [
        {
          "output_type": "stream",
          "text": [
            "0.8809523809523809\n"
          ],
          "name": "stdout"
        }
      ]
    },
    {
      "cell_type": "markdown",
      "metadata": {
        "id": "h2cLC2VrF2bm"
      },
      "source": [
        "А что если у нас тупой классификатор, который отвечает всегда, что комментарий не является токсичным?"
      ]
    },
    {
      "cell_type": "code",
      "metadata": {
        "id": "fMN1Nh5IF2bm",
        "outputId": "9901dadc-b3cc-4700-aee5-72959ae59913"
      },
      "source": [
        "accuracy = (1000)/(900+100+25+25)\n",
        "print(accuracy)"
      ],
      "execution_count": null,
      "outputs": [
        {
          "output_type": "stream",
          "text": [
            "0.9523809523809523\n"
          ],
          "name": "stdout"
        }
      ]
    },
    {
      "cell_type": "markdown",
      "metadata": {
        "id": "2gPn3BjJF2bn"
      },
      "source": [
        "Видим, что accuracy выше, но нам явно такой классификатор не нужен"
      ]
    },
    {
      "cell_type": "markdown",
      "metadata": {
        "id": "CUaEdlrPF2bn"
      },
      "source": [
        "### Ошибки первого и второго рода"
      ]
    },
    {
      "cell_type": "markdown",
      "metadata": {
        "id": "h6M_cn1CF2bn"
      },
      "source": [
        "Ошибки классификатора делятся на две группы: первого и второго рода. \n",
        "\n",
        "В идеале (когда точность равна 100%) матрица несоответствий диагональная, ошибки вызывают отличие от нуля двух недиагональных элементов:"
      ]
    },
    {
      "cell_type": "markdown",
      "metadata": {
        "id": "_fEGhVFpF2bn"
      },
      "source": [
        "ошибка 1 рода (Type I Error) случается, когда у объекта положительный класс ошибочно отвергается (= FN/m).\n",
        "\n",
        "\n",
        "ошибка 2 рода (Type II Error) случается, когда объект ошибочно относится к положительному классу (= FP/m)."
      ]
    },
    {
      "cell_type": "markdown",
      "metadata": {
        "id": "g8vCf7QFF2bo"
      },
      "source": [
        "<b>Вопрос: являются ли эти ошибки равнозначными? В каких случаях да, а в каких нет? Приведите примеры</b>"
      ]
    },
    {
      "cell_type": "markdown",
      "metadata": {
        "id": "nWRubQIvF2bo"
      },
      "source": [
        "### Другие метрики качества бинарной классификации"
      ]
    },
    {
      "cell_type": "markdown",
      "metadata": {
        "id": "IEfl3P7LF2bo"
      },
      "source": [
        "Раз уж мы разобрались с тем, что ошибки на разных классах имеют разный вес в рамках конкретной прикладной задачи, давайте введем метрики качества отдельно для классов"
      ]
    },
    {
      "cell_type": "markdown",
      "metadata": {
        "id": "uf5-alqeF2bp"
      },
      "source": [
        "![ab_split](pr_rec.png \"PRRecall\")"
      ]
    },
    {
      "cell_type": "markdown",
      "metadata": {
        "id": "m-eW-uipF2bp"
      },
      "source": [
        "Precision можно интерпретировать как долю объектов, названных классификатором положительными и при этом действительно являющимися положительными, а recall показывает, какую долю объектов положительного класса из всех объектов положительного класса нашел алгоритм."
      ]
    },
    {
      "cell_type": "markdown",
      "metadata": {
        "id": "Zv2ueijzF2bp"
      },
      "source": [
        "![ab_split](pr_rec2.png \"PRRecall2\")"
      ]
    },
    {
      "cell_type": "markdown",
      "metadata": {
        "id": "SC5FjrZGF2bp"
      },
      "source": [
        "Вернемся к примеру с токсичными сообщениями"
      ]
    },
    {
      "cell_type": "markdown",
      "metadata": {
        "id": "FKCudqV2F2bp"
      },
      "source": [
        "Допустим, мы хотим оценить работу системы, которая определяет токсичность комментариев. У нас есть 1000 обычных комментариев, 900 из которых наш бинарный классификатор определил верно как нормальные (True Negative = 900, False Positive = 100), и 50 токсичных комментариев, 25 из которых классификатор также определил верно (True Positive = 25, False Negative = 25)."
      ]
    },
    {
      "cell_type": "code",
      "metadata": {
        "id": "h2a0H8yMF2bq",
        "outputId": "a5cdddc0-b123-4656-be66-67815ddef67a"
      },
      "source": [
        "precision = 25/(25+100)\n",
        "recall = 25/(25+25)\n",
        "print(\"Precision: {}\".format(precision))\n",
        "print(\"Recall: {}\".format(recall))"
      ],
      "execution_count": null,
      "outputs": [
        {
          "output_type": "stream",
          "text": [
            "Precision: 0.2\n",
            "Recall: 0.5\n"
          ],
          "name": "stdout"
        }
      ]
    },
    {
      "cell_type": "markdown",
      "metadata": {
        "id": "-ZLtPdoeF2bq"
      },
      "source": [
        "<b>Вопрос: что мы можем сделать с прогнозами классификатора, чтобы поменять эти значения?</b>"
      ]
    },
    {
      "cell_type": "markdown",
      "metadata": {
        "id": "_edHJglcF2br"
      },
      "source": [
        "<b>Бонусный вопрос: что будет с precision, если порог классификации выбрать равным 0? А с recall?</b>"
      ]
    },
    {
      "cell_type": "markdown",
      "metadata": {
        "id": "qtcuOLCIF2br"
      },
      "source": [
        "<b>Пример</b>"
      ]
    },
    {
      "cell_type": "code",
      "metadata": {
        "colab": {
          "base_uri": "https://localhost:8080/",
          "height": 355
        },
        "id": "KNZnzgNEF2br",
        "outputId": "77a4c351-f55d-4bdb-dc41-0950269310b0"
      },
      "source": [
        "import pandas as pd\n",
        "\n",
        "df = pd.DataFrame({'y_true': [0,1,1,0,1,0,0,0,0,1], \n",
        "              'y_score': [0.1, 0.98, 0.52, 0.2, 0.41, 0.21, 0.95, 0.14, 0.01, 0.16]})\n",
        "df"
      ],
      "execution_count": null,
      "outputs": [
        {
          "output_type": "execute_result",
          "data": {
            "text/html": [
              "<div>\n",
              "<style scoped>\n",
              "    .dataframe tbody tr th:only-of-type {\n",
              "        vertical-align: middle;\n",
              "    }\n",
              "\n",
              "    .dataframe tbody tr th {\n",
              "        vertical-align: top;\n",
              "    }\n",
              "\n",
              "    .dataframe thead th {\n",
              "        text-align: right;\n",
              "    }\n",
              "</style>\n",
              "<table border=\"1\" class=\"dataframe\">\n",
              "  <thead>\n",
              "    <tr style=\"text-align: right;\">\n",
              "      <th></th>\n",
              "      <th>y_true</th>\n",
              "      <th>y_score</th>\n",
              "    </tr>\n",
              "  </thead>\n",
              "  <tbody>\n",
              "    <tr>\n",
              "      <th>0</th>\n",
              "      <td>0</td>\n",
              "      <td>0.10</td>\n",
              "    </tr>\n",
              "    <tr>\n",
              "      <th>1</th>\n",
              "      <td>1</td>\n",
              "      <td>0.98</td>\n",
              "    </tr>\n",
              "    <tr>\n",
              "      <th>2</th>\n",
              "      <td>1</td>\n",
              "      <td>0.52</td>\n",
              "    </tr>\n",
              "    <tr>\n",
              "      <th>3</th>\n",
              "      <td>0</td>\n",
              "      <td>0.20</td>\n",
              "    </tr>\n",
              "    <tr>\n",
              "      <th>4</th>\n",
              "      <td>1</td>\n",
              "      <td>0.41</td>\n",
              "    </tr>\n",
              "    <tr>\n",
              "      <th>5</th>\n",
              "      <td>0</td>\n",
              "      <td>0.21</td>\n",
              "    </tr>\n",
              "    <tr>\n",
              "      <th>6</th>\n",
              "      <td>0</td>\n",
              "      <td>0.95</td>\n",
              "    </tr>\n",
              "    <tr>\n",
              "      <th>7</th>\n",
              "      <td>0</td>\n",
              "      <td>0.14</td>\n",
              "    </tr>\n",
              "    <tr>\n",
              "      <th>8</th>\n",
              "      <td>0</td>\n",
              "      <td>0.01</td>\n",
              "    </tr>\n",
              "    <tr>\n",
              "      <th>9</th>\n",
              "      <td>1</td>\n",
              "      <td>0.16</td>\n",
              "    </tr>\n",
              "  </tbody>\n",
              "</table>\n",
              "</div>"
            ],
            "text/plain": [
              "   y_true  y_score\n",
              "0       0     0.10\n",
              "1       1     0.98\n",
              "2       1     0.52\n",
              "3       0     0.20\n",
              "4       1     0.41\n",
              "5       0     0.21\n",
              "6       0     0.95\n",
              "7       0     0.14\n",
              "8       0     0.01\n",
              "9       1     0.16"
            ]
          },
          "metadata": {
            "tags": []
          },
          "execution_count": 37
        }
      ]
    },
    {
      "cell_type": "markdown",
      "metadata": {
        "id": "jlVMa7CEF2br"
      },
      "source": [
        "Отсортируем по y_score"
      ]
    },
    {
      "cell_type": "code",
      "metadata": {
        "id": "pDRct2aYF2bs",
        "outputId": "f8b951e1-07b6-41f1-e1ac-8fc1f791ee3b"
      },
      "source": [
        "df = df.sort_values(by='y_score', ascending=False)\n",
        "df"
      ],
      "execution_count": null,
      "outputs": [
        {
          "output_type": "execute_result",
          "data": {
            "text/html": [
              "<div>\n",
              "<style scoped>\n",
              "    .dataframe tbody tr th:only-of-type {\n",
              "        vertical-align: middle;\n",
              "    }\n",
              "\n",
              "    .dataframe tbody tr th {\n",
              "        vertical-align: top;\n",
              "    }\n",
              "\n",
              "    .dataframe thead th {\n",
              "        text-align: right;\n",
              "    }\n",
              "</style>\n",
              "<table border=\"1\" class=\"dataframe\">\n",
              "  <thead>\n",
              "    <tr style=\"text-align: right;\">\n",
              "      <th></th>\n",
              "      <th>y_true</th>\n",
              "      <th>y_score</th>\n",
              "    </tr>\n",
              "  </thead>\n",
              "  <tbody>\n",
              "    <tr>\n",
              "      <th>1</th>\n",
              "      <td>1</td>\n",
              "      <td>0.98</td>\n",
              "    </tr>\n",
              "    <tr>\n",
              "      <th>6</th>\n",
              "      <td>0</td>\n",
              "      <td>0.95</td>\n",
              "    </tr>\n",
              "    <tr>\n",
              "      <th>2</th>\n",
              "      <td>1</td>\n",
              "      <td>0.52</td>\n",
              "    </tr>\n",
              "    <tr>\n",
              "      <th>4</th>\n",
              "      <td>1</td>\n",
              "      <td>0.41</td>\n",
              "    </tr>\n",
              "    <tr>\n",
              "      <th>5</th>\n",
              "      <td>0</td>\n",
              "      <td>0.21</td>\n",
              "    </tr>\n",
              "    <tr>\n",
              "      <th>3</th>\n",
              "      <td>0</td>\n",
              "      <td>0.20</td>\n",
              "    </tr>\n",
              "    <tr>\n",
              "      <th>9</th>\n",
              "      <td>1</td>\n",
              "      <td>0.16</td>\n",
              "    </tr>\n",
              "    <tr>\n",
              "      <th>7</th>\n",
              "      <td>0</td>\n",
              "      <td>0.14</td>\n",
              "    </tr>\n",
              "    <tr>\n",
              "      <th>0</th>\n",
              "      <td>0</td>\n",
              "      <td>0.10</td>\n",
              "    </tr>\n",
              "    <tr>\n",
              "      <th>8</th>\n",
              "      <td>0</td>\n",
              "      <td>0.01</td>\n",
              "    </tr>\n",
              "  </tbody>\n",
              "</table>\n",
              "</div>"
            ],
            "text/plain": [
              "   y_true  y_score\n",
              "1       1     0.98\n",
              "6       0     0.95\n",
              "2       1     0.52\n",
              "4       1     0.41\n",
              "5       0     0.21\n",
              "3       0     0.20\n",
              "9       1     0.16\n",
              "7       0     0.14\n",
              "0       0     0.10\n",
              "8       0     0.01"
            ]
          },
          "metadata": {
            "tags": []
          },
          "execution_count": 3
        }
      ]
    },
    {
      "cell_type": "markdown",
      "metadata": {
        "id": "EUwRnnH3F2bs"
      },
      "source": [
        "У нас всего 10 объектов, из которых 4 относятся к классу \"1\" и 6 - к классу \"0\""
      ]
    },
    {
      "cell_type": "markdown",
      "metadata": {
        "id": "kYQfsxKVF2bs"
      },
      "source": [
        "Для того, чтобы перейти от \"вероятностей\" (y_score) к меткам, выберем порог. Начнем с 0.5"
      ]
    },
    {
      "cell_type": "code",
      "metadata": {
        "id": "-hJ5M38iF2bt",
        "outputId": "1440073a-2e96-437a-8486-a66811bbc881"
      },
      "source": [
        "th = 0.5\n",
        "df['y_score_class'] = df['y_score'].apply(lambda x: 1 if x>=th else 0, 1)\n",
        "df"
      ],
      "execution_count": null,
      "outputs": [
        {
          "output_type": "execute_result",
          "data": {
            "text/html": [
              "<div>\n",
              "<style scoped>\n",
              "    .dataframe tbody tr th:only-of-type {\n",
              "        vertical-align: middle;\n",
              "    }\n",
              "\n",
              "    .dataframe tbody tr th {\n",
              "        vertical-align: top;\n",
              "    }\n",
              "\n",
              "    .dataframe thead th {\n",
              "        text-align: right;\n",
              "    }\n",
              "</style>\n",
              "<table border=\"1\" class=\"dataframe\">\n",
              "  <thead>\n",
              "    <tr style=\"text-align: right;\">\n",
              "      <th></th>\n",
              "      <th>y_true</th>\n",
              "      <th>y_score</th>\n",
              "      <th>y_score_class</th>\n",
              "    </tr>\n",
              "  </thead>\n",
              "  <tbody>\n",
              "    <tr>\n",
              "      <th>1</th>\n",
              "      <td>1</td>\n",
              "      <td>0.98</td>\n",
              "      <td>1</td>\n",
              "    </tr>\n",
              "    <tr>\n",
              "      <th>6</th>\n",
              "      <td>0</td>\n",
              "      <td>0.95</td>\n",
              "      <td>1</td>\n",
              "    </tr>\n",
              "    <tr>\n",
              "      <th>2</th>\n",
              "      <td>1</td>\n",
              "      <td>0.52</td>\n",
              "      <td>1</td>\n",
              "    </tr>\n",
              "    <tr>\n",
              "      <th>4</th>\n",
              "      <td>1</td>\n",
              "      <td>0.41</td>\n",
              "      <td>0</td>\n",
              "    </tr>\n",
              "    <tr>\n",
              "      <th>5</th>\n",
              "      <td>0</td>\n",
              "      <td>0.21</td>\n",
              "      <td>0</td>\n",
              "    </tr>\n",
              "    <tr>\n",
              "      <th>3</th>\n",
              "      <td>0</td>\n",
              "      <td>0.20</td>\n",
              "      <td>0</td>\n",
              "    </tr>\n",
              "    <tr>\n",
              "      <th>9</th>\n",
              "      <td>1</td>\n",
              "      <td>0.16</td>\n",
              "      <td>0</td>\n",
              "    </tr>\n",
              "    <tr>\n",
              "      <th>7</th>\n",
              "      <td>0</td>\n",
              "      <td>0.14</td>\n",
              "      <td>0</td>\n",
              "    </tr>\n",
              "    <tr>\n",
              "      <th>0</th>\n",
              "      <td>0</td>\n",
              "      <td>0.10</td>\n",
              "      <td>0</td>\n",
              "    </tr>\n",
              "    <tr>\n",
              "      <th>8</th>\n",
              "      <td>0</td>\n",
              "      <td>0.01</td>\n",
              "      <td>0</td>\n",
              "    </tr>\n",
              "  </tbody>\n",
              "</table>\n",
              "</div>"
            ],
            "text/plain": [
              "   y_true  y_score  y_score_class\n",
              "1       1     0.98              1\n",
              "6       0     0.95              1\n",
              "2       1     0.52              1\n",
              "4       1     0.41              0\n",
              "5       0     0.21              0\n",
              "3       0     0.20              0\n",
              "9       1     0.16              0\n",
              "7       0     0.14              0\n",
              "0       0     0.10              0\n",
              "8       0     0.01              0"
            ]
          },
          "metadata": {
            "tags": []
          },
          "execution_count": 4
        }
      ]
    },
    {
      "cell_type": "code",
      "metadata": {
        "id": "ICnPYzTxF2bt",
        "outputId": "53ce24d0-c9c0-46b1-aef8-c6cccc1662c8"
      },
      "source": [
        "tp = 2\n",
        "fp = 1\n",
        "tn = 5\n",
        "fn = 2\n",
        "\n",
        "precison = tp/(tp+fp)\n",
        "recall = tp/(tp+fn)\n",
        "print(\"Precision: {}\".format(precision))\n",
        "print(\"Recall: {}\".format(recall))"
      ],
      "execution_count": null,
      "outputs": [
        {
          "output_type": "stream",
          "text": [
            "Precision: 0.2\n",
            "Recall: 0.5\n"
          ],
          "name": "stdout"
        }
      ]
    },
    {
      "cell_type": "markdown",
      "metadata": {
        "id": "OJRezIBKF2bt"
      },
      "source": [
        "Попробуем другой порог - 0.4"
      ]
    },
    {
      "cell_type": "code",
      "metadata": {
        "id": "1vyZf3SAF2bt",
        "colab": {
          "base_uri": "https://localhost:8080/",
          "height": 201
        },
        "outputId": "bf8471a8-f09c-4579-a36d-d9b9e01a23cb"
      },
      "source": [
        "th = 0.4\n",
        "df['y_score_class'] = df['y_score'].apply(lambda x: 1 if x>=th else 0, 1)\n",
        "df"
      ],
      "execution_count": null,
      "outputs": [
        {
          "output_type": "error",
          "ename": "NameError",
          "evalue": "ignored",
          "traceback": [
            "\u001b[0;31m---------------------------------------------------------------------------\u001b[0m",
            "\u001b[0;31mNameError\u001b[0m                                 Traceback (most recent call last)",
            "\u001b[0;32m<ipython-input-1-10fcc7a9c2c4>\u001b[0m in \u001b[0;36m<module>\u001b[0;34m()\u001b[0m\n\u001b[1;32m      1\u001b[0m \u001b[0mth\u001b[0m \u001b[0;34m=\u001b[0m \u001b[0;36m0.4\u001b[0m\u001b[0;34m\u001b[0m\u001b[0;34m\u001b[0m\u001b[0m\n\u001b[0;32m----> 2\u001b[0;31m \u001b[0mdf\u001b[0m\u001b[0;34m[\u001b[0m\u001b[0;34m'y_score_class'\u001b[0m\u001b[0;34m]\u001b[0m \u001b[0;34m=\u001b[0m \u001b[0mdf\u001b[0m\u001b[0;34m[\u001b[0m\u001b[0;34m'y_score'\u001b[0m\u001b[0;34m]\u001b[0m\u001b[0;34m.\u001b[0m\u001b[0mapply\u001b[0m\u001b[0;34m(\u001b[0m\u001b[0;32mlambda\u001b[0m \u001b[0mx\u001b[0m\u001b[0;34m:\u001b[0m \u001b[0;36m1\u001b[0m \u001b[0;32mif\u001b[0m \u001b[0mx\u001b[0m\u001b[0;34m>=\u001b[0m\u001b[0mth\u001b[0m \u001b[0;32melse\u001b[0m \u001b[0;36m0\u001b[0m\u001b[0;34m,\u001b[0m \u001b[0;36m1\u001b[0m\u001b[0;34m)\u001b[0m\u001b[0;34m\u001b[0m\u001b[0;34m\u001b[0m\u001b[0m\n\u001b[0m\u001b[1;32m      3\u001b[0m \u001b[0mdf\u001b[0m\u001b[0;34m\u001b[0m\u001b[0;34m\u001b[0m\u001b[0m\n",
            "\u001b[0;31mNameError\u001b[0m: name 'df' is not defined"
          ]
        }
      ]
    },
    {
      "cell_type": "code",
      "metadata": {
        "id": "eSQy1F1IF2bu",
        "outputId": "77d9911b-67bd-44ee-c6d1-07e8bce46a59"
      },
      "source": [
        "tp = 3\n",
        "fp = 1\n",
        "tn = 5\n",
        "fn = 1\n",
        "\n",
        "precision = tp/(tp+fp)\n",
        "recall = tp/(tp+fn)\n",
        "print(\"Precision: {}\".format(precision))\n",
        "print(\"Recall: {}\".format(recall))"
      ],
      "execution_count": null,
      "outputs": [
        {
          "output_type": "stream",
          "text": [
            "Precision: 0.75\n",
            "Recall: 0.75\n"
          ],
          "name": "stdout"
        }
      ]
    },
    {
      "cell_type": "markdown",
      "metadata": {
        "id": "DcHI5pAoF2bu"
      },
      "source": [
        "А что если понизить порог до 0.15"
      ]
    },
    {
      "cell_type": "code",
      "metadata": {
        "id": "eDyBBfq9F2bu",
        "outputId": "fe154848-07c7-4aa6-b6b6-5b75518158ff"
      },
      "source": [
        "th = 0.15\n",
        "df['y_score_class'] = df['y_score'].apply(lambda x: 1 if x>=th else 0, 1)\n",
        "df"
      ],
      "execution_count": null,
      "outputs": [
        {
          "output_type": "execute_result",
          "data": {
            "text/html": [
              "<div>\n",
              "<style scoped>\n",
              "    .dataframe tbody tr th:only-of-type {\n",
              "        vertical-align: middle;\n",
              "    }\n",
              "\n",
              "    .dataframe tbody tr th {\n",
              "        vertical-align: top;\n",
              "    }\n",
              "\n",
              "    .dataframe thead th {\n",
              "        text-align: right;\n",
              "    }\n",
              "</style>\n",
              "<table border=\"1\" class=\"dataframe\">\n",
              "  <thead>\n",
              "    <tr style=\"text-align: right;\">\n",
              "      <th></th>\n",
              "      <th>y_true</th>\n",
              "      <th>y_score</th>\n",
              "      <th>y_score_class</th>\n",
              "    </tr>\n",
              "  </thead>\n",
              "  <tbody>\n",
              "    <tr>\n",
              "      <th>1</th>\n",
              "      <td>1</td>\n",
              "      <td>0.98</td>\n",
              "      <td>1</td>\n",
              "    </tr>\n",
              "    <tr>\n",
              "      <th>6</th>\n",
              "      <td>0</td>\n",
              "      <td>0.95</td>\n",
              "      <td>1</td>\n",
              "    </tr>\n",
              "    <tr>\n",
              "      <th>2</th>\n",
              "      <td>1</td>\n",
              "      <td>0.52</td>\n",
              "      <td>1</td>\n",
              "    </tr>\n",
              "    <tr>\n",
              "      <th>4</th>\n",
              "      <td>1</td>\n",
              "      <td>0.41</td>\n",
              "      <td>1</td>\n",
              "    </tr>\n",
              "    <tr>\n",
              "      <th>5</th>\n",
              "      <td>0</td>\n",
              "      <td>0.21</td>\n",
              "      <td>1</td>\n",
              "    </tr>\n",
              "    <tr>\n",
              "      <th>3</th>\n",
              "      <td>0</td>\n",
              "      <td>0.20</td>\n",
              "      <td>1</td>\n",
              "    </tr>\n",
              "    <tr>\n",
              "      <th>9</th>\n",
              "      <td>1</td>\n",
              "      <td>0.16</td>\n",
              "      <td>1</td>\n",
              "    </tr>\n",
              "    <tr>\n",
              "      <th>7</th>\n",
              "      <td>0</td>\n",
              "      <td>0.14</td>\n",
              "      <td>0</td>\n",
              "    </tr>\n",
              "    <tr>\n",
              "      <th>0</th>\n",
              "      <td>0</td>\n",
              "      <td>0.10</td>\n",
              "      <td>0</td>\n",
              "    </tr>\n",
              "    <tr>\n",
              "      <th>8</th>\n",
              "      <td>0</td>\n",
              "      <td>0.01</td>\n",
              "      <td>0</td>\n",
              "    </tr>\n",
              "  </tbody>\n",
              "</table>\n",
              "</div>"
            ],
            "text/plain": [
              "   y_true  y_score  y_score_class\n",
              "1       1     0.98              1\n",
              "6       0     0.95              1\n",
              "2       1     0.52              1\n",
              "4       1     0.41              1\n",
              "5       0     0.21              1\n",
              "3       0     0.20              1\n",
              "9       1     0.16              1\n",
              "7       0     0.14              0\n",
              "0       0     0.10              0\n",
              "8       0     0.01              0"
            ]
          },
          "metadata": {
            "tags": []
          },
          "execution_count": 8
        }
      ]
    },
    {
      "cell_type": "code",
      "metadata": {
        "id": "VN9vuuBIF2bv",
        "outputId": "231a4aa5-7fbb-49fc-8391-2ef314aa7bc5"
      },
      "source": [
        "tp = 4\n",
        "fp = 3\n",
        "tn = 3\n",
        "fn = 0\n",
        "\n",
        "precision = tp/(tp+fp)\n",
        "recall = tp/(tp+fn)\n",
        "print(\"Precision: {}\".format(precision))\n",
        "print(\"Recall: {}\".format(recall))"
      ],
      "execution_count": null,
      "outputs": [
        {
          "output_type": "stream",
          "text": [
            "Precision: 0.5714285714285714\n",
            "Recall: 1.0\n"
          ],
          "name": "stdout"
        }
      ]
    },
    {
      "cell_type": "markdown",
      "metadata": {
        "id": "ZZmOzHpvF2bv"
      },
      "source": [
        "### Переходим к f-score"
      ]
    },
    {
      "cell_type": "markdown",
      "metadata": {
        "id": "O9LrJyA-F2bv"
      },
      "source": [
        "Существует несколько различных способов объединить precision и recall в агрегированный критерий качества. \n",
        "\n",
        "F-score — среднее гармоническое precision и recall (обычно):"
      ]
    },
    {
      "cell_type": "markdown",
      "metadata": {
        "id": "W5Pw7HAvF2bv"
      },
      "source": [
        "![ab_split](f_score1.png \"F-score\")"
      ]
    },
    {
      "cell_type": "markdown",
      "metadata": {
        "id": "dIgUIXuFF2bw"
      },
      "source": [
        "F-score достигает максимума при полноте и точности, равными единице, и близка к нулю, если один из аргументов близок к нулю."
      ]
    },
    {
      "cell_type": "code",
      "metadata": {
        "id": "WlBkc5rzF2bw",
        "outputId": "6c4a58d1-57b0-42dd-be49-e9305c060884"
      },
      "source": [
        "import numpy as np\n",
        "from sklearn.metrics import precision_recall_curve, roc_curve, roc_auc_score\n",
        "\n",
        "precision, recall, thresholds = precision_recall_curve(df['y_true'], df['y_score'])\n",
        "fscore = (2 * precision * recall) / (precision + recall)\n",
        "# locate the index of the largest f score\n",
        "ix = np.argmax(fscore)\n",
        "print('Best Threshold=%f, F-Score=%.3f, Precision=%.3f, Recall=%.3f' % (thresholds[ix], \n",
        "                                                                        fscore[ix],\n",
        "                                                                        precision[ix],\n",
        "                                                                        recall[ix]))"
      ],
      "execution_count": null,
      "outputs": [
        {
          "output_type": "stream",
          "text": [
            "Best Threshold=0.410000, F-Score=0.750, Precision=0.750, Recall=0.750\n"
          ],
          "name": "stdout"
        }
      ]
    },
    {
      "cell_type": "markdown",
      "metadata": {
        "id": "e9H17vrZF2bw"
      },
      "source": [
        "В sklearn много всего удобного уже есть, чем можно пользоваться, не изобретая велосипед"
      ]
    },
    {
      "cell_type": "markdown",
      "metadata": {
        "id": "5tTapckXF2bw"
      },
      "source": [
        "### Метрики качества, для которых не нужно подбирать порог"
      ]
    },
    {
      "cell_type": "markdown",
      "metadata": {
        "id": "I1IGcDBXF2bx"
      },
      "source": [
        "### ROC AUC"
      ]
    },
    {
      "cell_type": "markdown",
      "metadata": {
        "id": "XBMQ4cCNF2bx"
      },
      "source": [
        "![ab_split](tpr_fpr.png \"roc auc1\")"
      ]
    },
    {
      "cell_type": "code",
      "metadata": {
        "id": "bqHG3ykaF2bx",
        "colab": {
          "base_uri": "https://localhost:8080/",
          "height": 589
        },
        "outputId": "018821fd-b5da-4bb5-d5f2-747314dfa44e"
      },
      "source": [
        "import seaborn as sns\n",
        "import matplotlib.pyplot as plt\n",
        "\n",
        "%matplotlib inline\n",
        "sns.set(font_scale=1.5)\n",
        "sns.set_color_codes(\"muted\")\n",
        "\n",
        "plt.figure(figsize=(10, 8))\n",
        "fpr, tpr, thresholds = roc_curve(df['y_true'], df['y_score'], pos_label=1)\n",
        "lw = 2\n",
        "plt.plot(fpr, tpr, lw=lw, label='ROC curve ')\n",
        "plt.plot([0, 1], [0, 1])\n",
        "plt.xlim([0.0, 1.0])\n",
        "plt.ylim([0.0, 1.05])\n",
        "plt.xlabel('False Positive Rate')\n",
        "plt.ylabel('True Positive Rate')\n",
        "plt.title('ROC curve')\n",
        "plt.savefig(\"ROC.png\")\n",
        "plt.show()"
      ],
      "execution_count": null,
      "outputs": [
        {
          "output_type": "error",
          "ename": "KeyError",
          "evalue": "ignored",
          "traceback": [
            "\u001b[0;31m---------------------------------------------------------------------------\u001b[0m",
            "\u001b[0;31mKeyError\u001b[0m                                  Traceback (most recent call last)",
            "\u001b[0;32m/usr/local/lib/python3.7/dist-packages/pandas/core/indexes/base.py\u001b[0m in \u001b[0;36mget_loc\u001b[0;34m(self, key, method, tolerance)\u001b[0m\n\u001b[1;32m   2897\u001b[0m             \u001b[0;32mtry\u001b[0m\u001b[0;34m:\u001b[0m\u001b[0;34m\u001b[0m\u001b[0;34m\u001b[0m\u001b[0m\n\u001b[0;32m-> 2898\u001b[0;31m                 \u001b[0;32mreturn\u001b[0m \u001b[0mself\u001b[0m\u001b[0;34m.\u001b[0m\u001b[0m_engine\u001b[0m\u001b[0;34m.\u001b[0m\u001b[0mget_loc\u001b[0m\u001b[0;34m(\u001b[0m\u001b[0mcasted_key\u001b[0m\u001b[0;34m)\u001b[0m\u001b[0;34m\u001b[0m\u001b[0;34m\u001b[0m\u001b[0m\n\u001b[0m\u001b[1;32m   2899\u001b[0m             \u001b[0;32mexcept\u001b[0m \u001b[0mKeyError\u001b[0m \u001b[0;32mas\u001b[0m \u001b[0merr\u001b[0m\u001b[0;34m:\u001b[0m\u001b[0;34m\u001b[0m\u001b[0;34m\u001b[0m\u001b[0m\n",
            "\u001b[0;32mpandas/_libs/index.pyx\u001b[0m in \u001b[0;36mpandas._libs.index.IndexEngine.get_loc\u001b[0;34m()\u001b[0m\n",
            "\u001b[0;32mpandas/_libs/index.pyx\u001b[0m in \u001b[0;36mpandas._libs.index.IndexEngine.get_loc\u001b[0;34m()\u001b[0m\n",
            "\u001b[0;32mpandas/_libs/hashtable_class_helper.pxi\u001b[0m in \u001b[0;36mpandas._libs.hashtable.PyObjectHashTable.get_item\u001b[0;34m()\u001b[0m\n",
            "\u001b[0;32mpandas/_libs/hashtable_class_helper.pxi\u001b[0m in \u001b[0;36mpandas._libs.hashtable.PyObjectHashTable.get_item\u001b[0;34m()\u001b[0m\n",
            "\u001b[0;31mKeyError\u001b[0m: 'y_true'",
            "\nThe above exception was the direct cause of the following exception:\n",
            "\u001b[0;31mKeyError\u001b[0m                                  Traceback (most recent call last)",
            "\u001b[0;32m<ipython-input-17-4b1785f6f6f5>\u001b[0m in \u001b[0;36m<module>\u001b[0;34m()\u001b[0m\n\u001b[1;32m      7\u001b[0m \u001b[0;34m\u001b[0m\u001b[0m\n\u001b[1;32m      8\u001b[0m \u001b[0mplt\u001b[0m\u001b[0;34m.\u001b[0m\u001b[0mfigure\u001b[0m\u001b[0;34m(\u001b[0m\u001b[0mfigsize\u001b[0m\u001b[0;34m=\u001b[0m\u001b[0;34m(\u001b[0m\u001b[0;36m10\u001b[0m\u001b[0;34m,\u001b[0m \u001b[0;36m8\u001b[0m\u001b[0;34m)\u001b[0m\u001b[0;34m)\u001b[0m\u001b[0;34m\u001b[0m\u001b[0;34m\u001b[0m\u001b[0m\n\u001b[0;32m----> 9\u001b[0;31m \u001b[0mfpr\u001b[0m\u001b[0;34m,\u001b[0m \u001b[0mtpr\u001b[0m\u001b[0;34m,\u001b[0m \u001b[0mthresholds\u001b[0m \u001b[0;34m=\u001b[0m \u001b[0mroc_curve\u001b[0m\u001b[0;34m(\u001b[0m\u001b[0mdf\u001b[0m\u001b[0;34m[\u001b[0m\u001b[0;34m'y_true'\u001b[0m\u001b[0;34m]\u001b[0m\u001b[0;34m,\u001b[0m \u001b[0mdf\u001b[0m\u001b[0;34m[\u001b[0m\u001b[0;34m'y_score'\u001b[0m\u001b[0;34m]\u001b[0m\u001b[0;34m,\u001b[0m \u001b[0mpos_label\u001b[0m\u001b[0;34m=\u001b[0m\u001b[0;36m1\u001b[0m\u001b[0;34m)\u001b[0m\u001b[0;34m\u001b[0m\u001b[0;34m\u001b[0m\u001b[0m\n\u001b[0m\u001b[1;32m     10\u001b[0m \u001b[0mlw\u001b[0m \u001b[0;34m=\u001b[0m \u001b[0;36m2\u001b[0m\u001b[0;34m\u001b[0m\u001b[0;34m\u001b[0m\u001b[0m\n\u001b[1;32m     11\u001b[0m \u001b[0mplt\u001b[0m\u001b[0;34m.\u001b[0m\u001b[0mplot\u001b[0m\u001b[0;34m(\u001b[0m\u001b[0mfpr\u001b[0m\u001b[0;34m,\u001b[0m \u001b[0mtpr\u001b[0m\u001b[0;34m,\u001b[0m \u001b[0mlw\u001b[0m\u001b[0;34m=\u001b[0m\u001b[0mlw\u001b[0m\u001b[0;34m,\u001b[0m \u001b[0mlabel\u001b[0m\u001b[0;34m=\u001b[0m\u001b[0;34m'ROC curve '\u001b[0m\u001b[0;34m)\u001b[0m\u001b[0;34m\u001b[0m\u001b[0;34m\u001b[0m\u001b[0m\n",
            "\u001b[0;32m/usr/local/lib/python3.7/dist-packages/pandas/core/frame.py\u001b[0m in \u001b[0;36m__getitem__\u001b[0;34m(self, key)\u001b[0m\n\u001b[1;32m   2904\u001b[0m             \u001b[0;32mif\u001b[0m \u001b[0mself\u001b[0m\u001b[0;34m.\u001b[0m\u001b[0mcolumns\u001b[0m\u001b[0;34m.\u001b[0m\u001b[0mnlevels\u001b[0m \u001b[0;34m>\u001b[0m \u001b[0;36m1\u001b[0m\u001b[0;34m:\u001b[0m\u001b[0;34m\u001b[0m\u001b[0;34m\u001b[0m\u001b[0m\n\u001b[1;32m   2905\u001b[0m                 \u001b[0;32mreturn\u001b[0m \u001b[0mself\u001b[0m\u001b[0;34m.\u001b[0m\u001b[0m_getitem_multilevel\u001b[0m\u001b[0;34m(\u001b[0m\u001b[0mkey\u001b[0m\u001b[0;34m)\u001b[0m\u001b[0;34m\u001b[0m\u001b[0;34m\u001b[0m\u001b[0m\n\u001b[0;32m-> 2906\u001b[0;31m             \u001b[0mindexer\u001b[0m \u001b[0;34m=\u001b[0m \u001b[0mself\u001b[0m\u001b[0;34m.\u001b[0m\u001b[0mcolumns\u001b[0m\u001b[0;34m.\u001b[0m\u001b[0mget_loc\u001b[0m\u001b[0;34m(\u001b[0m\u001b[0mkey\u001b[0m\u001b[0;34m)\u001b[0m\u001b[0;34m\u001b[0m\u001b[0;34m\u001b[0m\u001b[0m\n\u001b[0m\u001b[1;32m   2907\u001b[0m             \u001b[0;32mif\u001b[0m \u001b[0mis_integer\u001b[0m\u001b[0;34m(\u001b[0m\u001b[0mindexer\u001b[0m\u001b[0;34m)\u001b[0m\u001b[0;34m:\u001b[0m\u001b[0;34m\u001b[0m\u001b[0;34m\u001b[0m\u001b[0m\n\u001b[1;32m   2908\u001b[0m                 \u001b[0mindexer\u001b[0m \u001b[0;34m=\u001b[0m \u001b[0;34m[\u001b[0m\u001b[0mindexer\u001b[0m\u001b[0;34m]\u001b[0m\u001b[0;34m\u001b[0m\u001b[0;34m\u001b[0m\u001b[0m\n",
            "\u001b[0;32m/usr/local/lib/python3.7/dist-packages/pandas/core/indexes/base.py\u001b[0m in \u001b[0;36mget_loc\u001b[0;34m(self, key, method, tolerance)\u001b[0m\n\u001b[1;32m   2898\u001b[0m                 \u001b[0;32mreturn\u001b[0m \u001b[0mself\u001b[0m\u001b[0;34m.\u001b[0m\u001b[0m_engine\u001b[0m\u001b[0;34m.\u001b[0m\u001b[0mget_loc\u001b[0m\u001b[0;34m(\u001b[0m\u001b[0mcasted_key\u001b[0m\u001b[0;34m)\u001b[0m\u001b[0;34m\u001b[0m\u001b[0;34m\u001b[0m\u001b[0m\n\u001b[1;32m   2899\u001b[0m             \u001b[0;32mexcept\u001b[0m \u001b[0mKeyError\u001b[0m \u001b[0;32mas\u001b[0m \u001b[0merr\u001b[0m\u001b[0;34m:\u001b[0m\u001b[0;34m\u001b[0m\u001b[0;34m\u001b[0m\u001b[0m\n\u001b[0;32m-> 2900\u001b[0;31m                 \u001b[0;32mraise\u001b[0m \u001b[0mKeyError\u001b[0m\u001b[0;34m(\u001b[0m\u001b[0mkey\u001b[0m\u001b[0;34m)\u001b[0m \u001b[0;32mfrom\u001b[0m \u001b[0merr\u001b[0m\u001b[0;34m\u001b[0m\u001b[0;34m\u001b[0m\u001b[0m\n\u001b[0m\u001b[1;32m   2901\u001b[0m \u001b[0;34m\u001b[0m\u001b[0m\n\u001b[1;32m   2902\u001b[0m         \u001b[0;32mif\u001b[0m \u001b[0mtolerance\u001b[0m \u001b[0;32mis\u001b[0m \u001b[0;32mnot\u001b[0m \u001b[0;32mNone\u001b[0m\u001b[0;34m:\u001b[0m\u001b[0;34m\u001b[0m\u001b[0;34m\u001b[0m\u001b[0m\n",
            "\u001b[0;31mKeyError\u001b[0m: 'y_true'"
          ]
        },
        {
          "output_type": "display_data",
          "data": {
            "text/plain": [
              "<Figure size 720x576 with 0 Axes>"
            ]
          },
          "metadata": {
            "tags": []
          }
        }
      ]
    },
    {
      "cell_type": "code",
      "metadata": {
        "id": "H-uO619IF2bx",
        "colab": {
          "base_uri": "https://localhost:8080/",
          "height": 415
        },
        "outputId": "4ed6092e-59f1-442f-d88a-67fba87a69ad"
      },
      "source": [
        "df"
      ],
      "execution_count": null,
      "outputs": [
        {
          "output_type": "execute_result",
          "data": {
            "text/html": [
              "<div>\n",
              "<style scoped>\n",
              "    .dataframe tbody tr th:only-of-type {\n",
              "        vertical-align: middle;\n",
              "    }\n",
              "\n",
              "    .dataframe tbody tr th {\n",
              "        vertical-align: top;\n",
              "    }\n",
              "\n",
              "    .dataframe thead th {\n",
              "        text-align: right;\n",
              "    }\n",
              "</style>\n",
              "<table border=\"1\" class=\"dataframe\">\n",
              "  <thead>\n",
              "    <tr style=\"text-align: right;\">\n",
              "      <th></th>\n",
              "      <th>id</th>\n",
              "      <th>age</th>\n",
              "      <th>gender</th>\n",
              "      <th>height</th>\n",
              "      <th>weight</th>\n",
              "      <th>ap_hi</th>\n",
              "      <th>ap_lo</th>\n",
              "      <th>cholesterol</th>\n",
              "      <th>gluc</th>\n",
              "      <th>smoke</th>\n",
              "      <th>alco</th>\n",
              "      <th>active</th>\n",
              "      <th>cardio</th>\n",
              "    </tr>\n",
              "  </thead>\n",
              "  <tbody>\n",
              "    <tr>\n",
              "      <th>0</th>\n",
              "      <td>0</td>\n",
              "      <td>18393</td>\n",
              "      <td>2</td>\n",
              "      <td>168</td>\n",
              "      <td>62.0</td>\n",
              "      <td>110</td>\n",
              "      <td>80</td>\n",
              "      <td>1</td>\n",
              "      <td>1</td>\n",
              "      <td>0</td>\n",
              "      <td>0</td>\n",
              "      <td>1</td>\n",
              "      <td>0</td>\n",
              "    </tr>\n",
              "    <tr>\n",
              "      <th>1</th>\n",
              "      <td>1</td>\n",
              "      <td>20228</td>\n",
              "      <td>1</td>\n",
              "      <td>156</td>\n",
              "      <td>85.0</td>\n",
              "      <td>140</td>\n",
              "      <td>90</td>\n",
              "      <td>3</td>\n",
              "      <td>1</td>\n",
              "      <td>0</td>\n",
              "      <td>0</td>\n",
              "      <td>1</td>\n",
              "      <td>1</td>\n",
              "    </tr>\n",
              "    <tr>\n",
              "      <th>2</th>\n",
              "      <td>2</td>\n",
              "      <td>18857</td>\n",
              "      <td>1</td>\n",
              "      <td>165</td>\n",
              "      <td>64.0</td>\n",
              "      <td>130</td>\n",
              "      <td>70</td>\n",
              "      <td>3</td>\n",
              "      <td>1</td>\n",
              "      <td>0</td>\n",
              "      <td>0</td>\n",
              "      <td>0</td>\n",
              "      <td>1</td>\n",
              "    </tr>\n",
              "    <tr>\n",
              "      <th>3</th>\n",
              "      <td>3</td>\n",
              "      <td>17623</td>\n",
              "      <td>2</td>\n",
              "      <td>169</td>\n",
              "      <td>82.0</td>\n",
              "      <td>150</td>\n",
              "      <td>100</td>\n",
              "      <td>1</td>\n",
              "      <td>1</td>\n",
              "      <td>0</td>\n",
              "      <td>0</td>\n",
              "      <td>1</td>\n",
              "      <td>1</td>\n",
              "    </tr>\n",
              "    <tr>\n",
              "      <th>4</th>\n",
              "      <td>4</td>\n",
              "      <td>17474</td>\n",
              "      <td>1</td>\n",
              "      <td>156</td>\n",
              "      <td>56.0</td>\n",
              "      <td>100</td>\n",
              "      <td>60</td>\n",
              "      <td>1</td>\n",
              "      <td>1</td>\n",
              "      <td>0</td>\n",
              "      <td>0</td>\n",
              "      <td>0</td>\n",
              "      <td>0</td>\n",
              "    </tr>\n",
              "    <tr>\n",
              "      <th>...</th>\n",
              "      <td>...</td>\n",
              "      <td>...</td>\n",
              "      <td>...</td>\n",
              "      <td>...</td>\n",
              "      <td>...</td>\n",
              "      <td>...</td>\n",
              "      <td>...</td>\n",
              "      <td>...</td>\n",
              "      <td>...</td>\n",
              "      <td>...</td>\n",
              "      <td>...</td>\n",
              "      <td>...</td>\n",
              "      <td>...</td>\n",
              "    </tr>\n",
              "    <tr>\n",
              "      <th>69995</th>\n",
              "      <td>99993</td>\n",
              "      <td>19240</td>\n",
              "      <td>2</td>\n",
              "      <td>168</td>\n",
              "      <td>76.0</td>\n",
              "      <td>120</td>\n",
              "      <td>80</td>\n",
              "      <td>1</td>\n",
              "      <td>1</td>\n",
              "      <td>1</td>\n",
              "      <td>0</td>\n",
              "      <td>1</td>\n",
              "      <td>0</td>\n",
              "    </tr>\n",
              "    <tr>\n",
              "      <th>69996</th>\n",
              "      <td>99995</td>\n",
              "      <td>22601</td>\n",
              "      <td>1</td>\n",
              "      <td>158</td>\n",
              "      <td>126.0</td>\n",
              "      <td>140</td>\n",
              "      <td>90</td>\n",
              "      <td>2</td>\n",
              "      <td>2</td>\n",
              "      <td>0</td>\n",
              "      <td>0</td>\n",
              "      <td>1</td>\n",
              "      <td>1</td>\n",
              "    </tr>\n",
              "    <tr>\n",
              "      <th>69997</th>\n",
              "      <td>99996</td>\n",
              "      <td>19066</td>\n",
              "      <td>2</td>\n",
              "      <td>183</td>\n",
              "      <td>105.0</td>\n",
              "      <td>180</td>\n",
              "      <td>90</td>\n",
              "      <td>3</td>\n",
              "      <td>1</td>\n",
              "      <td>0</td>\n",
              "      <td>1</td>\n",
              "      <td>0</td>\n",
              "      <td>1</td>\n",
              "    </tr>\n",
              "    <tr>\n",
              "      <th>69998</th>\n",
              "      <td>99998</td>\n",
              "      <td>22431</td>\n",
              "      <td>1</td>\n",
              "      <td>163</td>\n",
              "      <td>72.0</td>\n",
              "      <td>135</td>\n",
              "      <td>80</td>\n",
              "      <td>1</td>\n",
              "      <td>2</td>\n",
              "      <td>0</td>\n",
              "      <td>0</td>\n",
              "      <td>0</td>\n",
              "      <td>1</td>\n",
              "    </tr>\n",
              "    <tr>\n",
              "      <th>69999</th>\n",
              "      <td>99999</td>\n",
              "      <td>20540</td>\n",
              "      <td>1</td>\n",
              "      <td>170</td>\n",
              "      <td>72.0</td>\n",
              "      <td>120</td>\n",
              "      <td>80</td>\n",
              "      <td>2</td>\n",
              "      <td>1</td>\n",
              "      <td>0</td>\n",
              "      <td>0</td>\n",
              "      <td>1</td>\n",
              "      <td>0</td>\n",
              "    </tr>\n",
              "  </tbody>\n",
              "</table>\n",
              "<p>70000 rows × 13 columns</p>\n",
              "</div>"
            ],
            "text/plain": [
              "          id    age  gender  height  weight  ...  gluc  smoke  alco  active  cardio\n",
              "0          0  18393       2     168    62.0  ...     1      0     0       1       0\n",
              "1          1  20228       1     156    85.0  ...     1      0     0       1       1\n",
              "2          2  18857       1     165    64.0  ...     1      0     0       0       1\n",
              "3          3  17623       2     169    82.0  ...     1      0     0       1       1\n",
              "4          4  17474       1     156    56.0  ...     1      0     0       0       0\n",
              "...      ...    ...     ...     ...     ...  ...   ...    ...   ...     ...     ...\n",
              "69995  99993  19240       2     168    76.0  ...     1      1     0       1       0\n",
              "69996  99995  22601       1     158   126.0  ...     2      0     0       1       1\n",
              "69997  99996  19066       2     183   105.0  ...     1      0     1       0       1\n",
              "69998  99998  22431       1     163    72.0  ...     2      0     0       0       1\n",
              "69999  99999  20540       1     170    72.0  ...     1      0     0       1       0\n",
              "\n",
              "[70000 rows x 13 columns]"
            ]
          },
          "metadata": {
            "tags": []
          },
          "execution_count": 18
        }
      ]
    },
    {
      "cell_type": "code",
      "metadata": {
        "id": "EJ__keEYF2by",
        "colab": {
          "base_uri": "https://localhost:8080/",
          "height": 571
        },
        "outputId": "98f38f7f-fd40-4219-bdb9-85c4a15e6387"
      },
      "source": [
        "roc_auc_score(df['y_true'], df['y_score'])"
      ],
      "execution_count": null,
      "outputs": [
        {
          "output_type": "error",
          "ename": "KeyError",
          "evalue": "ignored",
          "traceback": [
            "\u001b[0;31m---------------------------------------------------------------------------\u001b[0m",
            "\u001b[0;31mKeyError\u001b[0m                                  Traceback (most recent call last)",
            "\u001b[0;32m/usr/local/lib/python3.7/dist-packages/pandas/core/indexes/base.py\u001b[0m in \u001b[0;36mget_loc\u001b[0;34m(self, key, method, tolerance)\u001b[0m\n\u001b[1;32m   2897\u001b[0m             \u001b[0;32mtry\u001b[0m\u001b[0;34m:\u001b[0m\u001b[0;34m\u001b[0m\u001b[0;34m\u001b[0m\u001b[0m\n\u001b[0;32m-> 2898\u001b[0;31m                 \u001b[0;32mreturn\u001b[0m \u001b[0mself\u001b[0m\u001b[0;34m.\u001b[0m\u001b[0m_engine\u001b[0m\u001b[0;34m.\u001b[0m\u001b[0mget_loc\u001b[0m\u001b[0;34m(\u001b[0m\u001b[0mcasted_key\u001b[0m\u001b[0;34m)\u001b[0m\u001b[0;34m\u001b[0m\u001b[0;34m\u001b[0m\u001b[0m\n\u001b[0m\u001b[1;32m   2899\u001b[0m             \u001b[0;32mexcept\u001b[0m \u001b[0mKeyError\u001b[0m \u001b[0;32mas\u001b[0m \u001b[0merr\u001b[0m\u001b[0;34m:\u001b[0m\u001b[0;34m\u001b[0m\u001b[0;34m\u001b[0m\u001b[0m\n",
            "\u001b[0;32mpandas/_libs/index.pyx\u001b[0m in \u001b[0;36mpandas._libs.index.IndexEngine.get_loc\u001b[0;34m()\u001b[0m\n",
            "\u001b[0;32mpandas/_libs/index.pyx\u001b[0m in \u001b[0;36mpandas._libs.index.IndexEngine.get_loc\u001b[0;34m()\u001b[0m\n",
            "\u001b[0;32mpandas/_libs/hashtable_class_helper.pxi\u001b[0m in \u001b[0;36mpandas._libs.hashtable.PyObjectHashTable.get_item\u001b[0;34m()\u001b[0m\n",
            "\u001b[0;32mpandas/_libs/hashtable_class_helper.pxi\u001b[0m in \u001b[0;36mpandas._libs.hashtable.PyObjectHashTable.get_item\u001b[0;34m()\u001b[0m\n",
            "\u001b[0;31mKeyError\u001b[0m: 'y_true'",
            "\nThe above exception was the direct cause of the following exception:\n",
            "\u001b[0;31mKeyError\u001b[0m                                  Traceback (most recent call last)",
            "\u001b[0;32m<ipython-input-19-2c50f1647821>\u001b[0m in \u001b[0;36m<module>\u001b[0;34m()\u001b[0m\n\u001b[0;32m----> 1\u001b[0;31m \u001b[0mroc_auc_score\u001b[0m\u001b[0;34m(\u001b[0m\u001b[0mdf\u001b[0m\u001b[0;34m[\u001b[0m\u001b[0;34m'y_true'\u001b[0m\u001b[0;34m]\u001b[0m\u001b[0;34m,\u001b[0m \u001b[0mdf\u001b[0m\u001b[0;34m[\u001b[0m\u001b[0;34m'y_score'\u001b[0m\u001b[0;34m]\u001b[0m\u001b[0;34m)\u001b[0m\u001b[0;34m\u001b[0m\u001b[0;34m\u001b[0m\u001b[0m\n\u001b[0m",
            "\u001b[0;32m/usr/local/lib/python3.7/dist-packages/pandas/core/frame.py\u001b[0m in \u001b[0;36m__getitem__\u001b[0;34m(self, key)\u001b[0m\n\u001b[1;32m   2904\u001b[0m             \u001b[0;32mif\u001b[0m \u001b[0mself\u001b[0m\u001b[0;34m.\u001b[0m\u001b[0mcolumns\u001b[0m\u001b[0;34m.\u001b[0m\u001b[0mnlevels\u001b[0m \u001b[0;34m>\u001b[0m \u001b[0;36m1\u001b[0m\u001b[0;34m:\u001b[0m\u001b[0;34m\u001b[0m\u001b[0;34m\u001b[0m\u001b[0m\n\u001b[1;32m   2905\u001b[0m                 \u001b[0;32mreturn\u001b[0m \u001b[0mself\u001b[0m\u001b[0;34m.\u001b[0m\u001b[0m_getitem_multilevel\u001b[0m\u001b[0;34m(\u001b[0m\u001b[0mkey\u001b[0m\u001b[0;34m)\u001b[0m\u001b[0;34m\u001b[0m\u001b[0;34m\u001b[0m\u001b[0m\n\u001b[0;32m-> 2906\u001b[0;31m             \u001b[0mindexer\u001b[0m \u001b[0;34m=\u001b[0m \u001b[0mself\u001b[0m\u001b[0;34m.\u001b[0m\u001b[0mcolumns\u001b[0m\u001b[0;34m.\u001b[0m\u001b[0mget_loc\u001b[0m\u001b[0;34m(\u001b[0m\u001b[0mkey\u001b[0m\u001b[0;34m)\u001b[0m\u001b[0;34m\u001b[0m\u001b[0;34m\u001b[0m\u001b[0m\n\u001b[0m\u001b[1;32m   2907\u001b[0m             \u001b[0;32mif\u001b[0m \u001b[0mis_integer\u001b[0m\u001b[0;34m(\u001b[0m\u001b[0mindexer\u001b[0m\u001b[0;34m)\u001b[0m\u001b[0;34m:\u001b[0m\u001b[0;34m\u001b[0m\u001b[0;34m\u001b[0m\u001b[0m\n\u001b[1;32m   2908\u001b[0m                 \u001b[0mindexer\u001b[0m \u001b[0;34m=\u001b[0m \u001b[0;34m[\u001b[0m\u001b[0mindexer\u001b[0m\u001b[0;34m]\u001b[0m\u001b[0;34m\u001b[0m\u001b[0;34m\u001b[0m\u001b[0m\n",
            "\u001b[0;32m/usr/local/lib/python3.7/dist-packages/pandas/core/indexes/base.py\u001b[0m in \u001b[0;36mget_loc\u001b[0;34m(self, key, method, tolerance)\u001b[0m\n\u001b[1;32m   2898\u001b[0m                 \u001b[0;32mreturn\u001b[0m \u001b[0mself\u001b[0m\u001b[0;34m.\u001b[0m\u001b[0m_engine\u001b[0m\u001b[0;34m.\u001b[0m\u001b[0mget_loc\u001b[0m\u001b[0;34m(\u001b[0m\u001b[0mcasted_key\u001b[0m\u001b[0;34m)\u001b[0m\u001b[0;34m\u001b[0m\u001b[0;34m\u001b[0m\u001b[0m\n\u001b[1;32m   2899\u001b[0m             \u001b[0;32mexcept\u001b[0m \u001b[0mKeyError\u001b[0m \u001b[0;32mas\u001b[0m \u001b[0merr\u001b[0m\u001b[0;34m:\u001b[0m\u001b[0;34m\u001b[0m\u001b[0;34m\u001b[0m\u001b[0m\n\u001b[0;32m-> 2900\u001b[0;31m                 \u001b[0;32mraise\u001b[0m \u001b[0mKeyError\u001b[0m\u001b[0;34m(\u001b[0m\u001b[0mkey\u001b[0m\u001b[0;34m)\u001b[0m \u001b[0;32mfrom\u001b[0m \u001b[0merr\u001b[0m\u001b[0;34m\u001b[0m\u001b[0;34m\u001b[0m\u001b[0m\n\u001b[0m\u001b[1;32m   2901\u001b[0m \u001b[0;34m\u001b[0m\u001b[0m\n\u001b[1;32m   2902\u001b[0m         \u001b[0;32mif\u001b[0m \u001b[0mtolerance\u001b[0m \u001b[0;32mis\u001b[0m \u001b[0;32mnot\u001b[0m \u001b[0;32mNone\u001b[0m\u001b[0;34m:\u001b[0m\u001b[0;34m\u001b[0m\u001b[0;34m\u001b[0m\u001b[0m\n",
            "\u001b[0;31mKeyError\u001b[0m: 'y_true'"
          ]
        }
      ]
    },
    {
      "cell_type": "markdown",
      "metadata": {
        "id": "h7QsknP1F2by"
      },
      "source": [
        "<b>Вопрос: какой roc auc у случайного классификатора?</b>"
      ]
    },
    {
      "cell_type": "code",
      "metadata": {
        "id": "VqeU4ONRF2bz"
      },
      "source": [
        "roc_auc_score(df.sample(frac=1)['y_true'], df.sample(frac=1)['y_score'])"
      ],
      "execution_count": null,
      "outputs": []
    },
    {
      "cell_type": "markdown",
      "metadata": {
        "id": "Qhztpww5F2bz"
      },
      "source": [
        "<b>Вопрос: что делать, если roc auc меньше 0.5?</b>"
      ]
    },
    {
      "cell_type": "markdown",
      "metadata": {
        "id": "_-Tf8McAF2bz"
      },
      "source": [
        "Выглядит она не очень, но это только из-за того, что у нас мало данных"
      ]
    },
    {
      "cell_type": "markdown",
      "metadata": {
        "id": "ozOXgS3XF2bz"
      },
      "source": [
        "Как вообще строится этот график?"
      ]
    },
    {
      "cell_type": "code",
      "metadata": {
        "id": "-NWZHBPgF2b0"
      },
      "source": [
        "df[['y_true', 'y_score']]"
      ],
      "execution_count": null,
      "outputs": []
    },
    {
      "cell_type": "markdown",
      "metadata": {
        "id": "sXKSkg29F2b0"
      },
      "source": [
        "Чем хороша данная метрика?"
      ]
    },
    {
      "cell_type": "markdown",
      "metadata": {
        "id": "lafgnQcRF2b0"
      },
      "source": [
        "1. часто используют для оценивания качества упорядочивания алгоритмом объектов двух классов\n",
        "2. показывает долю правильно упорядоченных пар\n",
        "3. может быть интерпретирован как вероятность того, что случайно выбранный positive объект будет проранжирован классификатором выше (будет иметь более высокую вероятность быть positive), чем случайно выбранный negative объект"
      ]
    },
    {
      "cell_type": "code",
      "metadata": {
        "id": "Srkoww89F2b0"
      },
      "source": [
        ""
      ],
      "execution_count": null,
      "outputs": []
    },
    {
      "cell_type": "markdown",
      "metadata": {
        "id": "IqGshAdbF2b0"
      },
      "source": [
        "### ПЕРЕРЫВ до 21:10"
      ]
    },
    {
      "cell_type": "code",
      "metadata": {
        "id": "D2kI6YYpF2b1"
      },
      "source": [
        ""
      ],
      "execution_count": null,
      "outputs": []
    },
    {
      "cell_type": "code",
      "metadata": {
        "id": "6G8bpwWQF2b1"
      },
      "source": [
        ""
      ],
      "execution_count": null,
      "outputs": []
    },
    {
      "cell_type": "markdown",
      "metadata": {
        "id": "LxCn168mF2b1"
      },
      "source": [
        "### Кейс 1 - фильтрация токсичных комментариев"
      ]
    },
    {
      "cell_type": "markdown",
      "metadata": {
        "id": "Bz2OSYZAF2b1"
      },
      "source": [
        "Есть сервис, где люди могут оставлять комментарии\n",
        "\n",
        "При этом часть комментариев является токсичной, т.е содержит расистские, сексистские и тому подобные вещи.\n",
        "\n",
        "Над проверкой сообщений работают модераторы и мы хотим уменьшить на них нагрузку с помощью ML."
      ]
    },
    {
      "cell_type": "markdown",
      "metadata": {
        "id": "x-4HepO2F2b1"
      },
      "source": [
        "Вспомним первое занятие и сформулируем гипотезу"
      ]
    },
    {
      "cell_type": "markdown",
      "metadata": {
        "id": "ujaiLC-xF2b2"
      },
      "source": [
        "#### Гипотеза 1.\n",
        "Мы предполагаем, что автоматическая фильтрация токсичных комментариев снизит нагрузку на модераторов и повысит их пропускную способность на 10%, при этом доля FP не превысит 10%"
      ]
    },
    {
      "cell_type": "markdown",
      "metadata": {
        "id": "byIgkXm4F2b2"
      },
      "source": [
        "![ab_split](diag1.jpg \"diag1\")"
      ]
    },
    {
      "cell_type": "code",
      "metadata": {
        "id": "wqASAEdIF2b2"
      },
      "source": [
        "import numpy as np\n",
        "import pandas as pd\n",
        "\n",
        "from sklearn.feature_extraction.text import TfidfVectorizer\n",
        "from sklearn.linear_model import LogisticRegression\n",
        "from sklearn.ensemble import GradientBoostingClassifier\n",
        "from sklearn.ensemble import RandomForestClassifier\n",
        "from sklearn.tree import DecisionTreeClassifier\n",
        "from sklearn.model_selection import cross_val_score, train_test_split\n",
        "from scipy.sparse import hstack\n",
        "from sklearn.pipeline import Pipeline, make_pipeline\n",
        "from sklearn.base import BaseEstimator, TransformerMixin\n",
        "\n",
        "class_names = ['toxic', 'severe_toxic', 'obscene', 'threat', 'insult', 'identity_hate']\n",
        "\n",
        "##train = pd.read_csv('train.csv').fillna(' ').sample(frac=1)\n",
        "##train.head(3)"
      ],
      "execution_count": null,
      "outputs": []
    },
    {
      "cell_type": "markdown",
      "metadata": {
        "id": "qRCIMg19F2b2"
      },
      "source": [
        "Здесь много разных вариантов, но мы сведем все к бинарному классу - toxic/nontoxic"
      ]
    },
    {
      "cell_type": "code",
      "metadata": {
        "id": "KXDqJ5r0F2b3",
        "colab": {
          "base_uri": "https://localhost:8080/",
          "height": 183
        },
        "outputId": "7d082975-f180-403a-87e7-09bf26fe1152"
      },
      "source": [
        "train['y'] = train[class_names].max(axis=1).values\n",
        "train['y'].value_counts()\n"
      ],
      "execution_count": null,
      "outputs": [
        {
          "output_type": "error",
          "ename": "NameError",
          "evalue": "ignored",
          "traceback": [
            "\u001b[0;31m---------------------------------------------------------------------------\u001b[0m",
            "\u001b[0;31mNameError\u001b[0m                                 Traceback (most recent call last)",
            "\u001b[0;32m<ipython-input-2-c24a4c8c3509>\u001b[0m in \u001b[0;36m<module>\u001b[0;34m()\u001b[0m\n\u001b[0;32m----> 1\u001b[0;31m \u001b[0mtrain\u001b[0m\u001b[0;34m[\u001b[0m\u001b[0;34m'y'\u001b[0m\u001b[0;34m]\u001b[0m \u001b[0;34m=\u001b[0m \u001b[0mtrain\u001b[0m\u001b[0;34m[\u001b[0m\u001b[0mclass_names\u001b[0m\u001b[0;34m]\u001b[0m\u001b[0;34m.\u001b[0m\u001b[0mmax\u001b[0m\u001b[0;34m(\u001b[0m\u001b[0maxis\u001b[0m\u001b[0;34m=\u001b[0m\u001b[0;36m1\u001b[0m\u001b[0;34m)\u001b[0m\u001b[0;34m.\u001b[0m\u001b[0mvalues\u001b[0m\u001b[0;34m\u001b[0m\u001b[0;34m\u001b[0m\u001b[0m\n\u001b[0m\u001b[1;32m      2\u001b[0m \u001b[0mtrain\u001b[0m\u001b[0;34m[\u001b[0m\u001b[0;34m'y'\u001b[0m\u001b[0;34m]\u001b[0m\u001b[0;34m.\u001b[0m\u001b[0mvalue_counts\u001b[0m\u001b[0;34m(\u001b[0m\u001b[0;34m)\u001b[0m\u001b[0;34m\u001b[0m\u001b[0;34m\u001b[0m\u001b[0m\n",
            "\u001b[0;31mNameError\u001b[0m: name 'train' is not defined"
          ]
        }
      ]
    },
    {
      "cell_type": "code",
      "metadata": {
        "id": "wEpXNotWF2b3"
      },
      "source": [
        "len(train.drop('y', 1).values), train.drop('y', 1), train['y']"
      ],
      "execution_count": null,
      "outputs": []
    },
    {
      "cell_type": "markdown",
      "metadata": {
        "id": "5-Cdov76F2b3"
      },
      "source": [
        "Сделаем тренировочную и тестовую выборки"
      ]
    },
    {
      "cell_type": "code",
      "metadata": {
        "id": "Hy_nqYkTF2b3"
      },
      "source": [
        "#разделим данные на train/test\n",
        "X_train, X_test, y_train, y_test = train_test_split(train.drop('y', 1), \n",
        "                                                    train['y'], random_state=0)"
      ],
      "execution_count": null,
      "outputs": []
    },
    {
      "cell_type": "markdown",
      "metadata": {
        "id": "ArD2LYt1F2b3"
      },
      "source": [
        "Посмотрим на распределение классов в выборках"
      ]
    },
    {
      "cell_type": "code",
      "metadata": {
        "id": "0airem3PF2b4"
      },
      "source": [
        "y_train.value_counts(normalize=True)"
      ],
      "execution_count": null,
      "outputs": []
    },
    {
      "cell_type": "code",
      "metadata": {
        "id": "QGOA3x1ZF2b4"
      },
      "source": [
        "y_test.value_counts(normalize=True)"
      ],
      "execution_count": null,
      "outputs": []
    },
    {
      "cell_type": "markdown",
      "metadata": {
        "id": "f-ar4A06F2b4"
      },
      "source": [
        "Построим простое векторное представление текстов и обучим логистическую регрессию"
      ]
    },
    {
      "cell_type": "code",
      "metadata": {
        "id": "-oH07gkGF2b4"
      },
      "source": [
        "#соберем наш простой pipeline, но нам понадобится написать класс для выбора нужного поля\n",
        "class FeatureSelector(BaseEstimator, TransformerMixin):\n",
        "    def __init__(self, column):\n",
        "        self.column = column\n",
        "\n",
        "    def fit(self, X, y=None):\n",
        "        return self\n",
        "\n",
        "    def transform(self, X, y=None):\n",
        "        return X[self.column]\n",
        "\n",
        "classifier = Pipeline([('comment_text_selector', FeatureSelector(column='comment_text')), \n",
        "                     ('comment_text_tfidf', TfidfVectorizer(sublinear_tf=True,\n",
        "                                                            strip_accents='unicode',\n",
        "                                                            analyzer='word',\n",
        "                                                            token_pattern=r'\\w{1,}',\n",
        "                                                            stop_words='english',\n",
        "                                                            ngram_range=(1, 1),\n",
        "                                                            max_features=10000)), \n",
        "                     ('clf', LogisticRegression(C=0.1, solver='sag'))])\n",
        "\n",
        "#запустим кросс-валидацию\n",
        "cv_scores = cross_val_score(classifier, X_train, y_train, cv=3, scoring='roc_auc')\n",
        "cv_score = np.mean(cv_scores)\n",
        "print('CV score is {}'.format(cv_score))\n",
        "\n",
        "#обучим пайплайн на всем тренировочном датасете\n",
        "classifier.fit(X_train, y_train)\n",
        "y_score = classifier.predict_proba(X_test)[:, 1]"
      ],
      "execution_count": null,
      "outputs": []
    },
    {
      "cell_type": "code",
      "metadata": {
        "id": "DvfSb_avF2b5"
      },
      "source": [
        "train['y']"
      ],
      "execution_count": null,
      "outputs": []
    },
    {
      "cell_type": "code",
      "metadata": {
        "id": "MN4g6EUqF2b5"
      },
      "source": [
        "from sklearn.model_selection import KFold\n",
        "kfold = KFold(3, shuffle=True, random_state = 1)\n",
        "kfold.split(train)\n",
        "test"
      ],
      "execution_count": null,
      "outputs": []
    },
    {
      "cell_type": "markdown",
      "metadata": {
        "id": "P2sDnRpuF2b5"
      },
      "source": [
        "Воспользуемся доступным в sklearn инструментарием, чтобы получить оптимальный порог"
      ]
    },
    {
      "cell_type": "code",
      "metadata": {
        "id": "BPkSwtQKF2b5"
      },
      "source": [
        "import numpy as np\n",
        "from sklearn.metrics import precision_recall_curve, roc_curve, roc_auc_score, confusion_matrix\n",
        "\n",
        "b=2.55\n",
        "\n",
        "precision, recall, thresholds = precision_recall_curve(y_test.values, y_score)\n",
        "fscore = (1+b**2)*(precision * recall) / (b**2*precision + recall)\n",
        "# locate the index of the largest f score\n",
        "ix = np.argmax(fscore)\n",
        "print('Best Threshold=%f, F-Score=%.3f, Precision=%.3f, Recall=%.3f' % (thresholds[ix], \n",
        "                                                                        fscore[ix],\n",
        "                                                                        precision[ix],\n",
        "                                                                        recall[ix]))"
      ],
      "execution_count": null,
      "outputs": []
    },
    {
      "cell_type": "markdown",
      "metadata": {
        "id": "_v7kyYogF2b6"
      },
      "source": [
        "Нарисуем roc кривую"
      ]
    },
    {
      "cell_type": "code",
      "metadata": {
        "id": "kAdgU9ENF2b6"
      },
      "source": [
        "import seaborn as sns\n",
        "import itertools\n",
        "from sklearn.metrics import roc_curve\n",
        "import matplotlib.pyplot as plt\n",
        "\n",
        "%matplotlib inline\n",
        "sns.set(font_scale=1.5)\n",
        "sns.set_color_codes(\"muted\")\n",
        "\n",
        "plt.figure(figsize=(10, 8))\n",
        "fpr, tpr, thresholds_ = roc_curve(y_test, y_score, pos_label=1)\n",
        "lw = 2\n",
        "plt.plot(fpr, tpr, lw=lw, label='ROC curve ')\n",
        "plt.plot([0, 1], [0, 1])\n",
        "plt.xlim([0.0, 1.0])\n",
        "plt.ylim([0.0, 1.05])\n",
        "plt.xlabel('False Positive Rate')\n",
        "plt.ylabel('True Positive Rate')\n",
        "plt.title('ROC curve')\n",
        "plt.savefig(\"ROC.png\")\n",
        "plt.show()"
      ],
      "execution_count": null,
      "outputs": []
    },
    {
      "cell_type": "markdown",
      "metadata": {
        "id": "8TQIYajTF2b6"
      },
      "source": [
        "Как это интерпетировать? Давайте построим матрицу ошибок, чтобы стало понятнее"
      ]
    },
    {
      "cell_type": "code",
      "metadata": {
        "id": "EiFlzSbJF2b6"
      },
      "source": [
        "def plot_confusion_matrix(cm, classes,\n",
        "                          normalize=False,\n",
        "                          title='Confusion matrix',\n",
        "                          cmap=plt.cm.Blues):\n",
        "    \"\"\"\n",
        "    This function prints and plots the confusion matrix.\n",
        "    Normalization can be applied by setting `normalize=True`.\n",
        "    \"\"\"\n",
        "    plt.imshow(cm, interpolation='nearest', cmap=cmap)\n",
        "    plt.title(title)\n",
        "    plt.colorbar()\n",
        "    tick_marks = np.arange(len(classes))\n",
        "    plt.xticks(tick_marks, classes, rotation=45)\n",
        "    plt.yticks(tick_marks, classes)\n",
        "\n",
        "    if normalize:\n",
        "        cm = cm.astype('float') / cm.sum(axis=1)[:, np.newaxis]\n",
        "        print(\"Normalized confusion matrix\")\n",
        "    else:\n",
        "        print('Confusion matrix, without normalization')\n",
        "\n",
        "    print(cm)\n",
        "\n",
        "    thresh = cm.max() / 2.\n",
        "    for i, j in itertools.product(range(cm.shape[0]), range(cm.shape[1])):\n",
        "        plt.text(j, i, cm[i, j],\n",
        "                 horizontalalignment=\"center\",\n",
        "                 color=\"white\" if cm[i, j] > thresh else \"black\")\n",
        "\n",
        "    plt.tight_layout()\n",
        "    plt.ylabel('True label')\n",
        "    plt.xlabel('Predicted label')"
      ],
      "execution_count": null,
      "outputs": []
    },
    {
      "cell_type": "code",
      "metadata": {
        "id": "By9e-ZE1F2b7"
      },
      "source": [
        "#мы уже нашли ранее \"оптимальный\" порог, когда максимизировали f_score\n",
        "font = {'size' : 15}\n",
        "\n",
        "plt.rc('font', **font)\n",
        "\n",
        "cnf_matrix = confusion_matrix(y_test, y_score>thresholds[ix])\n",
        "plt.figure(figsize=(10, 8))\n",
        "plot_confusion_matrix(cnf_matrix, classes=['Nontoxic', 'toxic'],\n",
        "                      title='Confusion matrix')\n",
        "plt.savefig(\"conf_matrix.png\")\n",
        "plt.show()"
      ],
      "execution_count": null,
      "outputs": []
    },
    {
      "cell_type": "markdown",
      "metadata": {
        "id": "iYjwCfz2F2b7"
      },
      "source": [
        "Посчитаем FPR, TPR"
      ]
    },
    {
      "cell_type": "code",
      "metadata": {
        "id": "OWRUQ_7oF2b7"
      },
      "source": [
        "(tn, fp, fn, tp) = confusion_matrix(y_test, y_score>thresholds[ix]).ravel()"
      ],
      "execution_count": null,
      "outputs": []
    },
    {
      "cell_type": "code",
      "metadata": {
        "id": "TBvhDvgzF2b7"
      },
      "source": [
        "(tn, fp, fn, tp)"
      ],
      "execution_count": null,
      "outputs": []
    },
    {
      "cell_type": "code",
      "metadata": {
        "id": "kl6wH77sF2b8"
      },
      "source": [
        "TN = cnf_matrix[0][0]\n",
        "FN = cnf_matrix[1][0]\n",
        "TP = cnf_matrix[1][1]\n",
        "FP = cnf_matrix[0][1]"
      ],
      "execution_count": null,
      "outputs": []
    },
    {
      "cell_type": "code",
      "metadata": {
        "id": "qvPYTrQeF2b8"
      },
      "source": [
        "TN, FN, TP, FP"
      ],
      "execution_count": null,
      "outputs": []
    },
    {
      "cell_type": "markdown",
      "metadata": {
        "id": "45PkVWuOF2b8"
      },
      "source": [
        "Посчитаем нужные нам метрики"
      ]
    },
    {
      "cell_type": "code",
      "metadata": {
        "id": "FGOljXaxF2b8"
      },
      "source": [
        "TPR = TP/(TP+FN)\n",
        "FPR = FP/(FP+TN)\n",
        "TNR = TN/(FP+TN)\n",
        "TPR, FPR, TNR"
      ],
      "execution_count": null,
      "outputs": []
    },
    {
      "cell_type": "markdown",
      "metadata": {
        "id": "sy6fKAWjF2b8"
      },
      "source": [
        "False Positive Rate всего лишь 0.096.\n",
        "\n",
        "Это означает, что только 9.6 процентов всех комментариев будут помечены как токсичные некорректно"
      ]
    },
    {
      "cell_type": "markdown",
      "metadata": {
        "id": "-EXgehRoF2b9"
      },
      "source": [
        "Вывод:\n",
        "\n",
        "Мы можем автоматически фильтровать 88 процентов токсичных комментариев! Однако есть еще TPR"
      ]
    },
    {
      "cell_type": "markdown",
      "metadata": {
        "id": "CfzS2nPpF2b9"
      },
      "source": [
        "Глобальные выводы:\n",
        "\n",
        "1. TNR = 0.9 -> модель может автоматически фильтровать 90% токсичных комментариев\n",
        "2. TPR = 0.88 -> доля ошибочно классифицированных как токсичных (хотя это нормальные комментарии), не будет превышать при этом 9.6 процентов"
      ]
    },
    {
      "cell_type": "markdown",
      "metadata": {
        "id": "dTQPRDh-F2b9"
      },
      "source": [
        "Что дальше? - планируем эксперимент!"
      ]
    },
    {
      "cell_type": "markdown",
      "metadata": {
        "id": "_bINM23CF2b9"
      },
      "source": [
        "### Кейс 2 - определение ССЗ"
      ]
    },
    {
      "cell_type": "markdown",
      "metadata": {
        "id": "kOwbgu4FF2b9"
      },
      "source": [
        "ссылка на соревнование - https://mlbootcamp.ru/ru/round/12/sandbox/"
      ]
    },
    {
      "cell_type": "markdown",
      "metadata": {
        "id": "miyvfhkQF2b-"
      },
      "source": [
        "В рамках конкурса вам нужно предсказать наличие сердечно-сосудистых заболеваний по результатам классического врачебного осмотра. Датасет сформирован из 100.000 реальных клинических анализов, и в нём используются признаки, которые можно разбить на 3 группы:\n",
        "\n",
        " \n",
        "\n",
        "Объективные признаки:\n",
        "\n",
        " - Возраст\n",
        " - Рост\n",
        " - Вес\n",
        " - Пол\n",
        " \n",
        "\n",
        "Результаты измерения:\n",
        "\n",
        " - Артериальное давление верхнее и нижнее\n",
        " - Холестерин\n",
        " - Глюкоза\n",
        " \n",
        "\n",
        "Субъективные признаки:\n",
        "\n",
        " - Курение\n",
        " - Употребление Алкоголя\n",
        " - Физическая активность\n",
        " \n",
        "\n",
        "Возраст дан в днях. Значения показателей холестерина и глюкозы представлены одним из трех классов: норма, выше нормы, значительно выше нормы. Значения субъективных признаков — бинарны.\n",
        "\n",
        "Все показатели даны на момент осмотра."
      ]
    },
    {
      "cell_type": "markdown",
      "metadata": {
        "id": "wwyGt41zF2b-"
      },
      "source": [
        "Таргет - наличие сердечно-сосудистых заболеваний (ССЗ)"
      ]
    },
    {
      "cell_type": "code",
      "metadata": {
        "id": "dZ72rvmcF2b-",
        "colab": {
          "base_uri": "https://localhost:8080/",
          "height": 141
        },
        "outputId": "7d044623-a449-4622-a476-804f5b0d8a6f"
      },
      "source": [
        "df = pd.read_csv('train_case2.csv', ';')\n",
        "df.head(3)"
      ],
      "execution_count": null,
      "outputs": [
        {
          "output_type": "execute_result",
          "data": {
            "text/html": [
              "<div>\n",
              "<style scoped>\n",
              "    .dataframe tbody tr th:only-of-type {\n",
              "        vertical-align: middle;\n",
              "    }\n",
              "\n",
              "    .dataframe tbody tr th {\n",
              "        vertical-align: top;\n",
              "    }\n",
              "\n",
              "    .dataframe thead th {\n",
              "        text-align: right;\n",
              "    }\n",
              "</style>\n",
              "<table border=\"1\" class=\"dataframe\">\n",
              "  <thead>\n",
              "    <tr style=\"text-align: right;\">\n",
              "      <th></th>\n",
              "      <th>id</th>\n",
              "      <th>age</th>\n",
              "      <th>gender</th>\n",
              "      <th>height</th>\n",
              "      <th>weight</th>\n",
              "      <th>ap_hi</th>\n",
              "      <th>ap_lo</th>\n",
              "      <th>cholesterol</th>\n",
              "      <th>gluc</th>\n",
              "      <th>smoke</th>\n",
              "      <th>alco</th>\n",
              "      <th>active</th>\n",
              "      <th>cardio</th>\n",
              "    </tr>\n",
              "  </thead>\n",
              "  <tbody>\n",
              "    <tr>\n",
              "      <th>0</th>\n",
              "      <td>0</td>\n",
              "      <td>18393</td>\n",
              "      <td>2</td>\n",
              "      <td>168</td>\n",
              "      <td>62.0</td>\n",
              "      <td>110</td>\n",
              "      <td>80</td>\n",
              "      <td>1</td>\n",
              "      <td>1</td>\n",
              "      <td>0</td>\n",
              "      <td>0</td>\n",
              "      <td>1</td>\n",
              "      <td>0</td>\n",
              "    </tr>\n",
              "    <tr>\n",
              "      <th>1</th>\n",
              "      <td>1</td>\n",
              "      <td>20228</td>\n",
              "      <td>1</td>\n",
              "      <td>156</td>\n",
              "      <td>85.0</td>\n",
              "      <td>140</td>\n",
              "      <td>90</td>\n",
              "      <td>3</td>\n",
              "      <td>1</td>\n",
              "      <td>0</td>\n",
              "      <td>0</td>\n",
              "      <td>1</td>\n",
              "      <td>1</td>\n",
              "    </tr>\n",
              "    <tr>\n",
              "      <th>2</th>\n",
              "      <td>2</td>\n",
              "      <td>18857</td>\n",
              "      <td>1</td>\n",
              "      <td>165</td>\n",
              "      <td>64.0</td>\n",
              "      <td>130</td>\n",
              "      <td>70</td>\n",
              "      <td>3</td>\n",
              "      <td>1</td>\n",
              "      <td>0</td>\n",
              "      <td>0</td>\n",
              "      <td>0</td>\n",
              "      <td>1</td>\n",
              "    </tr>\n",
              "  </tbody>\n",
              "</table>\n",
              "</div>"
            ],
            "text/plain": [
              "   id    age  gender  height  weight  ...  gluc  smoke  alco  active  cardio\n",
              "0   0  18393       2     168    62.0  ...     1      0     0       1       0\n",
              "1   1  20228       1     156    85.0  ...     1      0     0       1       1\n",
              "2   2  18857       1     165    64.0  ...     1      0     0       0       1\n",
              "\n",
              "[3 rows x 13 columns]"
            ]
          },
          "metadata": {
            "tags": []
          },
          "execution_count": 7
        }
      ]
    },
    {
      "cell_type": "markdown",
      "metadata": {
        "id": "vuhf_YatF2b-"
      },
      "source": [
        "Разделим наши данные на тренировочную и тестовую выборки"
      ]
    },
    {
      "cell_type": "code",
      "metadata": {
        "id": "D4h6Jj7DF2b_"
      },
      "source": [
        "#разделим данные на train/test\n",
        "X_train, X_test, y_train, y_test = train_test_split(df.drop('cardio', 1), \n",
        "                                                    df['cardio'], random_state=0)"
      ],
      "execution_count": null,
      "outputs": []
    },
    {
      "cell_type": "markdown",
      "metadata": {
        "id": "kdT1H3BhF2b_"
      },
      "source": [
        "К полям:\n",
        "- gender, cholesterol применим OHE-кодирование\n",
        "- age, height, weight, ap_hi, ap_lo - standardScaler\n",
        "- gluc, smoke, alco, active - оставим пока как есть"
      ]
    },
    {
      "cell_type": "code",
      "metadata": {
        "id": "30EQ9U8BF2b_"
      },
      "source": [
        "class ColumnSelector(BaseEstimator, TransformerMixin):\n",
        "    \"\"\"\n",
        "    Transformer to select a single column from the data frame to perform additional transformations on\n",
        "    \"\"\"\n",
        "    def __init__(self, key):\n",
        "        self.key = key\n",
        "\n",
        "    def fit(self, X, y=None):\n",
        "        return self\n",
        "\n",
        "    def transform(self, X):\n",
        "        return X[self.key]\n",
        "    \n",
        "class NumberSelector(BaseEstimator, TransformerMixin):\n",
        "    \"\"\"\n",
        "    Transformer to select a single column from the data frame to perform additional transformations on\n",
        "    Use on numeric columns in the data\n",
        "    \"\"\"\n",
        "    def __init__(self, key):\n",
        "        self.key = key\n",
        "\n",
        "    def fit(self, X, y=None):\n",
        "        return self\n",
        "\n",
        "    def transform(self, X):\n",
        "        return X[[self.key]]\n",
        "    \n",
        "class OHEEncoder(BaseEstimator, TransformerMixin):\n",
        "    def __init__(self, key):\n",
        "        self.key = key\n",
        "        self.columns = []\n",
        "\n",
        "    def fit(self, X, y=None):\n",
        "        self.columns = [col for col in pd.get_dummies(X, prefix=self.key).columns]\n",
        "        return self\n",
        "\n",
        "    def transform(self, X):\n",
        "        X = pd.get_dummies(X, prefix=self.key)\n",
        "        test_columns = [col for col in X.columns]\n",
        "        for col_ in test_columns:\n",
        "            if col_ not in self.columns:\n",
        "                X[col_] = 0\n",
        "        return X[self.columns]\n",
        "\n",
        "\n",
        "from sklearn.preprocessing import StandardScaler\n",
        "\n",
        "\n",
        "continuos_cols = ['age', 'height', 'weight', 'ap_hi', 'ap_lo']\n",
        "cat_cols = ['gender', 'cholesterol']\n",
        "base_cols = ['gluc', 'smoke', 'alco', 'active']\n",
        "\n",
        "continuos_transformers = []\n",
        "cat_transformers = []\n",
        "base_transformers = []\n",
        "\n",
        "for cont_col in continuos_cols:\n",
        "    transfomer =  Pipeline([\n",
        "                ('selector', NumberSelector(key=cont_col)),\n",
        "                ('standard', StandardScaler())\n",
        "            ])\n",
        "    continuos_transformers.append((cont_col, transfomer))\n",
        "    \n",
        "for cat_col in cat_cols:\n",
        "    cat_transformer = Pipeline([\n",
        "                ('selector', ColumnSelector(key=cat_col)),\n",
        "                ('ohe', OHEEncoder(key=cat_col))\n",
        "            ])\n",
        "    cat_transformers.append((cat_col, cat_transformer))\n",
        "    \n",
        "for base_col in base_cols:\n",
        "    base_transformer = Pipeline([\n",
        "                ('selector', NumberSelector(key=base_col))\n",
        "            ])\n",
        "    base_transformers.append((base_col, base_transformer))"
      ],
      "execution_count": null,
      "outputs": []
    },
    {
      "cell_type": "markdown",
      "metadata": {
        "id": "iBgg5KpPF2b_"
      },
      "source": [
        "Теперь объединим все наши трансформеры с помощью FeatureUnion"
      ]
    },
    {
      "cell_type": "code",
      "metadata": {
        "id": "WdsRa1JvF2cA",
        "colab": {
          "base_uri": "https://localhost:8080/"
        },
        "outputId": "75992930-1914-4a3c-f1d2-dacc26eecc84"
      },
      "source": [
        "from sklearn.pipeline import FeatureUnion\n",
        "\n",
        "feats = FeatureUnion(continuos_transformers+cat_transformers+base_transformers)\n",
        "feature_processing = Pipeline([('feats', feats)])\n",
        "\n",
        "feature_processing.fit_transform(X_train)"
      ],
      "execution_count": null,
      "outputs": [
        {
          "output_type": "execute_result",
          "data": {
            "text/plain": [
              "array([[-1.73391771,  0.6873301 ,  0.74843904, ...,  1.        ,\n",
              "         0.        ,  1.        ],\n",
              "       [-1.67343538,  0.07758923, -0.29640123, ...,  0.        ,\n",
              "         0.        ,  1.        ],\n",
              "       [ 0.13738132,  1.17512278, -0.15708919, ...,  0.        ,\n",
              "         0.        ,  0.        ],\n",
              "       ...,\n",
              "       [ 1.17775864,  1.17512278, -0.15708919, ...,  0.        ,\n",
              "         0.        ,  1.        ],\n",
              "       [-0.47190715, -1.38578883,  0.74843904, ...,  0.        ,\n",
              "         0.        ,  1.        ],\n",
              "       [ 0.38174619,  0.56538192, -0.08743318, ...,  0.        ,\n",
              "         0.        ,  1.        ]])"
            ]
          },
          "metadata": {
            "tags": []
          },
          "execution_count": 10
        }
      ]
    },
    {
      "cell_type": "markdown",
      "metadata": {
        "id": "QA6-NF5IF2cA"
      },
      "source": [
        "Добавим классификатор и запустим кросс-валидацию"
      ]
    },
    {
      "cell_type": "code",
      "metadata": {
        "id": "lWQsCHX_F2cA",
        "colab": {
          "base_uri": "https://localhost:8080/"
        },
        "outputId": "accb095d-27ba-4ff7-be25-701941ad5a7b"
      },
      "source": [
        "classifier = Pipeline([\n",
        "    ('features',feats),\n",
        "    ('classifier', LogisticRegression(random_state = 42)),\n",
        "])\n",
        "\n",
        "\n",
        "#запустим кросс-валидацию\n",
        "cv_scores = cross_val_score(classifier, X_train, y_train, cv=16, scoring='roc_auc')\n",
        "cv_score = np.mean(cv_scores)\n",
        "cv_score_std = np.std(cv_scores)\n",
        "print('CV score is {}+-{}'.format(cv_score, cv_score_std))\n",
        "\n",
        "#обучим пайплайн на всем тренировочном датасете\n",
        "classifier.fit(X_train, y_train)\n",
        "y_score = classifier.predict_proba(X_test)[:, 1]"
      ],
      "execution_count": null,
      "outputs": [
        {
          "output_type": "stream",
          "text": [
            "CV score is 0.7867401104915408+-0.00852135511666111\n"
          ],
          "name": "stdout"
        }
      ]
    },
    {
      "cell_type": "markdown",
      "metadata": {
        "id": "DhVNY6tWF2cB"
      },
      "source": [
        "Посчитаем precision/recall/f_score"
      ]
    },
    {
      "cell_type": "code",
      "metadata": {
        "id": "HmhI8-cJF2cB",
        "colab": {
          "base_uri": "https://localhost:8080/",
          "height": 235
        },
        "outputId": "7d11e395-b414-42fc-a1f2-75a5c1c50494"
      },
      "source": [
        "b=1\n",
        "precision, recall, thresholds = precision_recall_curve(y_test.values, y_score)\n",
        "fscore = (1+b**2)*(precision * recall) / (b**2*precision + recall)\n",
        "# locate the index of the largest f score\n",
        "ix = np.argmax(fscore)\n",
        "print('Best Threshold=%f, F-Score=%.3f, Precision=%.3f, Recall=%.3f' % (thresholds[ix], \n",
        "                                                                        fscore[ix],\n",
        "                                                                        precision[ix],\n",
        "                                                                        recall[ix]))"
      ],
      "execution_count": null,
      "outputs": [
        {
          "output_type": "error",
          "ename": "NameError",
          "evalue": "ignored",
          "traceback": [
            "\u001b[0;31m---------------------------------------------------------------------------\u001b[0m",
            "\u001b[0;31mNameError\u001b[0m                                 Traceback (most recent call last)",
            "\u001b[0;32m<ipython-input-12-a6589924b8a7>\u001b[0m in \u001b[0;36m<module>\u001b[0;34m()\u001b[0m\n\u001b[1;32m      1\u001b[0m \u001b[0mb\u001b[0m\u001b[0;34m=\u001b[0m\u001b[0;36m1\u001b[0m\u001b[0;34m\u001b[0m\u001b[0;34m\u001b[0m\u001b[0m\n\u001b[0;32m----> 2\u001b[0;31m \u001b[0mprecision\u001b[0m\u001b[0;34m,\u001b[0m \u001b[0mrecall\u001b[0m\u001b[0;34m,\u001b[0m \u001b[0mthresholds\u001b[0m \u001b[0;34m=\u001b[0m \u001b[0mprecision_recall_curve\u001b[0m\u001b[0;34m(\u001b[0m\u001b[0my_test\u001b[0m\u001b[0;34m.\u001b[0m\u001b[0mvalues\u001b[0m\u001b[0;34m,\u001b[0m \u001b[0my_score\u001b[0m\u001b[0;34m)\u001b[0m\u001b[0;34m\u001b[0m\u001b[0;34m\u001b[0m\u001b[0m\n\u001b[0m\u001b[1;32m      3\u001b[0m \u001b[0mfscore\u001b[0m \u001b[0;34m=\u001b[0m \u001b[0;34m(\u001b[0m\u001b[0;36m1\u001b[0m\u001b[0;34m+\u001b[0m\u001b[0mb\u001b[0m\u001b[0;34m**\u001b[0m\u001b[0;36m2\u001b[0m\u001b[0;34m)\u001b[0m\u001b[0;34m*\u001b[0m\u001b[0;34m(\u001b[0m\u001b[0mprecision\u001b[0m \u001b[0;34m*\u001b[0m \u001b[0mrecall\u001b[0m\u001b[0;34m)\u001b[0m \u001b[0;34m/\u001b[0m \u001b[0;34m(\u001b[0m\u001b[0mb\u001b[0m\u001b[0;34m**\u001b[0m\u001b[0;36m2\u001b[0m\u001b[0;34m*\u001b[0m\u001b[0mprecision\u001b[0m \u001b[0;34m+\u001b[0m \u001b[0mrecall\u001b[0m\u001b[0;34m)\u001b[0m\u001b[0;34m\u001b[0m\u001b[0;34m\u001b[0m\u001b[0m\n\u001b[1;32m      4\u001b[0m \u001b[0;31m# locate the index of the largest f score\u001b[0m\u001b[0;34m\u001b[0m\u001b[0;34m\u001b[0m\u001b[0;34m\u001b[0m\u001b[0m\n\u001b[1;32m      5\u001b[0m \u001b[0mix\u001b[0m \u001b[0;34m=\u001b[0m \u001b[0mnp\u001b[0m\u001b[0;34m.\u001b[0m\u001b[0margmax\u001b[0m\u001b[0;34m(\u001b[0m\u001b[0mfscore\u001b[0m\u001b[0;34m)\u001b[0m\u001b[0;34m\u001b[0m\u001b[0;34m\u001b[0m\u001b[0m\n",
            "\u001b[0;31mNameError\u001b[0m: name 'precision_recall_curve' is not defined"
          ]
        }
      ]
    },
    {
      "cell_type": "markdown",
      "metadata": {
        "id": "LEJxs3txF2cB"
      },
      "source": [
        "Нарисуем roc auc кривую (кстати, наверное неплохо бы ее вынести в отдельную функцию)"
      ]
    },
    {
      "cell_type": "code",
      "metadata": {
        "id": "efLA_02BF2cC"
      },
      "source": [
        "sns.set(font_scale=1.5)\n",
        "sns.set_color_codes(\"muted\")\n",
        "\n",
        "plt.figure(figsize=(10, 8))\n",
        "fpr, tpr, thresholds_ = roc_curve(y_test, y_score, pos_label=1)\n",
        "lw = 2\n",
        "plt.plot(fpr, tpr, lw=lw, label='ROC curve ')\n",
        "plt.plot([0, 1], [0, 1])\n",
        "plt.xlim([0.0, 1.0])\n",
        "plt.ylim([0.0, 1.05])\n",
        "plt.xlabel('False Positive Rate')\n",
        "plt.ylabel('True Positive Rate')\n",
        "plt.title('ROC curve')\n",
        "plt.savefig(\"ROC.png\")\n",
        "plt.show()"
      ],
      "execution_count": null,
      "outputs": []
    },
    {
      "cell_type": "code",
      "metadata": {
        "id": "0SyvIUe9F2cC"
      },
      "source": [
        ""
      ],
      "execution_count": null,
      "outputs": []
    },
    {
      "cell_type": "code",
      "metadata": {
        "id": "k8rr7WMbF2cC"
      },
      "source": [
        "from sklearn.metrics import roc_auc_score, log_loss\n",
        "\n",
        "#Ваш код здесь\n",
        "print(\"roc auc score: {}\".format(roc_auc_score(y_true=y_test, y_score=classifier.predict_proba(X_test)[:,1])))\n",
        "print(\"log loss score: {}\".format(log_loss(y_true=y_test, y_pred=classifier.predict_proba(X_test)[:,1])))"
      ],
      "execution_count": null,
      "outputs": []
    },
    {
      "cell_type": "markdown",
      "metadata": {
        "id": "dShrEyIYF2cC"
      },
      "source": [
        "Посомтрим на матрицу ошибок"
      ]
    },
    {
      "cell_type": "code",
      "metadata": {
        "id": "8Mrwd0QPF2cD"
      },
      "source": [
        "#мы уже нашли ранее \"оптимальный\" порог, когда максимизировали f_score\n",
        "font = {'size' : 15}\n",
        "\n",
        "plt.rc('font', **font)\n",
        "\n",
        "cnf_matrix = confusion_matrix(y_test, y_score>thresholds[ix])\n",
        "plt.figure(figsize=(10, 8))\n",
        "plot_confusion_matrix(cnf_matrix, classes=['cardio_0', 'cardio_1'],\n",
        "                      title='Confusion matrix')\n",
        "plt.savefig(\"conf_matrix.png\")\n",
        "plt.show()"
      ],
      "execution_count": null,
      "outputs": []
    },
    {
      "cell_type": "markdown",
      "metadata": {
        "id": "45h-LaBDF2cD"
      },
      "source": [
        "Посчитаем FPR, TPR"
      ]
    },
    {
      "cell_type": "code",
      "metadata": {
        "id": "4HJR-NWrF2cD"
      },
      "source": [
        "TN = cnf_matrix[0][0]\n",
        "FN = cnf_matrix[1][0]\n",
        "TP = cnf_matrix[1][1]\n",
        "FP = cnf_matrix[0][1]\n",
        "\n",
        "TPR = TP/(TP+FN)\n",
        "FPR = FP/(FP+TN)\n",
        "TNR = TN/(FP+TN)\n",
        "TPR, FPR, TNR"
      ],
      "execution_count": null,
      "outputs": []
    },
    {
      "cell_type": "markdown",
      "metadata": {
        "id": "GDgG7S72F2cD"
      },
      "source": [
        "False Positive Rate довольно высокий ~ 0.45.\n",
        "\n",
        "Это означает, что 45 процентов всех пациентов получат метку 1 при том, что они на самом деле здоровы"
      ]
    },
    {
      "cell_type": "markdown",
      "metadata": {
        "id": "gEru05tnF2cE"
      },
      "source": [
        "Хорошая ли модель у нас получилась? - ответ сильно зависит от внешних факторов (какое количество FP мы можем допустить)"
      ]
    },
    {
      "cell_type": "code",
      "metadata": {
        "id": "wy1nx_xSF2cE"
      },
      "source": [
        ""
      ],
      "execution_count": null,
      "outputs": []
    },
    {
      "cell_type": "markdown",
      "metadata": {
        "id": "muA0i-mNF2cE"
      },
      "source": [
        "### Домашнее задание"
      ]
    },
    {
      "cell_type": "markdown",
      "metadata": {
        "id": "4Y9zacypF2cE"
      },
      "source": [
        "1. обучить несколько разных моделей на наборе данных ССЗ (train_case2.csv): логрег, бустинг, лес и т.д - на ваш выбор 2-3 варианта\n",
        "2. при обучении моделей обязательно использовать кроссвалидацию\n",
        "3. вывести сравнение полученных моделей по основным метрикам классификации: pr/rec/auc/f_score (можно в виде таблицы, где строки - модели, а столбцы - метрики)\n",
        "4. сделать выводы о том, какая модель справилась с задачей лучше других\n",
        "5. (опциональный вопрос) какая метрика (precision_recall_curve или roc_auc_curve) больше подходит в случае сильного дисбаланса классов? (когда объектов одного из классов намного больше чем другого). \n",
        "\n",
        "p.s.В вопросе проще разобраться, если вспомнить оси на графике roc auc curve и рассмотреть такой пример:\n",
        "\n",
        "Имеется 100000 объектов, из которых только 100 - класс \"1\" (99900 - класс \"0\", соответственно). \n",
        "Допустим, у нас две модели:\n",
        "\n",
        "- первая помечает 100 объектов как класс 1, но TP = 90\n",
        "- вторая помечает 1000 объектов как класс 1, но TP такой же - 90\n",
        "\n",
        "Какая модель лучше и почему? И что позволяет легче сделать вывод - roc_auc_curve или precision_recall_curve?"
      ]
    },
    {
      "cell_type": "code",
      "metadata": {
        "id": "CLTU5H0pmJun"
      },
      "source": [
        "import numpy as np\n",
        "import pandas as pd\n",
        "\n",
        "from sklearn.feature_extraction.text import TfidfVectorizer\n",
        "from sklearn.linear_model import LogisticRegression\n",
        "from sklearn.ensemble import GradientBoostingClassifier\n",
        "from sklearn.ensemble import RandomForestClassifier\n",
        "from sklearn.tree import DecisionTreeClassifier\n",
        "from sklearn.model_selection import cross_val_score, train_test_split\n",
        "from scipy.sparse import hstack\n",
        "from sklearn.pipeline import Pipeline, make_pipeline\n",
        "from sklearn.base import BaseEstimator, TransformerMixin\n",
        "import matplotlib.pyplot as plt\n",
        "import seaborn as sns\n",
        "import itertools\n",
        "from sklearn.metrics import roc_curve\n"
      ],
      "execution_count": 1,
      "outputs": []
    },
    {
      "cell_type": "code",
      "metadata": {
        "colab": {
          "resources": {
            "http://localhost:8080/nbextensions/google.colab/files.js": {
              "data": "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",
              "ok": true,
              "headers": [
                [
                  "content-type",
                  "application/javascript"
                ]
              ],
              "status": 200,
              "status_text": ""
            }
          },
          "base_uri": "https://localhost:8080/",
          "height": 73
        },
        "id": "GbuHvaLQMPu7",
        "outputId": "74de29b8-f652-4d00-8794-6490000d3a81"
      },
      "source": [
        "from google.colab import files\n",
        "uploaded = files.upload()"
      ],
      "execution_count": 2,
      "outputs": [
        {
          "output_type": "display_data",
          "data": {
            "text/html": [
              "\n",
              "     <input type=\"file\" id=\"files-c07b8580-afa3-480f-b187-1c1cd22cf2a2\" name=\"files[]\" multiple disabled\n",
              "        style=\"border:none\" />\n",
              "     <output id=\"result-c07b8580-afa3-480f-b187-1c1cd22cf2a2\">\n",
              "      Upload widget is only available when the cell has been executed in the\n",
              "      current browser session. Please rerun this cell to enable.\n",
              "      </output>\n",
              "      <script src=\"/nbextensions/google.colab/files.js\"></script> "
            ],
            "text/plain": [
              "<IPython.core.display.HTML object>"
            ]
          },
          "metadata": {
            "tags": []
          }
        },
        {
          "output_type": "stream",
          "text": [
            "Saving train_case2.csv to train_case2.csv\n"
          ],
          "name": "stdout"
        }
      ]
    },
    {
      "cell_type": "code",
      "metadata": {
        "colab": {
          "base_uri": "https://localhost:8080/",
          "height": 141
        },
        "id": "oe5WiIp-McK4",
        "outputId": "7df4d9f8-a450-483f-d73c-81c1cd603f67"
      },
      "source": [
        "import io\n",
        "df = pd.read_csv(io.BytesIO(uploaded['train_case2.csv']), delimiter = ';', engine = 'python')\n",
        "df.head(3)"
      ],
      "execution_count": 3,
      "outputs": [
        {
          "output_type": "execute_result",
          "data": {
            "text/html": [
              "<div>\n",
              "<style scoped>\n",
              "    .dataframe tbody tr th:only-of-type {\n",
              "        vertical-align: middle;\n",
              "    }\n",
              "\n",
              "    .dataframe tbody tr th {\n",
              "        vertical-align: top;\n",
              "    }\n",
              "\n",
              "    .dataframe thead th {\n",
              "        text-align: right;\n",
              "    }\n",
              "</style>\n",
              "<table border=\"1\" class=\"dataframe\">\n",
              "  <thead>\n",
              "    <tr style=\"text-align: right;\">\n",
              "      <th></th>\n",
              "      <th>id</th>\n",
              "      <th>age</th>\n",
              "      <th>gender</th>\n",
              "      <th>height</th>\n",
              "      <th>weight</th>\n",
              "      <th>ap_hi</th>\n",
              "      <th>ap_lo</th>\n",
              "      <th>cholesterol</th>\n",
              "      <th>gluc</th>\n",
              "      <th>smoke</th>\n",
              "      <th>alco</th>\n",
              "      <th>active</th>\n",
              "      <th>cardio</th>\n",
              "    </tr>\n",
              "  </thead>\n",
              "  <tbody>\n",
              "    <tr>\n",
              "      <th>0</th>\n",
              "      <td>0</td>\n",
              "      <td>18393</td>\n",
              "      <td>2</td>\n",
              "      <td>168</td>\n",
              "      <td>62.0</td>\n",
              "      <td>110</td>\n",
              "      <td>80</td>\n",
              "      <td>1</td>\n",
              "      <td>1</td>\n",
              "      <td>0</td>\n",
              "      <td>0</td>\n",
              "      <td>1</td>\n",
              "      <td>0</td>\n",
              "    </tr>\n",
              "    <tr>\n",
              "      <th>1</th>\n",
              "      <td>1</td>\n",
              "      <td>20228</td>\n",
              "      <td>1</td>\n",
              "      <td>156</td>\n",
              "      <td>85.0</td>\n",
              "      <td>140</td>\n",
              "      <td>90</td>\n",
              "      <td>3</td>\n",
              "      <td>1</td>\n",
              "      <td>0</td>\n",
              "      <td>0</td>\n",
              "      <td>1</td>\n",
              "      <td>1</td>\n",
              "    </tr>\n",
              "    <tr>\n",
              "      <th>2</th>\n",
              "      <td>2</td>\n",
              "      <td>18857</td>\n",
              "      <td>1</td>\n",
              "      <td>165</td>\n",
              "      <td>64.0</td>\n",
              "      <td>130</td>\n",
              "      <td>70</td>\n",
              "      <td>3</td>\n",
              "      <td>1</td>\n",
              "      <td>0</td>\n",
              "      <td>0</td>\n",
              "      <td>0</td>\n",
              "      <td>1</td>\n",
              "    </tr>\n",
              "  </tbody>\n",
              "</table>\n",
              "</div>"
            ],
            "text/plain": [
              "   id    age  gender  height  weight  ...  gluc  smoke  alco  active  cardio\n",
              "0   0  18393       2     168    62.0  ...     1      0     0       1       0\n",
              "1   1  20228       1     156    85.0  ...     1      0     0       1       1\n",
              "2   2  18857       1     165    64.0  ...     1      0     0       0       1\n",
              "\n",
              "[3 rows x 13 columns]"
            ]
          },
          "metadata": {
            "tags": []
          },
          "execution_count": 3
        }
      ]
    },
    {
      "cell_type": "code",
      "metadata": {
        "colab": {
          "base_uri": "https://localhost:8080/"
        },
        "id": "kws1oaXTWcxF",
        "outputId": "0e6b30e0-c314-4527-daac-b86317efd4e0"
      },
      "source": [
        "X = df.drop('cardio', axis = 1)\n",
        "y = df['cardio']\n",
        "#разделим данные на train/test\n",
        "X_train, X_test, y_train, y_test = train_test_split(X, \n",
        "                                                   y, random_state=0)\n",
        "##Посмотрим на распределение классов\n",
        "y_train.value_counts(normalize=True), y_test.value_counts(normalize=True)"
      ],
      "execution_count": 4,
      "outputs": [
        {
          "output_type": "execute_result",
          "data": {
            "text/plain": [
              "(1    0.500933\n",
              " 0    0.499067\n",
              " Name: cardio, dtype: float64, 0    0.504\n",
              " 1    0.496\n",
              " Name: cardio, dtype: float64)"
            ]
          },
          "metadata": {
            "tags": []
          },
          "execution_count": 4
        }
      ]
    },
    {
      "cell_type": "markdown",
      "metadata": {
        "id": "FawLwxqSmzDh"
      },
      "source": [
        "gender, cholesterol применим OHE-кодирование\n",
        "age, height, weight, ap_hi, ap_lo - standardScaler\n",
        "gluc, smoke, alco, active - оставим пока как есть"
      ]
    },
    {
      "cell_type": "code",
      "metadata": {
        "id": "uYrHJi14m7Ny"
      },
      "source": [
        "class ColumnSelector(BaseEstimator, TransformerMixin):\n",
        "    \"\"\"\n",
        "    Transformer to select a single column from the data frame to perform additional transformations on\n",
        "    \"\"\"\n",
        "    def __init__(self, key):\n",
        "        self.key = key\n",
        "\n",
        "    def fit(self, X, y=None):\n",
        "        return self\n",
        "\n",
        "    def transform(self, X):\n",
        "        return X[self.key]\n",
        "    \n",
        "class NumberSelector(BaseEstimator, TransformerMixin):\n",
        "    \"\"\"\n",
        "    Transformer to select a single column from the data frame to perform additional transformations on\n",
        "    Use on numeric columns in the data\n",
        "    \"\"\"\n",
        "    def __init__(self, key):\n",
        "        self.key = key\n",
        "\n",
        "    def fit(self, X, y=None):\n",
        "        return self\n",
        "\n",
        "    def transform(self, X):\n",
        "        return X[[self.key]]\n",
        "    \n",
        "class OHEEncoder(BaseEstimator, TransformerMixin):\n",
        "    def __init__(self, key):\n",
        "        self.key = key\n",
        "        self.columns = []\n",
        "\n",
        "    def fit(self, X, y=None):\n",
        "        self.columns = [col for col in pd.get_dummies(X, prefix=self.key).columns]\n",
        "        return self\n",
        "\n",
        "    def transform(self, X):\n",
        "        X = pd.get_dummies(X, prefix=self.key)\n",
        "        test_columns = [col for col in X.columns]\n",
        "        for col_ in test_columns:\n",
        "            if col_ not in self.columns:\n",
        "                X[col_] = 0\n",
        "        return X[self.columns]\n",
        "\n",
        "\n",
        "from sklearn.preprocessing import StandardScaler\n",
        "\n",
        "\n",
        "continuos_cols = ['age', 'height', 'weight', 'ap_hi', 'ap_lo']\n",
        "cat_cols = ['gender', 'cholesterol']\n",
        "base_cols = ['gluc', 'smoke', 'alco', 'active']\n",
        "\n",
        "continuos_transformers = []\n",
        "cat_transformers = []\n",
        "base_transformers = []\n",
        "\n",
        "for cont_col in continuos_cols:\n",
        "    transfomer =  Pipeline([\n",
        "                ('selector', NumberSelector(key=cont_col)),\n",
        "                ('standard', StandardScaler())\n",
        "            ])\n",
        "    continuos_transformers.append((cont_col, transfomer))\n",
        "    \n",
        "for cat_col in cat_cols:\n",
        "    cat_transformer = Pipeline([\n",
        "                ('selector', ColumnSelector(key=cat_col)),\n",
        "                ('ohe', OHEEncoder(key=cat_col))\n",
        "            ])\n",
        "    cat_transformers.append((cat_col, cat_transformer))\n",
        "    \n",
        "for base_col in base_cols:\n",
        "    base_transformer = Pipeline([\n",
        "                ('selector', NumberSelector(key=base_col))\n",
        "            ])\n",
        "    base_transformers.append((base_col, base_transformer))"
      ],
      "execution_count": 5,
      "outputs": []
    },
    {
      "cell_type": "markdown",
      "metadata": {
        "id": "sn2yUzxvrJNw"
      },
      "source": [
        "Теперь объединим все наши трансформеры с помощью FeatureUnion\n"
      ]
    },
    {
      "cell_type": "code",
      "metadata": {
        "colab": {
          "base_uri": "https://localhost:8080/"
        },
        "id": "5zxWAA_ZrLaN",
        "outputId": "c1ba7b56-04ec-4d3a-9c01-45a07e26bdf3"
      },
      "source": [
        "from sklearn.pipeline import FeatureUnion\n",
        "\n",
        "feats = FeatureUnion(continuos_transformers+cat_transformers+base_transformers)\n",
        "feature_processing = Pipeline([('feats', feats)])\n",
        "\n",
        "feature_processing.fit_transform(X_train)"
      ],
      "execution_count": 6,
      "outputs": [
        {
          "output_type": "execute_result",
          "data": {
            "text/plain": [
              "array([[-1.73391771,  0.6873301 ,  0.74843904, ...,  1.        ,\n",
              "         0.        ,  1.        ],\n",
              "       [-1.67343538,  0.07758923, -0.29640123, ...,  0.        ,\n",
              "         0.        ,  1.        ],\n",
              "       [ 0.13738132,  1.17512278, -0.15708919, ...,  0.        ,\n",
              "         0.        ,  0.        ],\n",
              "       ...,\n",
              "       [ 1.17775864,  1.17512278, -0.15708919, ...,  0.        ,\n",
              "         0.        ,  1.        ],\n",
              "       [-0.47190715, -1.38578883,  0.74843904, ...,  0.        ,\n",
              "         0.        ,  1.        ],\n",
              "       [ 0.38174619,  0.56538192, -0.08743318, ...,  0.        ,\n",
              "         0.        ,  1.        ]])"
            ]
          },
          "metadata": {
            "tags": []
          },
          "execution_count": 6
        }
      ]
    },
    {
      "cell_type": "code",
      "metadata": {
        "colab": {
          "base_uri": "https://localhost:8080/",
          "height": 141
        },
        "id": "7h8RhSEa3P3N",
        "outputId": "a9276f18-5826-4739-b26c-662150554bf5"
      },
      "source": [
        "X_train.head(3)"
      ],
      "execution_count": 7,
      "outputs": [
        {
          "output_type": "execute_result",
          "data": {
            "text/html": [
              "<div>\n",
              "<style scoped>\n",
              "    .dataframe tbody tr th:only-of-type {\n",
              "        vertical-align: middle;\n",
              "    }\n",
              "\n",
              "    .dataframe tbody tr th {\n",
              "        vertical-align: top;\n",
              "    }\n",
              "\n",
              "    .dataframe thead th {\n",
              "        text-align: right;\n",
              "    }\n",
              "</style>\n",
              "<table border=\"1\" class=\"dataframe\">\n",
              "  <thead>\n",
              "    <tr style=\"text-align: right;\">\n",
              "      <th></th>\n",
              "      <th>id</th>\n",
              "      <th>age</th>\n",
              "      <th>gender</th>\n",
              "      <th>height</th>\n",
              "      <th>weight</th>\n",
              "      <th>ap_hi</th>\n",
              "      <th>ap_lo</th>\n",
              "      <th>cholesterol</th>\n",
              "      <th>gluc</th>\n",
              "      <th>smoke</th>\n",
              "      <th>alco</th>\n",
              "      <th>active</th>\n",
              "    </tr>\n",
              "  </thead>\n",
              "  <tbody>\n",
              "    <tr>\n",
              "      <th>4497</th>\n",
              "      <td>6369</td>\n",
              "      <td>15212</td>\n",
              "      <td>2</td>\n",
              "      <td>170</td>\n",
              "      <td>85.0</td>\n",
              "      <td>130</td>\n",
              "      <td>80</td>\n",
              "      <td>3</td>\n",
              "      <td>3</td>\n",
              "      <td>1</td>\n",
              "      <td>0</td>\n",
              "      <td>1</td>\n",
              "    </tr>\n",
              "    <tr>\n",
              "      <th>8301</th>\n",
              "      <td>11845</td>\n",
              "      <td>15361</td>\n",
              "      <td>1</td>\n",
              "      <td>165</td>\n",
              "      <td>70.0</td>\n",
              "      <td>110</td>\n",
              "      <td>70</td>\n",
              "      <td>1</td>\n",
              "      <td>1</td>\n",
              "      <td>0</td>\n",
              "      <td>0</td>\n",
              "      <td>1</td>\n",
              "    </tr>\n",
              "    <tr>\n",
              "      <th>63679</th>\n",
              "      <td>90920</td>\n",
              "      <td>19822</td>\n",
              "      <td>1</td>\n",
              "      <td>174</td>\n",
              "      <td>72.0</td>\n",
              "      <td>120</td>\n",
              "      <td>80</td>\n",
              "      <td>1</td>\n",
              "      <td>1</td>\n",
              "      <td>0</td>\n",
              "      <td>0</td>\n",
              "      <td>0</td>\n",
              "    </tr>\n",
              "  </tbody>\n",
              "</table>\n",
              "</div>"
            ],
            "text/plain": [
              "          id    age  gender  height  ...  gluc  smoke  alco  active\n",
              "4497    6369  15212       2     170  ...     3      1     0       1\n",
              "8301   11845  15361       1     165  ...     1      0     0       1\n",
              "63679  90920  19822       1     174  ...     1      0     0       0\n",
              "\n",
              "[3 rows x 12 columns]"
            ]
          },
          "metadata": {
            "tags": []
          },
          "execution_count": 7
        }
      ]
    },
    {
      "cell_type": "code",
      "metadata": {
        "colab": {
          "base_uri": "https://localhost:8080/"
        },
        "id": "8vdYCKECZiHX",
        "outputId": "64a6b38c-de02-4c57-b124-2315c3352127"
      },
      "source": [
        "## Логистическая регрессия\n",
        "classifier = Pipeline([\n",
        "    ('features',feats),\n",
        "    ('classifier', LogisticRegression(C =0.1, max_iter = 9000, solver='sag', random_state = 42)),\n",
        "])\n",
        "\n",
        "## Логистическая регрессия\n",
        "##clf = LogisticRegression(C =0.1, max_iter = 9000, solver='sag')\n",
        "#запустим кросс-валидацию\n",
        "cv_scores = cross_val_score(classifier, X_train, y_train, cv=3, scoring='roc_auc')\n",
        "cv_score = np.mean(cv_scores)\n",
        "print('CV score is {}'.format(cv_score))"
      ],
      "execution_count": 8,
      "outputs": [
        {
          "output_type": "stream",
          "text": [
            "CV score is 0.7832115646089436\n"
          ],
          "name": "stdout"
        }
      ]
    },
    {
      "cell_type": "code",
      "metadata": {
        "colab": {
          "base_uri": "https://localhost:8080/"
        },
        "id": "IIaeNuDCuEBO",
        "outputId": "aa3478d9-4f22-4c25-afcf-d78df297c778"
      },
      "source": [
        "classifier.fit(X_train, y_train)"
      ],
      "execution_count": 9,
      "outputs": [
        {
          "output_type": "execute_result",
          "data": {
            "text/plain": [
              "Pipeline(memory=None,\n",
              "         steps=[('features',\n",
              "                 FeatureUnion(n_jobs=None,\n",
              "                              transformer_list=[('age',\n",
              "                                                 Pipeline(memory=None,\n",
              "                                                          steps=[('selector',\n",
              "                                                                  NumberSelector(key='age')),\n",
              "                                                                 ('standard',\n",
              "                                                                  StandardScaler(copy=True,\n",
              "                                                                                 with_mean=True,\n",
              "                                                                                 with_std=True))],\n",
              "                                                          verbose=False)),\n",
              "                                                ('height',\n",
              "                                                 Pipeline(memory=None,\n",
              "                                                          steps=[('selector',\n",
              "                                                                  NumberSelector(key='height')),\n",
              "                                                                 ('standard',\n",
              "                                                                  StandardScaler(c...\n",
              "                                                                  NumberSelector(key='active'))],\n",
              "                                                          verbose=False))],\n",
              "                              transformer_weights=None, verbose=False)),\n",
              "                ('classifier',\n",
              "                 LogisticRegression(C=0.1, class_weight=None, dual=False,\n",
              "                                    fit_intercept=True, intercept_scaling=1,\n",
              "                                    l1_ratio=None, max_iter=9000,\n",
              "                                    multi_class='auto', n_jobs=None,\n",
              "                                    penalty='l2', random_state=42, solver='sag',\n",
              "                                    tol=0.0001, verbose=0, warm_start=False))],\n",
              "         verbose=False)"
            ]
          },
          "metadata": {
            "tags": []
          },
          "execution_count": 9
        }
      ]
    },
    {
      "cell_type": "markdown",
      "metadata": {
        "id": "XaTa5FAnF2cE"
      },
      "source": [
        "### Ссылки"
      ]
    },
    {
      "cell_type": "code",
      "metadata": {
        "colab": {
          "base_uri": "https://localhost:8080/"
        },
        "id": "_wUmj5bm576F",
        "outputId": "d1e34408-871f-4957-ae08-ca843d0eaec1"
      },
      "source": [
        "X_test_norm = feature_processing.fit_transform(X_test)\n",
        "X_test_norm"
      ],
      "execution_count": 10,
      "outputs": [
        {
          "output_type": "execute_result",
          "data": {
            "text/plain": [
              "array([[-1.69860553,  0.07941468, -0.89973549, ...,  0.        ,\n",
              "         0.        ,  1.        ],\n",
              "       [ 0.15748212, -0.04195087, -1.38208908, ...,  0.        ,\n",
              "         0.        ,  1.        ],\n",
              "       [ 0.45936373,  0.68624243, -0.34847424, ...,  0.        ,\n",
              "         0.        ,  1.        ],\n",
              "       ...,\n",
              "       [-1.39349524,  0.92897353, -0.69301252, ...,  0.        ,\n",
              "         0.        ,  1.        ],\n",
              "       [-0.24650652, -1.01287527, -0.76192018, ...,  0.        ,\n",
              "         1.        ,  0.        ],\n",
              "       [ 0.14941041,  0.56487688, -0.62410487, ...,  0.        ,\n",
              "         0.        ,  1.        ]])"
            ]
          },
          "metadata": {
            "tags": []
          },
          "execution_count": 10
        }
      ]
    },
    {
      "cell_type": "code",
      "metadata": {
        "id": "uRBs88UxJCDg",
        "colab": {
          "base_uri": "https://localhost:8080/"
        },
        "outputId": "5edd03f3-1631-4fd8-a78f-d632a967c4e3"
      },
      "source": [
        "y_score = classifier.predict_proba(X_test)[:, 1]\n",
        "len(y_score), y_score"
      ],
      "execution_count": 11,
      "outputs": [
        {
          "output_type": "execute_result",
          "data": {
            "text/plain": [
              "(17500, array([0.23104534, 0.28090667, 0.42318952, ..., 0.19545886, 0.70022696,\n",
              "        0.72713184]))"
            ]
          },
          "metadata": {
            "tags": []
          },
          "execution_count": 11
        }
      ]
    },
    {
      "cell_type": "code",
      "metadata": {
        "colab": {
          "base_uri": "https://localhost:8080/"
        },
        "id": "gKYsYFoswkDt",
        "outputId": "e5c6bef7-3856-43da-e842-6705d2b39563"
      },
      "source": [
        "import numpy as np\n",
        "from sklearn.metrics import precision_recall_curve, roc_curve, roc_auc_score, confusion_matrix\n",
        "\n",
        "b=2.55\n",
        "\n",
        "precision, recall, thresholds = precision_recall_curve(y_test.values, y_score)\n",
        "fscore = (1+b**2)*(precision * recall) / (b**2*precision + recall)\n",
        "# locate the index of the largest f score\n",
        "ix = np.argmax(fscore)\n",
        "print('Best Threshold=%f, F-Score=%.3f, Precision=%.3f, Recall=%.3f' % (thresholds[ix], \n",
        "                                                                        fscore[ix],\n",
        "                                                                        precision[ix],\n",
        "                                                                        recall[ix]))"
      ],
      "execution_count": 12,
      "outputs": [
        {
          "output_type": "stream",
          "text": [
            "Best Threshold=0.215461, F-Score=0.881, Precision=0.523, Recall=0.985\n"
          ],
          "name": "stdout"
        }
      ]
    },
    {
      "cell_type": "code",
      "metadata": {
        "id": "taKF5dBgaEoI"
      },
      "source": [
        "def plot_confusion_matrix(cm, classes,\n",
        "                          normalize=False,\n",
        "                          title='Confusion matrix',\n",
        "                          cmap=plt.cm.Blues):\n",
        "    \"\"\"\n",
        "    This function prints and plots the confusion matrix.\n",
        "    Normalization can be applied by setting `normalize=True`.\n",
        "    \"\"\"\n",
        "    plt.imshow(cm, interpolation='nearest', cmap=cmap)\n",
        "    plt.title(title)\n",
        "    plt.colorbar()\n",
        "    tick_marks = np.arange(len(classes))\n",
        "    plt.xticks(tick_marks, classes, rotation=45)\n",
        "    plt.yticks(tick_marks, classes)\n",
        "\n",
        "    if normalize:\n",
        "        cm = cm.astype('float') / cm.sum(axis=1)[:, np.newaxis]\n",
        "        print(\"Normalized confusion matrix\")\n",
        "    else:\n",
        "        print('Confusion matrix, without normalization')\n",
        "\n",
        "    print(cm)\n",
        "\n",
        "    thresh = cm.max() / 2.\n",
        "    for i, j in itertools.product(range(cm.shape[0]), range(cm.shape[1])):\n",
        "        plt.text(j, i, cm[i, j],\n",
        "                 horizontalalignment=\"center\",\n",
        "                 color=\"white\" if cm[i, j] > thresh else \"black\")\n",
        "\n",
        "    plt.tight_layout()\n",
        "    plt.ylabel('True label')\n",
        "    plt.xlabel('Predicted label')"
      ],
      "execution_count": 13,
      "outputs": []
    },
    {
      "cell_type": "code",
      "metadata": {
        "colab": {
          "base_uri": "https://localhost:8080/",
          "height": 645
        },
        "id": "MZEbHNf6aLJM",
        "outputId": "ccf05b87-440f-464a-bc3b-2ca7fb7de870"
      },
      "source": [
        "#мы уже нашли ранее \"оптимальный\" порог, когда максимизировали f_score\n",
        "font = {'size' : 15}\n",
        "\n",
        "plt.rc('font', **font)\n",
        "\n",
        "cnf_matrix = confusion_matrix(y_test, y_score>thresholds[ix])\n",
        "plt.figure(figsize=(10, 8))\n",
        "plot_confusion_matrix(cnf_matrix, classes=['Noncardio', 'cardio'],\n",
        "                      title='Confusion matrix')\n",
        "plt.savefig(\"conf_matrix.png\")\n",
        "plt.show()"
      ],
      "execution_count": 14,
      "outputs": [
        {
          "output_type": "stream",
          "text": [
            "Confusion matrix, without normalization\n",
            "[[1020 7800]\n",
            " [ 131 8549]]\n"
          ],
          "name": "stdout"
        },
        {
          "output_type": "display_data",
          "data": {
            "image/png": "[encoded data removed]",
            "text/plain": [
              "<Figure size 720x576 with 2 Axes>"
            ]
          },
          "metadata": {
            "tags": [],
            "needs_background": "light"
          }
        }
      ]
    },
    {
      "cell_type": "code",
      "metadata": {
        "id": "oSk3FDY9xSXF"
      },
      "source": [
        "roc_auc_score_ = roc_auc_score(y_test, y_score)"
      ],
      "execution_count": 15,
      "outputs": []
    },
    {
      "cell_type": "code",
      "metadata": {
        "colab": {
          "base_uri": "https://localhost:8080/"
        },
        "id": "lDK-JTan2zqg",
        "outputId": "a653d31f-0083-47cc-8090-759c1b6a4a91"
      },
      "source": [
        "LogReg_= [precision[ix], recall[ix], fscore[ix], roc_auc_score_, cv_score]\n",
        "LogReg_"
      ],
      "execution_count": 16,
      "outputs": [
        {
          "output_type": "execute_result",
          "data": {
            "text/plain": [
              "[0.5229357798165137,\n",
              " 0.9850230414746544,\n",
              " 0.8812319948565565,\n",
              " 0.7775372725895273,\n",
              " 0.7832115646089436]"
            ]
          },
          "metadata": {
            "tags": []
          },
          "execution_count": 16
        }
      ]
    },
    {
      "cell_type": "code",
      "metadata": {
        "colab": {
          "base_uri": "https://localhost:8080/"
        },
        "id": "hByBkaWk2JUP",
        "outputId": "e97886dd-bc89-4bad-d1cb-7f0d71fecf23"
      },
      "source": [
        "##Логистическая регрессия БЕЗ PIPELINE\n",
        "clf = LogisticRegression(C =0.1, max_iter = 9000, solver='sag', random_state = 42)\n",
        "#запустим кросс-валидацию\n",
        "cv_scores_wp = cross_val_score(clf, X_train, y_train, cv=3, scoring='roc_auc')\n",
        "cv_score_wp = np.mean(cv_scores_wp)\n",
        "print('CV score is {}'.format(cv_score_wp))"
      ],
      "execution_count": 18,
      "outputs": [
        {
          "output_type": "stream",
          "text": [
            "CV score is 0.7569481024299224\n"
          ],
          "name": "stdout"
        }
      ]
    },
    {
      "cell_type": "code",
      "metadata": {
        "colab": {
          "base_uri": "https://localhost:8080/"
        },
        "id": "QwUiv4Dd2NTs",
        "outputId": "db408d7e-3eba-4d33-ed3e-8112216aa19e"
      },
      "source": [
        "clf.fit(X_train, y_train)"
      ],
      "execution_count": 19,
      "outputs": [
        {
          "output_type": "execute_result",
          "data": {
            "text/plain": [
              "LogisticRegression(C=0.1, class_weight=None, dual=False, fit_intercept=True,\n",
              "                   intercept_scaling=1, l1_ratio=None, max_iter=9000,\n",
              "                   multi_class='auto', n_jobs=None, penalty='l2',\n",
              "                   random_state=42, solver='sag', tol=0.0001, verbose=0,\n",
              "                   warm_start=False)"
            ]
          },
          "metadata": {
            "tags": []
          },
          "execution_count": 19
        }
      ]
    },
    {
      "cell_type": "code",
      "metadata": {
        "colab": {
          "base_uri": "https://localhost:8080/"
        },
        "id": "3rv6EUrk2NkE",
        "outputId": "de725a5e-e8b8-42dc-f245-806de441c1a8"
      },
      "source": [
        "y_score_wp = clf.predict_proba(X_test)[:, 1]\n",
        "len(y_score_wp), y_score_wp"
      ],
      "execution_count": 20,
      "outputs": [
        {
          "output_type": "execute_result",
          "data": {
            "text/plain": [
              "(17500, array([0.30910551, 0.31023331, 0.40415802, ..., 0.20182005, 0.57010154,\n",
              "        0.54219011]))"
            ]
          },
          "metadata": {
            "tags": []
          },
          "execution_count": 20
        }
      ]
    },
    {
      "cell_type": "code",
      "metadata": {
        "colab": {
          "base_uri": "https://localhost:8080/"
        },
        "id": "XMJQODhA4GlF",
        "outputId": "9dfab34e-2589-46ca-98de-b47e8ff555a3"
      },
      "source": [
        "precision_wp, recall_wp, thresholds_wp = precision_recall_curve(y_test.values, y_score_wp)\n",
        "fscore_wp = (1+b**2)*(precision_wp * recall_wp) / (b**2*precision_wp + recall_wp)\n",
        "# locate the index of the largest f score\n",
        "ix = np.argmax(fscore_wp)\n",
        "print('Best Threshold=%f, F-Score=%.3f, Precision=%.3f, Recall=%.3f' % (thresholds_wp[ix], \n",
        "                                                                        fscore_wp[ix],\n",
        "                                                                        precision_wp[ix],\n",
        "                                                                        recall_wp[ix]))"
      ],
      "execution_count": 24,
      "outputs": [
        {
          "output_type": "stream",
          "text": [
            "Best Threshold=0.008575, F-Score=0.881, Precision=0.496, Recall=1.000\n"
          ],
          "name": "stdout"
        }
      ]
    },
    {
      "cell_type": "code",
      "metadata": {
        "colab": {
          "base_uri": "https://localhost:8080/",
          "height": 645
        },
        "id": "FY-Qn6pa4HOG",
        "outputId": "714c36a1-0e13-4b89-dbd6-a856f0420913"
      },
      "source": [
        "#мы уже нашли ранее \"оптимальный\" порог, когда максимизировали f_score\n",
        "font = {'size' : 15}\n",
        "\n",
        "plt.rc('font', **font)\n",
        "\n",
        "cnf_matrix = confusion_matrix(y_test, y_score_wp>thresholds_wp[ix])\n",
        "plt.figure(figsize=(10, 8))\n",
        "plot_confusion_matrix(cnf_matrix, classes=['Noncardio', 'cardio'],\n",
        "                      title='Confusion matrix')\n",
        "plt.savefig(\"conf_matrix.png\")\n",
        "plt.show()"
      ],
      "execution_count": 25,
      "outputs": [
        {
          "output_type": "stream",
          "text": [
            "Confusion matrix, without normalization\n",
            "[[   4 8816]\n",
            " [   1 8679]]\n"
          ],
          "name": "stdout"
        },
        {
          "output_type": "display_data",
          "data": {
            "image/png": "[encoded data removed]",
            "text/plain": [
              "<Figure size 720x576 with 2 Axes>"
            ]
          },
          "metadata": {
            "tags": [],
            "needs_background": "light"
          }
        }
      ]
    },
    {
      "cell_type": "code",
      "metadata": {
        "colab": {
          "base_uri": "https://localhost:8080/"
        },
        "id": "UEwzFp2Q7pgh",
        "outputId": "0186fb8f-e708-4ca7-ef00-712cf1dc15ef"
      },
      "source": [
        "roc_auc_score_wp = roc_auc_score(y_test, y_score_wp)\n",
        "roc_auc_score_wp"
      ],
      "execution_count": 26,
      "outputs": [
        {
          "output_type": "execute_result",
          "data": {
            "text/plain": [
              "0.7537456242097452"
            ]
          },
          "metadata": {
            "tags": []
          },
          "execution_count": 26
        }
      ]
    },
    {
      "cell_type": "code",
      "metadata": {
        "colab": {
          "base_uri": "https://localhost:8080/"
        },
        "id": "BXzpR8v776Rn",
        "outputId": "219b8d58-e74d-4b09-8088-6a41443af46e"
      },
      "source": [
        "LogReg_without_pipeline = [precision_wp[ix], recall_wp[ix], fscore_wp[ix], roc_auc_score_wp, cv_score_wp]\n",
        "LogReg_without_pipeline"
      ],
      "execution_count": 27,
      "outputs": [
        {
          "output_type": "execute_result",
          "data": {
            "text/plain": [
              "[0.4961133973479652,\n",
              " 1.0,\n",
              " 0.8807644814485708,\n",
              " 0.7537456242097452,\n",
              " 0.7569481024299224]"
            ]
          },
          "metadata": {
            "tags": []
          },
          "execution_count": 27
        }
      ]
    },
    {
      "cell_type": "markdown",
      "metadata": {
        "id": "ZET1lHHCD7eG"
      },
      "source": [
        "## Дерево решений"
      ]
    },
    {
      "cell_type": "code",
      "metadata": {
        "colab": {
          "base_uri": "https://localhost:8080/"
        },
        "id": "bvMFZe2r4Hch",
        "outputId": "c7e0b23d-0b8b-4474-a5f4-8eafd15b2cbe"
      },
      "source": [
        "classifier = Pipeline([\n",
        "    ('features',feats),\n",
        "    ('classifier', DecisionTreeClassifier(max_depth = 5, min_samples_split=10))\n",
        "])\n",
        "\n",
        "##Дерево решений\n",
        "##clf = DecisionTreeClassifier(max_depth = 5, min_samples_split=10)\n",
        "#запустим кросс-валидацию\n",
        "cv_scores = cross_val_score(classifier, X_train, y_train, cv=3, scoring='roc_auc')\n",
        "cv_scoreD = np.mean(cv_scores)\n",
        "print('CV score is {}'.format(cv_scoreD))"
      ],
      "execution_count": 28,
      "outputs": [
        {
          "output_type": "stream",
          "text": [
            "CV score is 0.7908545959180616\n"
          ],
          "name": "stdout"
        }
      ]
    },
    {
      "cell_type": "code",
      "metadata": {
        "colab": {
          "base_uri": "https://localhost:8080/"
        },
        "id": "KGCmIHAt32Xm",
        "outputId": "3f03b459-127e-4b9d-b659-242d50657ca2"
      },
      "source": [
        "classifier.fit(X_train, y_train)"
      ],
      "execution_count": 29,
      "outputs": [
        {
          "output_type": "execute_result",
          "data": {
            "text/plain": [
              "Pipeline(memory=None,\n",
              "         steps=[('features',\n",
              "                 FeatureUnion(n_jobs=None,\n",
              "                              transformer_list=[('age',\n",
              "                                                 Pipeline(memory=None,\n",
              "                                                          steps=[('selector',\n",
              "                                                                  NumberSelector(key='age')),\n",
              "                                                                 ('standard',\n",
              "                                                                  StandardScaler(copy=True,\n",
              "                                                                                 with_mean=True,\n",
              "                                                                                 with_std=True))],\n",
              "                                                          verbose=False)),\n",
              "                                                ('height',\n",
              "                                                 Pipeline(memory=None,\n",
              "                                                          steps=[('selector',\n",
              "                                                                  NumberSelector(key='height')),\n",
              "                                                                 ('standard',\n",
              "                                                                  StandardScaler(c...\n",
              "                              transformer_weights=None, verbose=False)),\n",
              "                ('classifier',\n",
              "                 DecisionTreeClassifier(ccp_alpha=0.0, class_weight=None,\n",
              "                                        criterion='gini', max_depth=5,\n",
              "                                        max_features=None, max_leaf_nodes=None,\n",
              "                                        min_impurity_decrease=0.0,\n",
              "                                        min_impurity_split=None,\n",
              "                                        min_samples_leaf=1,\n",
              "                                        min_samples_split=10,\n",
              "                                        min_weight_fraction_leaf=0.0,\n",
              "                                        presort='deprecated', random_state=None,\n",
              "                                        splitter='best'))],\n",
              "         verbose=False)"
            ]
          },
          "metadata": {
            "tags": []
          },
          "execution_count": 29
        }
      ]
    },
    {
      "cell_type": "code",
      "metadata": {
        "colab": {
          "base_uri": "https://localhost:8080/"
        },
        "id": "XBPZsgQ632nI",
        "outputId": "ae8cc8d8-9bac-4994-a5e4-5e08aa04c79f"
      },
      "source": [
        "y_scoreD = classifier.predict_proba(X_test)[:, 1]\n",
        "len(y_scoreD), y_scoreD"
      ],
      "execution_count": 30,
      "outputs": [
        {
          "output_type": "execute_result",
          "data": {
            "text/plain": [
              "(17500, array([0.12530713, 0.23397731, 0.40981067, ..., 0.12530713, 0.79056047,\n",
              "        0.78745645]))"
            ]
          },
          "metadata": {
            "tags": []
          },
          "execution_count": 30
        }
      ]
    },
    {
      "cell_type": "code",
      "metadata": {
        "colab": {
          "base_uri": "https://localhost:8080/"
        },
        "id": "KQokg8NS32ul",
        "outputId": "edf61977-0266-49da-b2a9-af8f9645b539"
      },
      "source": [
        "precisionD, recallD, thresholdsD = precision_recall_curve(y_test.values, y_scoreD)\n",
        "fscoreD = (1+b**2)*(precisionD * recallD) / (b**2*precisionD + recallD)\n",
        "# locate the index of the largest f score\n",
        "ix = np.argmax(fscoreD)\n",
        "print('Best Threshold=%f, F-Score=%.3f, Precision=%.3f, Recall=%.3f' % (thresholdsD[ix], \n",
        "                                                                        fscoreD[ix],\n",
        "                                                                        precisionD[ix],\n",
        "                                                                        recallD[ix]))"
      ],
      "execution_count": 31,
      "outputs": [
        {
          "output_type": "stream",
          "text": [
            "Best Threshold=0.125000, F-Score=0.881, Precision=0.496, Recall=1.000\n"
          ],
          "name": "stdout"
        }
      ]
    },
    {
      "cell_type": "code",
      "metadata": {
        "colab": {
          "base_uri": "https://localhost:8080/"
        },
        "id": "1nkgVT_a329Z",
        "outputId": "b34b053f-5056-4e46-dd22-4fce5a2a0280"
      },
      "source": [
        "roc_auc_score_D = roc_auc_score(y_test, y_scoreD)\n",
        "roc_auc_score_D"
      ],
      "execution_count": 32,
      "outputs": [
        {
          "output_type": "execute_result",
          "data": {
            "text/plain": [
              "0.7930517087787496"
            ]
          },
          "metadata": {
            "tags": []
          },
          "execution_count": 32
        }
      ]
    },
    {
      "cell_type": "code",
      "metadata": {
        "colab": {
          "base_uri": "https://localhost:8080/"
        },
        "id": "4A3mSaDZ7pel",
        "outputId": "31d93722-1306-451a-d810-b50a44487b17"
      },
      "source": [
        "DT_= [precisionD[ix], recallD[ix], fscoreD[ix], roc_auc_score_D, cv_scoreD]\n",
        "DT_"
      ],
      "execution_count": 33,
      "outputs": [
        {
          "output_type": "execute_result",
          "data": {
            "text/plain": [
              "[0.49602834447682725,\n",
              " 1.0,\n",
              " 0.8807287461438692,\n",
              " 0.7930517087787496,\n",
              " 0.7908545959180616]"
            ]
          },
          "metadata": {
            "tags": []
          },
          "execution_count": 33
        }
      ]
    },
    {
      "cell_type": "code",
      "metadata": {
        "colab": {
          "base_uri": "https://localhost:8080/",
          "height": 645
        },
        "id": "pEeRiuNBmtQ5",
        "outputId": "91b02f04-317e-48ae-bd2a-faed766d7e16"
      },
      "source": [
        "font = {'size' : 15}\n",
        "\n",
        "plt.rc('font', **font)\n",
        "\n",
        "cnf_matrix = confusion_matrix(y_test, y_scoreD>thresholdsD[ix])\n",
        "plt.figure(figsize=(10, 8))\n",
        "plot_confusion_matrix(cnf_matrix, classes=['Noncardio', 'cardio'],\n",
        "                      title='Confusion matrix')\n",
        "plt.savefig(\"conf_matrix.png\")\n",
        "plt.show()"
      ],
      "execution_count": 34,
      "outputs": [
        {
          "output_type": "stream",
          "text": [
            "Confusion matrix, without normalization\n",
            "[[   3 8817]\n",
            " [   1 8679]]\n"
          ],
          "name": "stdout"
        },
        {
          "output_type": "display_data",
          "data": {
            "image/png": "[encoded data removed]",
            "text/plain": [
              "<Figure size 720x576 with 2 Axes>"
            ]
          },
          "metadata": {
            "tags": [],
            "needs_background": "light"
          }
        }
      ]
    },
    {
      "cell_type": "code",
      "metadata": {
        "colab": {
          "base_uri": "https://localhost:8080/"
        },
        "id": "6iwKZ8aX8nPt",
        "outputId": "bed591ad-127a-42ca-84b5-76015e698883"
      },
      "source": [
        "##Дерево решений БЕЗ PIPELINE\n",
        "clf = DecisionTreeClassifier(max_depth = 5, min_samples_split=10)\n",
        "#запустим кросс-валидацию\n",
        "cv_scoresD_wp = cross_val_score(clf, X_train, y_train, cv=3, scoring='roc_auc')\n",
        "cv_scoreD_wp = np.mean(cv_scoresD_wp)\n",
        "print('CV score is {}'.format(cv_scoreD_wp))"
      ],
      "execution_count": 35,
      "outputs": [
        {
          "output_type": "stream",
          "text": [
            "CV score is 0.7907617542506431\n"
          ],
          "name": "stdout"
        }
      ]
    },
    {
      "cell_type": "code",
      "metadata": {
        "colab": {
          "base_uri": "https://localhost:8080/"
        },
        "id": "ahUMnKsl8ne0",
        "outputId": "b885da3b-ebef-4785-b989-858867c7b191"
      },
      "source": [
        "clf.fit(X_train, y_train)"
      ],
      "execution_count": 36,
      "outputs": [
        {
          "output_type": "execute_result",
          "data": {
            "text/plain": [
              "DecisionTreeClassifier(ccp_alpha=0.0, class_weight=None, criterion='gini',\n",
              "                       max_depth=5, max_features=None, max_leaf_nodes=None,\n",
              "                       min_impurity_decrease=0.0, min_impurity_split=None,\n",
              "                       min_samples_leaf=1, min_samples_split=10,\n",
              "                       min_weight_fraction_leaf=0.0, presort='deprecated',\n",
              "                       random_state=None, splitter='best')"
            ]
          },
          "metadata": {
            "tags": []
          },
          "execution_count": 36
        }
      ]
    },
    {
      "cell_type": "code",
      "metadata": {
        "colab": {
          "base_uri": "https://localhost:8080/"
        },
        "id": "rjSoEXdf8nvT",
        "outputId": "2b5937a1-c02b-4dca-a298-dbce92f08f45"
      },
      "source": [
        "y_scoreD_wp = clf.predict_proba(X_test)[:, 1]\n",
        "len(y_scoreD_wp), y_scoreD_wp"
      ],
      "execution_count": 37,
      "outputs": [
        {
          "output_type": "execute_result",
          "data": {
            "text/plain": [
              "(17500, array([0.12530713, 0.23397731, 0.40981067, ..., 0.12530713, 0.83311432,\n",
              "        0.78745645]))"
            ]
          },
          "metadata": {
            "tags": []
          },
          "execution_count": 37
        }
      ]
    },
    {
      "cell_type": "code",
      "metadata": {
        "colab": {
          "base_uri": "https://localhost:8080/"
        },
        "id": "hXC8y4lk8oAa",
        "outputId": "23163b33-978d-41aa-b1b4-947c0c07a884"
      },
      "source": [
        "precisionD_wp, recallD_wp, thresholdsD_wp = precision_recall_curve(y_test.values, y_scoreD_wp)\n",
        "fscoreD_wp = (1+b**2)*(precisionD_wp * recallD_wp) / (b**2*precisionD_wp + recallD_wp)\n",
        "# locate the index of the largest f score\n",
        "ix = np.argmax(fscoreD_wp)\n",
        "print('Best Threshold=%f, F-Score=%.3f, Precision=%.3f, Recall=%.3f' % (thresholdsD_wp[ix], \n",
        "                                                                        fscoreD_wp[ix],\n",
        "                                                                        precisionD_wp[ix],\n",
        "                                                                        recallD_wp[ix]))"
      ],
      "execution_count": 38,
      "outputs": [
        {
          "output_type": "stream",
          "text": [
            "Best Threshold=0.125000, F-Score=0.881, Precision=0.496, Recall=1.000\n"
          ],
          "name": "stdout"
        }
      ]
    },
    {
      "cell_type": "code",
      "metadata": {
        "colab": {
          "base_uri": "https://localhost:8080/"
        },
        "id": "7V0nQa6-8oRo",
        "outputId": "226b736c-cbd1-4877-da7d-dcaa6b873e95"
      },
      "source": [
        "roc_auc_score_D_wp = roc_auc_score(y_test, y_scoreD_wp)\n",
        "roc_auc_score_D_wp"
      ],
      "execution_count": 39,
      "outputs": [
        {
          "output_type": "execute_result",
          "data": {
            "text/plain": [
              "0.7932295291388445"
            ]
          },
          "metadata": {
            "tags": []
          },
          "execution_count": 39
        }
      ]
    },
    {
      "cell_type": "code",
      "metadata": {
        "colab": {
          "base_uri": "https://localhost:8080/"
        },
        "id": "yiN1M85aBIPw",
        "outputId": "96602862-a105-49e2-e76c-09f668941493"
      },
      "source": [
        "DT_without_pipeline= [precisionD_wp[ix], recallD_wp[ix], fscoreD_wp[ix], roc_auc_score_D_wp, cv_scoreD_wp]\n",
        "DT_without_pipeline"
      ],
      "execution_count": 40,
      "outputs": [
        {
          "output_type": "execute_result",
          "data": {
            "text/plain": [
              "[0.49602834447682725,\n",
              " 1.0,\n",
              " 0.8807287461438692,\n",
              " 0.7932295291388445,\n",
              " 0.7907617542506431]"
            ]
          },
          "metadata": {
            "tags": []
          },
          "execution_count": 40
        }
      ]
    },
    {
      "cell_type": "code",
      "metadata": {
        "colab": {
          "base_uri": "https://localhost:8080/",
          "height": 645
        },
        "id": "OhWS49vzBIhO",
        "outputId": "131a1615-70d2-4aae-de56-e81e5562bc7a"
      },
      "source": [
        "font = {'size' : 15}\n",
        "\n",
        "plt.rc('font', **font)\n",
        "\n",
        "cnf_matrix = confusion_matrix(y_test, y_scoreD_wp>thresholdsD_wp[ix])\n",
        "plt.figure(figsize=(10, 8))\n",
        "plot_confusion_matrix(cnf_matrix, classes=['Noncardio', 'cardio'],\n",
        "                      title='Confusion matrix')\n",
        "plt.savefig(\"conf_matrix.png\")\n",
        "plt.show()"
      ],
      "execution_count": 41,
      "outputs": [
        {
          "output_type": "stream",
          "text": [
            "Confusion matrix, without normalization\n",
            "[[   3 8817]\n",
            " [   1 8679]]\n"
          ],
          "name": "stdout"
        },
        {
          "output_type": "display_data",
          "data": {
            "image/png": "[encoded data removed]",
            "text/plain": [
              "<Figure size 720x576 with 2 Axes>"
            ]
          },
          "metadata": {
            "tags": [],
            "needs_background": "light"
          }
        }
      ]
    },
    {
      "cell_type": "markdown",
      "metadata": {
        "id": "BrImG2t4jhhR"
      },
      "source": [
        "## Случайный лес\n"
      ]
    },
    {
      "cell_type": "code",
      "metadata": {
        "id": "V0oB31Xj7pkn",
        "colab": {
          "base_uri": "https://localhost:8080/"
        },
        "outputId": "98d6fa2a-b6f8-4b36-ab0d-4314e6f238fe"
      },
      "source": [
        "classifier = Pipeline([\n",
        "                 ('features',feats),\n",
        "    ('classifier',  RandomForestClassifier (n_estimators= 100, max_depth = 5, min_samples_split=10))\n",
        "])\n",
        "\n",
        "##Случайный лес\n",
        "##clf = RandomForestClassifier (n_estimators= 100, max_depth = 5, min_samples_split=10)\n",
        "#запустим кросс-валидацию\n",
        "cv_scores = cross_val_score(clf, X_train, y_train, cv=3, scoring='roc_auc')\n",
        "cv_scoreF = np.mean(cv_scores)\n",
        "print('CV score is {}'.format(cv_scoreF))"
      ],
      "execution_count": 42,
      "outputs": [
        {
          "output_type": "stream",
          "text": [
            "CV score is 0.7907617542506431\n"
          ],
          "name": "stdout"
        }
      ]
    },
    {
      "cell_type": "code",
      "metadata": {
        "id": "jhRRXTvz7pr8",
        "colab": {
          "base_uri": "https://localhost:8080/"
        },
        "outputId": "ccae7c05-4d72-4ec7-83ee-05dc6e79995c"
      },
      "source": [
        "classifier.fit(X_train, y_train)"
      ],
      "execution_count": 43,
      "outputs": [
        {
          "output_type": "execute_result",
          "data": {
            "text/plain": [
              "Pipeline(memory=None,\n",
              "         steps=[('features',\n",
              "                 FeatureUnion(n_jobs=None,\n",
              "                              transformer_list=[('age',\n",
              "                                                 Pipeline(memory=None,\n",
              "                                                          steps=[('selector',\n",
              "                                                                  NumberSelector(key='age')),\n",
              "                                                                 ('standard',\n",
              "                                                                  StandardScaler(copy=True,\n",
              "                                                                                 with_mean=True,\n",
              "                                                                                 with_std=True))],\n",
              "                                                          verbose=False)),\n",
              "                                                ('height',\n",
              "                                                 Pipeline(memory=None,\n",
              "                                                          steps=[('selector',\n",
              "                                                                  NumberSelector(key='height')),\n",
              "                                                                 ('standard',\n",
              "                                                                  StandardScaler(c...\n",
              "                 RandomForestClassifier(bootstrap=True, ccp_alpha=0.0,\n",
              "                                        class_weight=None, criterion='gini',\n",
              "                                        max_depth=5, max_features='auto',\n",
              "                                        max_leaf_nodes=None, max_samples=None,\n",
              "                                        min_impurity_decrease=0.0,\n",
              "                                        min_impurity_split=None,\n",
              "                                        min_samples_leaf=1,\n",
              "                                        min_samples_split=10,\n",
              "                                        min_weight_fraction_leaf=0.0,\n",
              "                                        n_estimators=100, n_jobs=None,\n",
              "                                        oob_score=False, random_state=None,\n",
              "                                        verbose=0, warm_start=False))],\n",
              "         verbose=False)"
            ]
          },
          "metadata": {
            "tags": []
          },
          "execution_count": 43
        }
      ]
    },
    {
      "cell_type": "code",
      "metadata": {
        "id": "JxfXuTqu7pzF",
        "colab": {
          "base_uri": "https://localhost:8080/"
        },
        "outputId": "66b58e81-34c9-4bb7-8829-c95337a960a4"
      },
      "source": [
        "y_scoreF = classifier.predict_proba(X_test)[:, 1]\n",
        "len(y_scoreF), y_scoreF"
      ],
      "execution_count": 44,
      "outputs": [
        {
          "output_type": "execute_result",
          "data": {
            "text/plain": [
              "(17500, array([0.24878679, 0.29206331, 0.3912897 , ..., 0.21629145, 0.75301093,\n",
              "        0.78237253]))"
            ]
          },
          "metadata": {
            "tags": []
          },
          "execution_count": 44
        }
      ]
    },
    {
      "cell_type": "code",
      "metadata": {
        "id": "UcHDX2oH7p6U",
        "colab": {
          "base_uri": "https://localhost:8080/"
        },
        "outputId": "20d0ea33-9dcb-4472-fb27-1fdb209b3d84"
      },
      "source": [
        "precisionF, recallF, thresholdsF = precision_recall_curve(y_test.values, y_scoreF)\n",
        "fscoreF = (1+b**2)*(precisionF * recallF) / (b**2*precisionF + recallF)\n",
        "# locate the index of the largest f score\n",
        "ix = np.argmax(fscoreF)\n",
        "print('Best Threshold=%f, F-Score=%.3f, Precision=%.3f, Recall=%.3f' % (thresholdsF[ix], \n",
        "                                                                        fscoreF[ix],\n",
        "                                                                        precisionF[ix],\n",
        "                                                                        recallF[ix]))"
      ],
      "execution_count": 45,
      "outputs": [
        {
          "output_type": "stream",
          "text": [
            "Best Threshold=0.231673, F-Score=0.885, Precision=0.515, Recall=0.994\n"
          ],
          "name": "stdout"
        }
      ]
    },
    {
      "cell_type": "code",
      "metadata": {
        "id": "LSektdRg7qQ_",
        "colab": {
          "base_uri": "https://localhost:8080/"
        },
        "outputId": "0489dbcd-be85-4b2d-9942-75e18021dbdf"
      },
      "source": [
        "roc_auc_score_F = roc_auc_score(y_test, y_scoreF)\n",
        "roc_auc_score_F"
      ],
      "execution_count": 46,
      "outputs": [
        {
          "output_type": "execute_result",
          "data": {
            "text/plain": [
              "0.7966268012581377"
            ]
          },
          "metadata": {
            "tags": []
          },
          "execution_count": 46
        }
      ]
    },
    {
      "cell_type": "code",
      "metadata": {
        "id": "5KLB6SSY7qdv",
        "colab": {
          "base_uri": "https://localhost:8080/"
        },
        "outputId": "4d23d163-2016-41dd-9891-9d10ba79d1c7"
      },
      "source": [
        "RF_= [precisionF[ix], recallF[ix], fscoreF[ix], roc_auc_score_F, cv_scoreF]\n",
        "RF_"
      ],
      "execution_count": 47,
      "outputs": [
        {
          "output_type": "execute_result",
          "data": {
            "text/plain": [
              "[0.5154719235364397,\n",
              " 0.9941244239631336,\n",
              " 0.884634717422525,\n",
              " 0.7966268012581377,\n",
              " 0.7907617542506431]"
            ]
          },
          "metadata": {
            "tags": []
          },
          "execution_count": 47
        }
      ]
    },
    {
      "cell_type": "code",
      "metadata": {
        "colab": {
          "base_uri": "https://localhost:8080/",
          "height": 645
        },
        "id": "DSgctmgvoeXS",
        "outputId": "dd2585c7-ba09-4ef9-9d9f-31f04d03f4ff"
      },
      "source": [
        "font = {'size' : 15}\n",
        "\n",
        "plt.rc('font', **font)\n",
        "\n",
        "cnf_matrix = confusion_matrix(y_test, y_scoreF>thresholdsF[ix])\n",
        "plt.figure(figsize=(10, 8))\n",
        "plot_confusion_matrix(cnf_matrix, classes=['Noncardio', 'cardio'],\n",
        "                      title='Confusion matrix')\n",
        "plt.savefig(\"conf_matrix.png\")\n",
        "plt.show()"
      ],
      "execution_count": 48,
      "outputs": [
        {
          "output_type": "stream",
          "text": [
            "Confusion matrix, without normalization\n",
            "[[ 709 8111]\n",
            " [  52 8628]]\n"
          ],
          "name": "stdout"
        },
        {
          "output_type": "display_data",
          "data": {
            "image/png": "[encoded data removed]",
            "text/plain": [
              "<Figure size 720x576 with 2 Axes>"
            ]
          },
          "metadata": {
            "tags": [],
            "needs_background": "light"
          }
        }
      ]
    },
    {
      "cell_type": "code",
      "metadata": {
        "colab": {
          "base_uri": "https://localhost:8080/"
        },
        "id": "31AtZzJZCbUp",
        "outputId": "223c2e17-e2b1-4ffe-88d6-9bff7d11ed09"
      },
      "source": [
        "##Случайный лес БЕЗ PIPELINE\n",
        "clf = RandomForestClassifier (n_estimators= 100, max_depth = 5, min_samples_split=10)\n",
        "#запустим кросс-валидацию\n",
        "cv_scoresF_wp = cross_val_score(clf, X_train, y_train, cv=3, scoring='roc_auc')\n",
        "cv_scoreF_wp = np.mean(cv_scoresF_wp)\n",
        "print('CV score is {}'.format(cv_scoreF_wp))"
      ],
      "execution_count": 49,
      "outputs": [
        {
          "output_type": "stream",
          "text": [
            "CV score is 0.7955546962605006\n"
          ],
          "name": "stdout"
        }
      ]
    },
    {
      "cell_type": "code",
      "metadata": {
        "colab": {
          "base_uri": "https://localhost:8080/"
        },
        "id": "UNTdsNwVCbjq",
        "outputId": "17452857-4d7e-465f-d08d-18cc0bc471ba"
      },
      "source": [
        "clf.fit(X_train, y_train)"
      ],
      "execution_count": 50,
      "outputs": [
        {
          "output_type": "execute_result",
          "data": {
            "text/plain": [
              "RandomForestClassifier(bootstrap=True, ccp_alpha=0.0, class_weight=None,\n",
              "                       criterion='gini', max_depth=5, max_features='auto',\n",
              "                       max_leaf_nodes=None, max_samples=None,\n",
              "                       min_impurity_decrease=0.0, min_impurity_split=None,\n",
              "                       min_samples_leaf=1, min_samples_split=10,\n",
              "                       min_weight_fraction_leaf=0.0, n_estimators=100,\n",
              "                       n_jobs=None, oob_score=False, random_state=None,\n",
              "                       verbose=0, warm_start=False)"
            ]
          },
          "metadata": {
            "tags": []
          },
          "execution_count": 50
        }
      ]
    },
    {
      "cell_type": "code",
      "metadata": {
        "colab": {
          "base_uri": "https://localhost:8080/"
        },
        "id": "jUbSG0reCbxk",
        "outputId": "21059edb-7a80-47bf-d7a0-20b772c58625"
      },
      "source": [
        "y_scoreF_wp = classifier.predict_proba(X_test)[:, 1]\n",
        "len(y_scoreF_wp), y_scoreF_wp"
      ],
      "execution_count": 51,
      "outputs": [
        {
          "output_type": "execute_result",
          "data": {
            "text/plain": [
              "(17500, array([0.24878679, 0.29206331, 0.3912897 , ..., 0.21629145, 0.75301093,\n",
              "        0.78237253]))"
            ]
          },
          "metadata": {
            "tags": []
          },
          "execution_count": 51
        }
      ]
    },
    {
      "cell_type": "code",
      "metadata": {
        "colab": {
          "base_uri": "https://localhost:8080/"
        },
        "id": "lx0VTap_Cb_4",
        "outputId": "f12700fa-e39c-49fd-e9b5-d9d06a295242"
      },
      "source": [
        "precisionF_wp, recallF_wp, thresholdsF_wp = precision_recall_curve(y_test.values, y_scoreF_wp)\n",
        "fscoreF_wp = (1+b**2)*(precisionF_wp * recallF_wp) / (b**2*precisionF_wp + recallF_wp)\n",
        "# locate the index of the largest f score\n",
        "ix = np.argmax(fscoreF_wp)\n",
        "print('Best Threshold=%f, F-Score=%.3f, Precision=%.3f, Recall=%.3f' % (thresholdsF_wp[ix], \n",
        "                                                                        fscoreF_wp[ix],\n",
        "                                                                        precisionF_wp[ix],\n",
        "                                                                        recallF_wp[ix]))"
      ],
      "execution_count": 53,
      "outputs": [
        {
          "output_type": "stream",
          "text": [
            "Best Threshold=0.231673, F-Score=0.885, Precision=0.515, Recall=0.994\n"
          ],
          "name": "stdout"
        }
      ]
    },
    {
      "cell_type": "code",
      "metadata": {
        "colab": {
          "base_uri": "https://localhost:8080/"
        },
        "id": "FZ7o-EelCcPQ",
        "outputId": "840a0299-89cd-4ee4-8c8f-da69beab760d"
      },
      "source": [
        "roc_auc_score_F_wp = roc_auc_score(y_test, y_scoreF_wp)\n",
        "roc_auc_score_F_wp"
      ],
      "execution_count": 54,
      "outputs": [
        {
          "output_type": "execute_result",
          "data": {
            "text/plain": [
              "0.7966268012581377"
            ]
          },
          "metadata": {
            "tags": []
          },
          "execution_count": 54
        }
      ]
    },
    {
      "cell_type": "code",
      "metadata": {
        "colab": {
          "base_uri": "https://localhost:8080/"
        },
        "id": "QZn_lQqomUpL",
        "outputId": "c3a03edc-10fb-4e36-d6da-745df2f0e76d"
      },
      "source": [
        "RF_wp= [precisionF_wp[ix], recallF_wp[ix], fscoreF_wp[ix], roc_auc_score_F_wp, cv_scoreF_wp]\n",
        "RF_wp"
      ],
      "execution_count": 74,
      "outputs": [
        {
          "output_type": "execute_result",
          "data": {
            "text/plain": [
              "[0.5510485832621129,\n",
              " 0.965668202764977,\n",
              " 0.8776494814570839,\n",
              " 0.7966268012581377,\n",
              " 0.7955546962605006]"
            ]
          },
          "metadata": {
            "tags": []
          },
          "execution_count": 74
        }
      ]
    },
    {
      "cell_type": "code",
      "metadata": {
        "colab": {
          "base_uri": "https://localhost:8080/",
          "height": 645
        },
        "id": "e9OHXn17CceS",
        "outputId": "7eb53c44-c439-4712-b61f-7fe27ec228da"
      },
      "source": [
        "font = {'size' : 15}\n",
        "\n",
        "plt.rc('font', **font)\n",
        "\n",
        "cnf_matrix = confusion_matrix(y_test, y_scoreF_wp>thresholdsF_wp[ix])\n",
        "plt.figure(figsize=(10, 8))\n",
        "plot_confusion_matrix(cnf_matrix, classes=['Noncardio', 'cardio'],\n",
        "                      title='Confusion matrix')\n",
        "plt.savefig(\"conf_matrix.png\")\n",
        "plt.show()"
      ],
      "execution_count": 55,
      "outputs": [
        {
          "output_type": "stream",
          "text": [
            "Confusion matrix, without normalization\n",
            "[[ 709 8111]\n",
            " [  52 8628]]\n"
          ],
          "name": "stdout"
        },
        {
          "output_type": "display_data",
          "data": {
            "image/png": "[encoded data removed]",
            "text/plain": [
              "<Figure size 720x576 with 2 Axes>"
            ]
          },
          "metadata": {
            "tags": [],
            "needs_background": "light"
          }
        }
      ]
    },
    {
      "cell_type": "markdown",
      "metadata": {
        "id": "btmsBXeXFf6l"
      },
      "source": [
        "## Градиентный бустинг"
      ]
    },
    {
      "cell_type": "code",
      "metadata": {
        "colab": {
          "base_uri": "https://localhost:8080/"
        },
        "id": "FrGMceOAN6Sm",
        "outputId": "43e24da9-52d2-45cc-a143-820979908960"
      },
      "source": [
        "classifier = Pipeline([\n",
        "                 ('features',feats),\n",
        "    ('classifier',  GradientBoostingClassifier (max_depth=5, n_estimators=70))\n",
        "]) \n",
        "\n",
        "##Градиентный Стохастический бустинг\n",
        "##clf = GradientBoostingClassifier (max_depth=5, n_estimators=70)\n",
        "#запустим кросс-валидацию\n",
        "cv_scores = cross_val_score(classifier, X_train, y_train, cv=3, scoring='roc_auc')\n",
        "cv_scoreG = np.mean(cv_scores)\n",
        "print('CV score is {}'.format(cv_scoreG))"
      ],
      "execution_count": 56,
      "outputs": [
        {
          "output_type": "stream",
          "text": [
            "CV score is 0.8023273522278926\n"
          ],
          "name": "stdout"
        }
      ]
    },
    {
      "cell_type": "code",
      "metadata": {
        "colab": {
          "base_uri": "https://localhost:8080/"
        },
        "id": "g0syeLEaN6kJ",
        "outputId": "3e0072e4-0dca-44b8-db5c-fb09015cc83f"
      },
      "source": [
        "classifier.fit(X_train, y_train)"
      ],
      "execution_count": 57,
      "outputs": [
        {
          "output_type": "execute_result",
          "data": {
            "text/plain": [
              "Pipeline(memory=None,\n",
              "         steps=[('features',\n",
              "                 FeatureUnion(n_jobs=None,\n",
              "                              transformer_list=[('age',\n",
              "                                                 Pipeline(memory=None,\n",
              "                                                          steps=[('selector',\n",
              "                                                                  NumberSelector(key='age')),\n",
              "                                                                 ('standard',\n",
              "                                                                  StandardScaler(copy=True,\n",
              "                                                                                 with_mean=True,\n",
              "                                                                                 with_std=True))],\n",
              "                                                          verbose=False)),\n",
              "                                                ('height',\n",
              "                                                 Pipeline(memory=None,\n",
              "                                                          steps=[('selector',\n",
              "                                                                  NumberSelector(key='height')),\n",
              "                                                                 ('standard',\n",
              "                                                                  StandardScaler(c...\n",
              "                                            learning_rate=0.1, loss='deviance',\n",
              "                                            max_depth=5, max_features=None,\n",
              "                                            max_leaf_nodes=None,\n",
              "                                            min_impurity_decrease=0.0,\n",
              "                                            min_impurity_split=None,\n",
              "                                            min_samples_leaf=1,\n",
              "                                            min_samples_split=2,\n",
              "                                            min_weight_fraction_leaf=0.0,\n",
              "                                            n_estimators=70,\n",
              "                                            n_iter_no_change=None,\n",
              "                                            presort='deprecated',\n",
              "                                            random_state=None, subsample=1.0,\n",
              "                                            tol=0.0001, validation_fraction=0.1,\n",
              "                                            verbose=0, warm_start=False))],\n",
              "         verbose=False)"
            ]
          },
          "metadata": {
            "tags": []
          },
          "execution_count": 57
        }
      ]
    },
    {
      "cell_type": "code",
      "metadata": {
        "colab": {
          "base_uri": "https://localhost:8080/"
        },
        "id": "iExgp2nnN6zD",
        "outputId": "8216f6da-75cb-4b8a-d77e-8e2add27ba24"
      },
      "source": [
        "y_scoreG = classifier.predict_proba(X_test)[:, 1]\n",
        "len(y_scoreG), y_scoreG"
      ],
      "execution_count": 58,
      "outputs": [
        {
          "output_type": "execute_result",
          "data": {
            "text/plain": [
              "(17500, array([0.15681259, 0.20041049, 0.37329573, ..., 0.1220926 , 0.79607573,\n",
              "        0.78567067]))"
            ]
          },
          "metadata": {
            "tags": []
          },
          "execution_count": 58
        }
      ]
    },
    {
      "cell_type": "code",
      "metadata": {
        "colab": {
          "base_uri": "https://localhost:8080/"
        },
        "id": "tKXDgT3AN7Cj",
        "outputId": "fb4b3786-5732-4852-c0eb-4d69a167684b"
      },
      "source": [
        "precisionG, recallG, thresholdsG = precision_recall_curve(y_test.values, y_scoreG)\n",
        "fscoreG = (1+b**2)*(precisionG * recallG) / (b**2*precisionG + recallG)\n",
        "# locate the index of the largest f score\n",
        "ix = np.argmax(fscoreG)\n",
        "print('Best Threshold=%f, F-Score=%.3f, Precision=%.3f, Recall=%.3f' % (thresholdsG[ix], \n",
        "                                                                        fscoreG[ix],\n",
        "                                                                        precisionG[ix],\n",
        "                                                                        recallG[ix]))"
      ],
      "execution_count": 59,
      "outputs": [
        {
          "output_type": "stream",
          "text": [
            "Best Threshold=0.145027, F-Score=0.885, Precision=0.532, Recall=0.986\n"
          ],
          "name": "stdout"
        }
      ]
    },
    {
      "cell_type": "code",
      "metadata": {
        "colab": {
          "base_uri": "https://localhost:8080/",
          "height": 535
        },
        "id": "GQykFAaZN7Qm",
        "outputId": "df66c9e9-0a56-4d80-f2bb-d7a3cc4b13e7"
      },
      "source": [
        "%matplotlib inline\n",
        "sns.set(font_scale=1.5)\n",
        "sns.set_color_codes(\"muted\")\n",
        "\n",
        "plt.figure(figsize=(10, 8))\n",
        "fpr, tpr, thresholds_ = roc_curve(y_test, y_score, pos_label=1)\n",
        "fprD, tprD, thresholds_D= roc_curve(y_test, y_scoreD, pos_label=1)\n",
        "fprF, tprF, thresholds_F= roc_curve(y_test, y_scoreF, pos_label=1)\n",
        "fprG, tprG, thresholds_G = roc_curve(y_test, y_scoreG, pos_label=1)\n",
        "\n",
        "plt.plot(fpr, tpr, color = 'r', label='ROC curve')\n",
        "plt.plot(fprD, tprD, color = 'b', label='ROC curve DT')\n",
        "plt.plot(fprF, tprF, color = 'green', label='ROC curve RF')\n",
        "plt.plot(fprG, tprG, color = 'g', label='ROC curve XGB')\n",
        "\n",
        "plt.plot([0, 1], [0, 1])\n",
        "plt.xlim([0.0, 1.0])\n",
        "plt.ylim([0.0, 1.05])\n",
        "plt.xlabel('False Positive Rate')\n",
        "plt.ylabel('True Positive Rate')\n",
        "plt.title('ROC curve')\n",
        "plt.savefig(\"ROC.png\")\n",
        "plt.show()"
      ],
      "execution_count": 60,
      "outputs": [
        {
          "output_type": "display_data",
          "data": {
            "image/png": "[encoded data removed]",
            "text/plain": [
              "<Figure size 720x576 with 1 Axes>"
            ]
          },
          "metadata": {
            "tags": []
          }
        }
      ]
    },
    {
      "cell_type": "code",
      "metadata": {
        "colab": {
          "base_uri": "https://localhost:8080/"
        },
        "id": "6XBNoGeAN7fJ",
        "outputId": "0910cf9c-e533-49bd-8adc-70b36e8df2d3"
      },
      "source": [
        "roc_auc_score_G = roc_auc_score(y_test, y_scoreG)\n",
        "roc_auc_score_G"
      ],
      "execution_count": 61,
      "outputs": [
        {
          "output_type": "execute_result",
          "data": {
            "text/plain": [
              "0.8028307836191313"
            ]
          },
          "metadata": {
            "tags": []
          },
          "execution_count": 61
        }
      ]
    },
    {
      "cell_type": "code",
      "metadata": {
        "colab": {
          "base_uri": "https://localhost:8080/"
        },
        "id": "1envXLTEN9HN",
        "outputId": "b8031fb5-bfbe-4b3d-ac5c-b881d96b68a1"
      },
      "source": [
        "XG_= [precisionG[ix], recallG[ix], fscoreG[ix], roc_auc_score_G, cv_scoreG]\n",
        "XG_"
      ],
      "execution_count": 62,
      "outputs": [
        {
          "output_type": "execute_result",
          "data": {
            "text/plain": [
              "[0.5319572245710023,\n",
              " 0.9857142857142858,\n",
              " 0.8850847354799748,\n",
              " 0.8028307836191313,\n",
              " 0.8023273522278926]"
            ]
          },
          "metadata": {
            "tags": []
          },
          "execution_count": 62
        }
      ]
    },
    {
      "cell_type": "code",
      "metadata": {
        "colab": {
          "base_uri": "https://localhost:8080/",
          "height": 648
        },
        "id": "LNn0V-2lo2Ij",
        "outputId": "bcc6abbe-6d03-4ffe-c85f-6aafd61e5798"
      },
      "source": [
        "font = {'size' : 15}\n",
        "\n",
        "plt.rc('font', **font)\n",
        "\n",
        "cnf_matrix = confusion_matrix(y_test, y_scoreG>thresholdsG[ix])\n",
        "plt.figure(figsize=(10, 8))\n",
        "plot_confusion_matrix(cnf_matrix, classes=['Noncardio', 'cardio'],\n",
        "                      title='Confusion matrix')\n",
        "plt.savefig(\"conf_matrix.png\")\n",
        "plt.show()"
      ],
      "execution_count": 63,
      "outputs": [
        {
          "output_type": "stream",
          "text": [
            "Confusion matrix, without normalization\n",
            "[[1292 7528]\n",
            " [ 125 8555]]\n"
          ],
          "name": "stdout"
        },
        {
          "output_type": "display_data",
          "data": {
            "image/png": "[encoded data removed]",
            "text/plain": [
              "<Figure size 720x576 with 2 Axes>"
            ]
          },
          "metadata": {
            "tags": []
          }
        }
      ]
    },
    {
      "cell_type": "code",
      "metadata": {
        "colab": {
          "base_uri": "https://localhost:8080/"
        },
        "id": "dSYU9XDRF4NI",
        "outputId": "51ec5b99-d304-45fd-dc97-d1536e9b342b"
      },
      "source": [
        "##Градиентный бустинг БЕЗ PIPLINE\n",
        "clf = GradientBoostingClassifier (max_depth=5, n_estimators=70)\n",
        "#запустим кросс-валидацию\n",
        "cv_scoresG_wp = cross_val_score(clf, X_train, y_train, cv=3, scoring='roc_auc')\n",
        "cv_scoreG_wp = np.mean(cv_scoresG_wp)\n",
        "print('CV score is {}'.format(cv_scoreG_wp))"
      ],
      "execution_count": 64,
      "outputs": [
        {
          "output_type": "stream",
          "text": [
            "CV score is 0.8017282992488014\n"
          ],
          "name": "stdout"
        }
      ]
    },
    {
      "cell_type": "code",
      "metadata": {
        "colab": {
          "base_uri": "https://localhost:8080/"
        },
        "id": "JkSrEirLF4c-",
        "outputId": "02167b4f-2eb1-4926-bd81-9d57de12220f"
      },
      "source": [
        "clf.fit(X_train, y_train)"
      ],
      "execution_count": 65,
      "outputs": [
        {
          "output_type": "execute_result",
          "data": {
            "text/plain": [
              "GradientBoostingClassifier(ccp_alpha=0.0, criterion='friedman_mse', init=None,\n",
              "                           learning_rate=0.1, loss='deviance', max_depth=5,\n",
              "                           max_features=None, max_leaf_nodes=None,\n",
              "                           min_impurity_decrease=0.0, min_impurity_split=None,\n",
              "                           min_samples_leaf=1, min_samples_split=2,\n",
              "                           min_weight_fraction_leaf=0.0, n_estimators=70,\n",
              "                           n_iter_no_change=None, presort='deprecated',\n",
              "                           random_state=None, subsample=1.0, tol=0.0001,\n",
              "                           validation_fraction=0.1, verbose=0,\n",
              "                           warm_start=False)"
            ]
          },
          "metadata": {
            "tags": []
          },
          "execution_count": 65
        }
      ]
    },
    {
      "cell_type": "code",
      "metadata": {
        "colab": {
          "base_uri": "https://localhost:8080/"
        },
        "id": "JarZ15XKF4sq",
        "outputId": "740a97bf-0962-464a-9edf-74122990ca3d"
      },
      "source": [
        "y_scoreG_wp = clf.predict_proba(X_test)[:, 1]\n",
        "len(y_scoreG_wp), y_scoreG_wp"
      ],
      "execution_count": 66,
      "outputs": [
        {
          "output_type": "execute_result",
          "data": {
            "text/plain": [
              "(17500, array([0.14919148, 0.20015847, 0.36565903, ..., 0.11313016, 0.7787979 ,\n",
              "        0.75955929]))"
            ]
          },
          "metadata": {
            "tags": []
          },
          "execution_count": 66
        }
      ]
    },
    {
      "cell_type": "code",
      "metadata": {
        "colab": {
          "base_uri": "https://localhost:8080/"
        },
        "id": "pulZvkZWF48J",
        "outputId": "ffe6dd16-1c5e-4c6c-adba-0585c80176ac"
      },
      "source": [
        "precisionG_wp, recallG_wp, thresholdsG_wp = precision_recall_curve(y_test.values, y_scoreG_wp)\n",
        "fscoreG_wp = (1+b**2)*(precisionG_wp * recallG_wp) / (b**2*precisionG_wp + recallG_wp)\n",
        "# locate the index of the largest f score\n",
        "ix = np.argmax(fscoreG_wp)\n",
        "print('Best Threshold=%f, F-Score=%.3f, Precision=%.3f, Recall=%.3f' % (thresholdsG_wp[ix], \n",
        "                                                                        fscoreG_wp[ix],\n",
        "                                                                        precisionG_wp[ix],\n",
        "                                                                        recallG_wp[ix]))"
      ],
      "execution_count": 67,
      "outputs": [
        {
          "output_type": "stream",
          "text": [
            "Best Threshold=0.155717, F-Score=0.885, Precision=0.536, Recall=0.983\n"
          ],
          "name": "stdout"
        }
      ]
    },
    {
      "cell_type": "code",
      "metadata": {
        "colab": {
          "base_uri": "https://localhost:8080/"
        },
        "id": "V6sQBjn0F5Lp",
        "outputId": "8a8b3177-1014-4276-c089-51d523ba5370"
      },
      "source": [
        "roc_auc_score_G_wp = roc_auc_score(y_test, y_scoreG_wp)\n",
        "roc_auc_score_G_wp"
      ],
      "execution_count": 68,
      "outputs": [
        {
          "output_type": "execute_result",
          "data": {
            "text/plain": [
              "0.8026577505041955"
            ]
          },
          "metadata": {
            "tags": []
          },
          "execution_count": 68
        }
      ]
    },
    {
      "cell_type": "code",
      "metadata": {
        "colab": {
          "base_uri": "https://localhost:8080/"
        },
        "id": "IxkJYFlvF5c3",
        "outputId": "1b4cdd19-e6b2-4f8d-b616-8202db2145a0"
      },
      "source": [
        "XG_wp= [precisionG_wp[ix], recallG_wp[ix], fscoreG_wp[ix], roc_auc_score_G_wp, cv_scoreG_wp]\n",
        "XG_wp"
      ],
      "execution_count": 69,
      "outputs": [
        {
          "output_type": "execute_result",
          "data": {
            "text/plain": [
              "[0.5360507473935435,\n",
              " 0.9832949308755761,\n",
              " 0.8848889360273176,\n",
              " 0.8026577505041955,\n",
              " 0.8017282992488014]"
            ]
          },
          "metadata": {
            "tags": []
          },
          "execution_count": 69
        }
      ]
    },
    {
      "cell_type": "code",
      "metadata": {
        "colab": {
          "base_uri": "https://localhost:8080/",
          "height": 648
        },
        "id": "QBk_GeIMHFNZ",
        "outputId": "323d61ed-287a-41f8-d6fe-f6339d6bc384"
      },
      "source": [
        "font = {'size' : 15}\n",
        "\n",
        "plt.rc('font', **font)\n",
        "\n",
        "cnf_matrix = confusion_matrix(y_test, y_scoreG>thresholdsG_wp[ix])\n",
        "plt.figure(figsize=(10, 8))\n",
        "plot_confusion_matrix(cnf_matrix, classes=['Noncardio', 'cardio'],\n",
        "                      title='Confusion matrix')\n",
        "plt.savefig(\"conf_matrix.png\")\n",
        "plt.show()"
      ],
      "execution_count": 70,
      "outputs": [
        {
          "output_type": "stream",
          "text": [
            "Confusion matrix, without normalization\n",
            "[[1468 7352]\n",
            " [ 155 8525]]\n"
          ],
          "name": "stdout"
        },
        {
          "output_type": "display_data",
          "data": {
            "image/png": "[encoded data removed]",
            "text/plain": [
              "<Figure size 720x576 with 2 Axes>"
            ]
          },
          "metadata": {
            "tags": []
          }
        }
      ]
    },
    {
      "cell_type": "code",
      "metadata": {
        "id": "ALMfgQcHnEg0"
      },
      "source": [
        "Metrics = ['precision', 'recall', 'fscore', 'roc_auc_score', 'cv_score']"
      ],
      "execution_count": 76,
      "outputs": []
    },
    {
      "cell_type": "code",
      "metadata": {
        "id": "pvxWkOQlHFfC",
        "colab": {
          "base_uri": "https://localhost:8080/",
          "height": 202
        },
        "outputId": "f3c59f87-edcc-4a75-8ca7-38e70f0b7793"
      },
      "source": [
        "df = pd.DataFrame({'Metrics': Metrics, 'Log_Reg': LogReg_, 'Log_Reg_wp': LogReg_without_pipeline, 'Des_Tree': DT_, 'Des_Tree_wp': DT_without_pipeline, 'Rand_Forrest': RF_, 'Rand_Forrest_wp': RF_wp, 'Grad_Boost': XG_, 'Grad_Boost_wp': XG_wp})\n",
        "df"
      ],
      "execution_count": 78,
      "outputs": [
        {
          "output_type": "execute_result",
          "data": {
            "text/html": [
              "<div>\n",
              "<style scoped>\n",
              "    .dataframe tbody tr th:only-of-type {\n",
              "        vertical-align: middle;\n",
              "    }\n",
              "\n",
              "    .dataframe tbody tr th {\n",
              "        vertical-align: top;\n",
              "    }\n",
              "\n",
              "    .dataframe thead th {\n",
              "        text-align: right;\n",
              "    }\n",
              "</style>\n",
              "<table border=\"1\" class=\"dataframe\">\n",
              "  <thead>\n",
              "    <tr style=\"text-align: right;\">\n",
              "      <th></th>\n",
              "      <th>Metrics</th>\n",
              "      <th>Log_Reg</th>\n",
              "      <th>Log_Reg_wp</th>\n",
              "      <th>Des_Tree</th>\n",
              "      <th>Des_Tree_wp</th>\n",
              "      <th>Rand_Forrest</th>\n",
              "      <th>Rand_Forrest_wp</th>\n",
              "      <th>Grad_Boost</th>\n",
              "      <th>Grad_Boost_wp</th>\n",
              "    </tr>\n",
              "  </thead>\n",
              "  <tbody>\n",
              "    <tr>\n",
              "      <th>0</th>\n",
              "      <td>precision</td>\n",
              "      <td>0.522936</td>\n",
              "      <td>0.496113</td>\n",
              "      <td>0.496028</td>\n",
              "      <td>0.496028</td>\n",
              "      <td>0.515472</td>\n",
              "      <td>0.551049</td>\n",
              "      <td>0.531957</td>\n",
              "      <td>0.536051</td>\n",
              "    </tr>\n",
              "    <tr>\n",
              "      <th>1</th>\n",
              "      <td>recall</td>\n",
              "      <td>0.985023</td>\n",
              "      <td>1.000000</td>\n",
              "      <td>1.000000</td>\n",
              "      <td>1.000000</td>\n",
              "      <td>0.994124</td>\n",
              "      <td>0.965668</td>\n",
              "      <td>0.985714</td>\n",
              "      <td>0.983295</td>\n",
              "    </tr>\n",
              "    <tr>\n",
              "      <th>2</th>\n",
              "      <td>fscore</td>\n",
              "      <td>0.881232</td>\n",
              "      <td>0.880764</td>\n",
              "      <td>0.880729</td>\n",
              "      <td>0.880729</td>\n",
              "      <td>0.884635</td>\n",
              "      <td>0.877649</td>\n",
              "      <td>0.885085</td>\n",
              "      <td>0.884889</td>\n",
              "    </tr>\n",
              "    <tr>\n",
              "      <th>3</th>\n",
              "      <td>roc_auc_score</td>\n",
              "      <td>0.777537</td>\n",
              "      <td>0.753746</td>\n",
              "      <td>0.793052</td>\n",
              "      <td>0.793230</td>\n",
              "      <td>0.796627</td>\n",
              "      <td>0.796627</td>\n",
              "      <td>0.802831</td>\n",
              "      <td>0.802658</td>\n",
              "    </tr>\n",
              "    <tr>\n",
              "      <th>4</th>\n",
              "      <td>cv_score</td>\n",
              "      <td>0.783212</td>\n",
              "      <td>0.756948</td>\n",
              "      <td>0.790855</td>\n",
              "      <td>0.790762</td>\n",
              "      <td>0.790762</td>\n",
              "      <td>0.795555</td>\n",
              "      <td>0.802327</td>\n",
              "      <td>0.801728</td>\n",
              "    </tr>\n",
              "  </tbody>\n",
              "</table>\n",
              "</div>"
            ],
            "text/plain": [
              "         Metrics   Log_Reg  ...  Grad_Boost  Grad_Boost_wp\n",
              "0      precision  0.522936  ...    0.531957       0.536051\n",
              "1         recall  0.985023  ...    0.985714       0.983295\n",
              "2         fscore  0.881232  ...    0.885085       0.884889\n",
              "3  roc_auc_score  0.777537  ...    0.802831       0.802658\n",
              "4       cv_score  0.783212  ...    0.802327       0.801728\n",
              "\n",
              "[5 rows x 9 columns]"
            ]
          },
          "metadata": {
            "tags": []
          },
          "execution_count": 78
        }
      ]
    },
    {
      "cell_type": "code",
      "metadata": {
        "id": "bpJrBDTRHFx-"
      },
      "source": [
        "Матрица ошибок по всем моделям, кроме Градиентного бустинга одинаковая по значениям (TP, TN, FP, FN) одинаковые: как с нормализацией, так и без. \n",
        "В модели Градиентный бустинг модель без нормализации показывает лучшие показатели по TN , чем модель, построенная на нормализированных данных. Во всех моделях большой FN. \n",
        "Модель практически не распознает FP. Зато предсказывает класс ТP с глубиной 1 или близко к ней."
      ],
      "execution_count": null,
      "outputs": []
    },
    {
      "cell_type": "code",
      "metadata": {
        "id": "9l_U31DKHGBh"
      },
      "source": [
        ""
      ],
      "execution_count": null,
      "outputs": []
    },
    {
      "cell_type": "markdown",
      "metadata": {
        "id": "tPI6O8MuN7tz"
      },
      "source": [
        ""
      ]
    },
    {
      "cell_type": "code",
      "metadata": {
        "id": "YSYrbdj3N8Q2"
      },
      "source": [
        ""
      ],
      "execution_count": null,
      "outputs": []
    },
    {
      "cell_type": "markdown",
      "metadata": {
        "id": "ZGHQHI2zF2cF"
      },
      "source": [
        "1. https://dyakonov.org/2017/07/28/auc-roc-площадь-под-кривой-ошибок/\n",
        "2. https://en.wikipedia.org/wiki/Receiver_operating_characteristic"
      ]
    },
    {
      "cell_type": "code",
      "metadata": {
        "id": "yqErZWuJ3bFM"
      },
      "source": [
        ""
      ],
      "execution_count": null,
      "outputs": []
    },
    {
      "cell_type": "code",
      "metadata": {
        "id": "PgJnsBjd31RJ"
      },
      "source": [
        ""
      ],
      "execution_count": null,
      "outputs": []
    },
    {
      "cell_type": "code",
      "metadata": {
        "id": "ZviyS-GGF2cF"
      },
      "source": [
        ""
      ],
      "execution_count": null,
      "outputs": []
    },
    {
      "cell_type": "code",
      "metadata": {
        "id": "lMO3tyXaGmT6"
      },
      "source": [
        ""
      ],
      "execution_count": null,
      "outputs": []
    }
  ]
}
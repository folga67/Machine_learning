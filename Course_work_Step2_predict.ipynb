{
  "nbformat": 4,
  "nbformat_minor": 0,
  "metadata": {
    "kernelspec": {
      "display_name": "Python 3",
      "language": "python",
      "name": "python3"
    },
    "language_info": {
      "codemirror_mode": {
        "name": "ipython",
        "version": 3
      },
      "file_extension": ".py",
      "mimetype": "text/x-python",
      "name": "python",
      "nbconvert_exporter": "python",
      "pygments_lexer": "ipython3",
      "version": "3.8.3"
    },
    "colab": {
      "name": "Step2_predict.ipynb",
      "provenance": [],
      "collapsed_sections": [],
      "include_colab_link": true
    }
  },
  "cells": [
    {
      "cell_type": "markdown",
      "metadata": {
        "id": "view-in-github",
        "colab_type": "text"
      },
      "source": [
        "<a href=\"https://colab.research.google.com/github/folga67/data_mining/blob/master/Course_work_Step2_predict.ipynb\" target=\"_parent\"><img src=\"https://colab.research.google.com/assets/colab-badge.svg\" alt=\"Open In Colab\"/></a>"
      ]
    },
    {
      "cell_type": "markdown",
      "metadata": {
        "id": "2fop5yrPnI4x"
      },
      "source": [
        "### Проверка работоспособности и качества пайплайна\n",
        "\n",
        "Здесь мы еще не запускаем никакое API, а загружаем модель (pipeline) напрямую и проверяем на отложенной (тестовой) выборке"
      ]
    },
    {
      "cell_type": "code",
      "metadata": {
        "colab": {
          "base_uri": "https://localhost:8080/"
        },
        "id": "0ISs5a2ynPmh",
        "outputId": "1022724f-8d71-4cc9-ac01-c0538398e1f0"
      },
      "source": [
        "from google.colab import drive\n",
        "drive.mount('/content/drive')"
      ],
      "execution_count": null,
      "outputs": [
        {
          "output_type": "stream",
          "text": [
            "Mounted at /content/drive\n"
          ],
          "name": "stdout"
        }
      ]
    },
    {
      "cell_type": "code",
      "metadata": {
        "colab": {
          "base_uri": "https://localhost:8080/"
        },
        "id": "463ljm7unI4y",
        "outputId": "5c71fa32-5235-42aa-f8ce-845be0eb9812"
      },
      "source": [
        "import pandas as pd\n",
        "from sklearn.metrics import roc_auc_score,roc_curve,scorer\n",
        "import dill\n",
        "dill._dill._reverse_typemap['ClassType'] = type"
      ],
      "execution_count": null,
      "outputs": [
        {
          "output_type": "stream",
          "text": [
            "/usr/local/lib/python3.7/dist-packages/sklearn/utils/deprecation.py:144: FutureWarning: The sklearn.metrics.scorer module is  deprecated in version 0.22 and will be removed in version 0.24. The corresponding classes / functions should instead be imported from sklearn.metrics. Anything that cannot be imported from sklearn.metrics is now part of the private API.\n",
            "  warnings.warn(message, FutureWarning)\n"
          ],
          "name": "stderr"
        }
      ]
    },
    {
      "cell_type": "code",
      "metadata": {
        "id": "KiTDiOT-nI4z"
      },
      "source": [
        "X_test = pd.read_csv(\"/content/drive/MyDrive/Colab Notebooks/course_work/X_test.csv\")\n",
        "y_test = pd.read_csv(\"/content/drive/MyDrive/Colab Notebooks/course_work/y_test.csv\")"
      ],
      "execution_count": null,
      "outputs": []
    },
    {
      "cell_type": "code",
      "metadata": {
        "scrolled": true,
        "id": "mH2o7IQUnI4z",
        "outputId": "f6f6bba0-8053-4e11-88b6-d65340d06483"
      },
      "source": [
        "X_test.head(3)"
      ],
      "execution_count": null,
      "outputs": [
        {
          "output_type": "execute_result",
          "data": {
            "text/html": [
              "<div>\n",
              "<style scoped>\n",
              "    .dataframe tbody tr th:only-of-type {\n",
              "        vertical-align: middle;\n",
              "    }\n",
              "\n",
              "    .dataframe tbody tr th {\n",
              "        vertical-align: top;\n",
              "    }\n",
              "\n",
              "    .dataframe thead th {\n",
              "        text-align: right;\n",
              "    }\n",
              "</style>\n",
              "<table border=\"1\" class=\"dataframe\">\n",
              "  <thead>\n",
              "    <tr style=\"text-align: right;\">\n",
              "      <th></th>\n",
              "      <th>job_id</th>\n",
              "      <th>title</th>\n",
              "      <th>location</th>\n",
              "      <th>department</th>\n",
              "      <th>salary_range</th>\n",
              "      <th>company_profile</th>\n",
              "      <th>description</th>\n",
              "      <th>requirements</th>\n",
              "      <th>benefits</th>\n",
              "      <th>telecommuting</th>\n",
              "      <th>has_company_logo</th>\n",
              "      <th>has_questions</th>\n",
              "      <th>employment_type</th>\n",
              "      <th>required_experience</th>\n",
              "      <th>required_education</th>\n",
              "      <th>industry</th>\n",
              "      <th>function</th>\n",
              "      <th>fraudulent</th>\n",
              "    </tr>\n",
              "  </thead>\n",
              "  <tbody>\n",
              "    <tr>\n",
              "      <th>0</th>\n",
              "      <td>4709</td>\n",
              "      <td>Python Engineer</td>\n",
              "      <td>GB, , London</td>\n",
              "      <td>NaN</td>\n",
              "      <td>NaN</td>\n",
              "      <td>NaN</td>\n",
              "      <td>Stylect is a dynamic startup that helps helps ...</td>\n",
              "      <td>We don’t care where you studied or what your G...</td>\n",
              "      <td>We are negotiable on salary and there is the p...</td>\n",
              "      <td>0</td>\n",
              "      <td>1</td>\n",
              "      <td>0</td>\n",
              "      <td>Full-time</td>\n",
              "      <td>Entry level</td>\n",
              "      <td>Unspecified</td>\n",
              "      <td>Apparel &amp; Fashion</td>\n",
              "      <td>Information Technology</td>\n",
              "      <td>0</td>\n",
              "    </tr>\n",
              "    <tr>\n",
              "      <th>1</th>\n",
              "      <td>11080</td>\n",
              "      <td>Entry Level Sales</td>\n",
              "      <td>US, OH, Cincinnati</td>\n",
              "      <td>NaN</td>\n",
              "      <td>55000-75000</td>\n",
              "      <td>NaN</td>\n",
              "      <td>General Summary: Achieves maximum sales profit...</td>\n",
              "      <td>NaN</td>\n",
              "      <td>Great Health and DentalFast Advancement Opport...</td>\n",
              "      <td>1</td>\n",
              "      <td>0</td>\n",
              "      <td>0</td>\n",
              "      <td>Full-time</td>\n",
              "      <td>Entry level</td>\n",
              "      <td>High School or equivalent</td>\n",
              "      <td>Financial Services</td>\n",
              "      <td>Sales</td>\n",
              "      <td>0</td>\n",
              "    </tr>\n",
              "    <tr>\n",
              "      <th>2</th>\n",
              "      <td>12358</td>\n",
              "      <td>Agile Project Manager</td>\n",
              "      <td>US, NY, New York</td>\n",
              "      <td>NaN</td>\n",
              "      <td>NaN</td>\n",
              "      <td>ustwo offers you the opportunity to be yoursel...</td>\n",
              "      <td>At ustwo™ you get to be yourself, whilst deliv...</td>\n",
              "      <td>Skills• Experience interfacing directly with c...</td>\n",
              "      <td>NaN</td>\n",
              "      <td>0</td>\n",
              "      <td>1</td>\n",
              "      <td>0</td>\n",
              "      <td>NaN</td>\n",
              "      <td>NaN</td>\n",
              "      <td>NaN</td>\n",
              "      <td>NaN</td>\n",
              "      <td>NaN</td>\n",
              "      <td>0</td>\n",
              "    </tr>\n",
              "  </tbody>\n",
              "</table>\n",
              "</div>"
            ],
            "text/plain": [
              "   job_id                  title            location department salary_range  \\\n",
              "0    4709        Python Engineer        GB, , London        NaN          NaN   \n",
              "1   11080      Entry Level Sales  US, OH, Cincinnati        NaN  55000-75000   \n",
              "2   12358  Agile Project Manager    US, NY, New York        NaN          NaN   \n",
              "\n",
              "                                     company_profile  \\\n",
              "0                                                NaN   \n",
              "1                                                NaN   \n",
              "2  ustwo offers you the opportunity to be yoursel...   \n",
              "\n",
              "                                         description  \\\n",
              "0  Stylect is a dynamic startup that helps helps ...   \n",
              "1  General Summary: Achieves maximum sales profit...   \n",
              "2  At ustwo™ you get to be yourself, whilst deliv...   \n",
              "\n",
              "                                        requirements  \\\n",
              "0  We don’t care where you studied or what your G...   \n",
              "1                                                NaN   \n",
              "2  Skills• Experience interfacing directly with c...   \n",
              "\n",
              "                                            benefits  telecommuting  \\\n",
              "0  We are negotiable on salary and there is the p...              0   \n",
              "1  Great Health and DentalFast Advancement Opport...              1   \n",
              "2                                                NaN              0   \n",
              "\n",
              "   has_company_logo  has_questions employment_type required_experience  \\\n",
              "0                 1              0       Full-time         Entry level   \n",
              "1                 0              0       Full-time         Entry level   \n",
              "2                 1              0             NaN                 NaN   \n",
              "\n",
              "          required_education            industry                function  \\\n",
              "0                Unspecified   Apparel & Fashion  Information Technology   \n",
              "1  High School or equivalent  Financial Services                   Sales   \n",
              "2                        NaN                 NaN                     NaN   \n",
              "\n",
              "   fraudulent  \n",
              "0           0  \n",
              "1           0  \n",
              "2           0  "
            ]
          },
          "metadata": {
            "tags": []
          },
          "execution_count": 3
        }
      ]
    },
    {
      "cell_type": "code",
      "metadata": {
        "id": "18ti8fnsnI40"
      },
      "source": [
        "with open('/content/drive/MyDrive/Colab Notebooks/course_work/xgb_pipeline.dill', 'rb') as in_strm:\n",
        "    pipeline = dill.load(in_strm)"
      ],
      "execution_count": null,
      "outputs": []
    },
    {
      "cell_type": "code",
      "metadata": {
        "id": "Hp5sDZS2oVyF"
      },
      "source": [
        "predictions = pipeline.predict_proba(X_test.iloc[:500])\n",
        "pd.DataFrame({'preds': predictions[:, 1]}).to_csv(\"test_predictions.csv\", index=None)"
      ],
      "execution_count": null,
      "outputs": []
    },
    {
      "cell_type": "code",
      "metadata": {
        "id": "DxvRjJfgnI41",
        "outputId": "3a37d4ba-7a9d-4185-f746-9d919873eca9"
      },
      "source": [
        "###predictions = pipeline.predict_proba(X_test.iloc[:500])\n",
        "pd.DataFrame({'preds': predictions[:, 1]}).to_csv(\"test_predictions.csv\", index=None)"
      ],
      "execution_count": null,
      "outputs": [
        {
          "output_type": "stream",
          "text": [
            "/Users/artemzraev/anaconda3/lib/python3.7/site-packages/ipykernel_launcher.py:21: SettingWithCopyWarning: \n",
            "A value is trying to be set on a copy of a slice from a DataFrame.\n",
            "Try using .loc[row_indexer,col_indexer] = value instead\n",
            "\n",
            "See the caveats in the documentation: https://pandas.pydata.org/pandas-docs/stable/user_guide/indexing.html#returning-a-view-versus-a-copy\n",
            "/Users/artemzraev/anaconda3/lib/python3.7/site-packages/ipykernel_launcher.py:21: SettingWithCopyWarning: \n",
            "A value is trying to be set on a copy of a slice from a DataFrame.\n",
            "Try using .loc[row_indexer,col_indexer] = value instead\n",
            "\n",
            "See the caveats in the documentation: https://pandas.pydata.org/pandas-docs/stable/user_guide/indexing.html#returning-a-view-versus-a-copy\n",
            "/Users/artemzraev/anaconda3/lib/python3.7/site-packages/ipykernel_launcher.py:21: SettingWithCopyWarning: \n",
            "A value is trying to be set on a copy of a slice from a DataFrame.\n",
            "Try using .loc[row_indexer,col_indexer] = value instead\n",
            "\n",
            "See the caveats in the documentation: https://pandas.pydata.org/pandas-docs/stable/user_guide/indexing.html#returning-a-view-versus-a-copy\n"
          ],
          "name": "stderr"
        }
      ]
    },
    {
      "cell_type": "code",
      "metadata": {
        "colab": {
          "base_uri": "https://localhost:8080/"
        },
        "id": "15uuBdXAopkL",
        "outputId": "d122aa65-cd1e-4cde-a5f9-818582d303d1"
      },
      "source": [
        "roc_auc_score(y_score=predictions[:, 1][:], y_true=y_test.iloc[:500])"
      ],
      "execution_count": null,
      "outputs": [
        {
          "output_type": "execute_result",
          "data": {
            "text/plain": [
              "0.7689501039501039"
            ]
          },
          "metadata": {
            "tags": []
          },
          "execution_count": 8
        }
      ]
    },
    {
      "cell_type": "code",
      "metadata": {
        "id": "o5IoVQTJnI41",
        "outputId": "c5e4b129-aa05-49ae-b2f8-415431827f2a"
      },
      "source": [
        "###roc_auc_score(y_score=predictions[:, 1][:], y_true=y_test.iloc[:500])"
      ],
      "execution_count": null,
      "outputs": [
        {
          "output_type": "execute_result",
          "data": {
            "text/plain": [
              "0.9803161348046525"
            ]
          },
          "metadata": {
            "tags": []
          },
          "execution_count": 9
        }
      ]
    },
    {
      "cell_type": "code",
      "metadata": {
        "id": "_enC8-eOnI41"
      },
      "source": [
        ""
      ],
      "execution_count": null,
      "outputs": []
    }
  ]
}